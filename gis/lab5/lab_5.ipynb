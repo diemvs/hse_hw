{
 "cells": [
  {
   "cell_type": "markdown",
   "metadata": {},
   "source": [
    "# Основы сетевого анализа + Создание сетки кварталов + Зональная статистика\n"
   ]
  },
  {
   "cell_type": "markdown",
   "metadata": {},
   "source": [
    "## 1.Графы улично-дорожной сети из osmnx\n"
   ]
  },
  {
   "cell_type": "markdown",
   "metadata": {},
   "source": [
    "Библиотека osmnx предоставляет удобные инструменты для работы с улично-дорожной сетью как с графом.\n",
    "\n",
    "Графы в osmnx представляют собой математические структуры, где:\n",
    "\n",
    "- Узлы (nodes) — это объекты на уличной сети, например, перекрестки или конечные точки дорог.\n",
    "- Ребра (edges) — это соединения между узлами, то есть сегменты дорог, улиц или других типов инфраструктуры.\n",
    "\n",
    "В osmnx используется структура графа, где ребра могут содержать информацию о расстояниях, времени в пути, типах дорог и других характеристиках транспортной сети. С помощью этого подхода можно анализировать доступность, проводить сетевой анализ, искать кратчайшие пути, строить зоны доступности и многое другое.\n"
   ]
  },
  {
   "cell_type": "code",
   "execution_count": null,
   "metadata": {},
   "outputs": [],
   "source": [
    "import osmnx as ox\n",
    "import geopandas as gpd\n",
    "import networkx as nx\n",
    "import matplotlib.pyplot as plt\n",
    "import numpy as np"
   ]
  },
  {
   "cell_type": "markdown",
   "metadata": {},
   "source": [
    "### 1.1 Получение графа уличной сети\n"
   ]
  },
  {
   "cell_type": "markdown",
   "metadata": {},
   "source": [
    "Сначала создадим граф для района с использованием данных OpenStreetMap (OSM).\n"
   ]
  },
  {
   "cell_type": "code",
   "execution_count": null,
   "metadata": {},
   "outputs": [],
   "source": [
    "# Указываем район (например, Ленинский район Екатеринбурга)\n",
    "location = \"Ленинский район, Екатеринбург\"\n",
    "\n",
    "# Получаем граф уличной сети для района с типом \"drive\" (автомобильный)\n",
    "graph = ox.graph_from_place(location, network_type='drive')\n",
    "\n",
    "# Строим граф\n",
    "ox.plot_graph(ox.project_graph(graph))"
   ]
  },
  {
   "cell_type": "markdown",
   "metadata": {},
   "source": [
    "### 1.2 Преобразование графа в GeoDataFrame\n"
   ]
  },
  {
   "cell_type": "markdown",
   "metadata": {},
   "source": [
    "Для анализа и визуализации данных можно преобразовать граф в геометрический формат, например, в GeoDataFrame, чтобы работать с линиями и узлами как с геометриями\n"
   ]
  },
  {
   "cell_type": "code",
   "execution_count": null,
   "metadata": {},
   "outputs": [],
   "source": [
    "# Получаем узлы и ребра в формате GeoDataFrame\n",
    "nodes, edges = ox.graph_to_gdfs(graph)\n",
    "\n",
    "# Визуализируем ребра\n",
    "edges.plot(figsize=(10, 10), color='blue')\n"
   ]
  },
  {
   "cell_type": "markdown",
   "metadata": {},
   "source": [
    "## 2. Пространственный сетевой анализ и networkx\n"
   ]
  },
  {
   "cell_type": "markdown",
   "metadata": {},
   "source": [
    "### 2.1 Поиск кратчайшего пути между двумя точками\n"
   ]
  },
  {
   "cell_type": "markdown",
   "metadata": {},
   "source": [
    "Одним из наиболее распространенных применений сетевого анализа является нахождение кратчайшего пути между двумя точками\n"
   ]
  },
  {
   "cell_type": "code",
   "execution_count": null,
   "metadata": {},
   "outputs": [],
   "source": [
    "# Указываем стартовую и конечную точки \n",
    "start_coords = (60.6572, 56.8385) \n",
    "end_coords = (60.6570, 56.8100)    \n",
    "\n",
    "# Преобразуем координаты в узлы графа\n",
    "start_node = ox.distance.nearest_nodes(graph, X=start_coords[0], Y=start_coords[1])\n",
    "end_node = ox.distance.nearest_nodes(graph, X=end_coords[0], Y=end_coords[1])\n",
    "\n",
    "# Находим кратчайший путь между двумя узлами\n",
    "route = nx.shortest_path(graph, source=start_node, target=end_node, weight='length')\n",
    "\n",
    "# Визуализируем маршрут\n",
    "ox.plot_graph_route(graph, route, route_linewidth=6, node_size=0, bgcolor='k')\n"
   ]
  },
  {
   "cell_type": "markdown",
   "metadata": {},
   "source": [
    "Кратчайший путь между POI\n"
   ]
  },
  {
   "cell_type": "code",
   "execution_count": null,
   "metadata": {},
   "outputs": [],
   "source": [
    "# Загружаем POI (например, рестораны)\n",
    "pois = ox.geometries_from_place(location, tags={\"amenity\": \"restaurant\"})\n",
    "\n",
    "# Конвертация POI в ту же систему координат, что и граф\n",
    "pois = pois.to_crs(graph.graph[\"crs\"])\n",
    "\n",
    "# Выбираем две случайные точки из pois\n",
    "random_points = pois.sample(n=2, random_state=42) \n",
    "poi_1 = random_points.iloc[0].geometry\n",
    "poi_2 = random_points.iloc[1].geometry\n",
    "\n",
    "# Шаг 2: Поиск ближайших узлов графа к POI\n",
    "orig_node = ox.distance.nearest_nodes(graph, X=poi_1.x, Y=poi_1.y)\n",
    "dest_node = ox.distance.nearest_nodes(graph, X=poi_2.x, Y=poi_2.y)\n",
    "\n",
    "# Шаг 3: Кратчайший путь\n",
    "shortest_path = nx.shortest_path(graph, source=orig_node, target=dest_node, weight=\"length\")\n",
    "shortest_distance = nx.shortest_path_length(graph, source=orig_node, target=dest_node, weight=\"length\")\n",
    "\n",
    "print(\"Shortest path:\", shortest_path)\n",
    "print(\"Shortest distance (meters):\", shortest_distance)\n",
    "\n",
    "# Визуализация\n",
    "ox.plot_graph_route(graph, shortest_path, route_linewidth=2, node_size=0, bgcolor=\"white\")\n"
   ]
  },
  {
   "cell_type": "markdown",
   "metadata": {},
   "source": [
    "### 2.2 Вычисление центральности в узле графов\n"
   ]
  },
  {
   "cell_type": "markdown",
   "metadata": {},
   "source": [
    "Центральность узлов в графе помогает определить важность каждого узла в сети.\n",
    "\n",
    "Существует несколько типов центральности, которые могут быть использованы в зависимости от задачи:\n",
    "\n",
    "1. Центральность по степени (Degree Centrality) — измеряет количество связей (ребер), которые имеет узел. Узлы с высокой степенью центральности считаются важными, потому что они подключены к большому числу других узлов.\n",
    "\n",
    "2. Центральность по посредничеству (Betweenness Centrality) — измеряет, насколько часто узел находится на кратчайших путях между другими узлами. Узлы с высокой центральностью между отношениями являются \"мостами\", которые связывают различные части сети.\n",
    "\n",
    "3. Центральность по близости (Closeness Centrality) — измеряет, насколько близко узел расположен к остальным узлам в сети. Узлы с высокой центральностью по близости быстро достигают других узлов, что делает их важными для распространения информации.\n"
   ]
  },
  {
   "cell_type": "code",
   "execution_count": null,
   "metadata": {},
   "outputs": [],
   "source": [
    "# Преобразуем в проекцию UTM для удобства расчетов\n",
    "graph_projected = ox.project_graph(graph)\n",
    "\n",
    "# Центральность по степени\n",
    "degree_centrality = nx.degree_centrality(graph_projected)\n",
    "\n",
    "# Центральность по посредничеству  (betweenness centrality)\n",
    "betweenness_centrality = nx.betweenness_centrality(graph_projected, weight='length')\n",
    "\n",
    "# Центральность по близости\n",
    "closeness_centrality = nx.closeness_centrality(graph_projected)"
   ]
  },
  {
   "cell_type": "markdown",
   "metadata": {},
   "source": [
    "Центральность по степени: На карте уличной сети выделяются наиболее \"связанные\" узлы.\n"
   ]
  },
  {
   "cell_type": "code",
   "execution_count": null,
   "metadata": {},
   "outputs": [],
   "source": [
    "# Визуализация центральности по степени\n",
    "fig, ax = plt.subplots(figsize=(10, 10))\n",
    "node_sizes = [v * 1000 for v in degree_centrality.values()] \n",
    "\n",
    "ox.plot_graph(graph_projected, node_size=node_sizes, node_color='red', bgcolor='white', ax=ax)\n",
    "plt.title(\"Центральность по степени\")\n",
    "\n",
    "plt.show()"
   ]
  },
  {
   "cell_type": "markdown",
   "metadata": {},
   "source": [
    "Центральность по посредничеству : Отображение узлов, которые служат \"мостами\" между различными частями сети.\n"
   ]
  },
  {
   "cell_type": "code",
   "execution_count": null,
   "metadata": {},
   "outputs": [],
   "source": [
    "# Визуализация центральности по посредничеству \n",
    "fig, ax = plt.subplots(figsize=(10, 10))\n",
    "node_sizes = [v * 1000 for v in betweenness_centrality.values()]\n",
    "\n",
    "ox.plot_graph(graph_projected, node_size=node_sizes, node_color='blue', bgcolor='white', ax=ax)\n",
    "plt.title(\"Центральность по посредничеству \")\n",
    "plt.show()\n"
   ]
  },
  {
   "cell_type": "markdown",
   "metadata": {},
   "source": [
    "Центральность по близости: Выделение узлов, которые могут быстро достигать других узлов в сети.\n"
   ]
  },
  {
   "cell_type": "code",
   "execution_count": null,
   "metadata": {},
   "outputs": [],
   "source": [
    "# Визуализация центральности по близости\n",
    "fig, ax = plt.subplots(figsize=(10, 10))\n",
    "node_sizes = [v * 1000 for v in closeness_centrality.values()]\n",
    "\n",
    "ox.plot_graph(graph_projected, node_size=node_sizes, node_color='green', bgcolor='white', ax=ax)\n",
    "plt.title(\"Центральность по близости\")\n",
    "plt.show()"
   ]
  },
  {
   "cell_type": "markdown",
   "metadata": {},
   "source": [
    "### 2.3 Нахождение компонент связности в графе\n",
    "\n",
    "Компоненты связности — это подмножества узлов, которые соединены друг с другом рёбрами, и нет рёбер между компонентами. Этот анализ полезен для изучения сегментации сети.\n"
   ]
  },
  {
   "cell_type": "code",
   "execution_count": null,
   "metadata": {},
   "outputs": [],
   "source": [
    "# Находим компоненты связности в графе\n",
    "components = list(nx.connected_components(graph.to_undirected()))\n",
    "\n",
    "# Выводим количество компонент и размер первой компоненты\n",
    "print(f\"Количество компонент связности: {len(components)}\")\n",
    "print(f\"Размер первой компоненты: {len(components[0])}\")"
   ]
  },
  {
   "cell_type": "markdown",
   "metadata": {},
   "source": [
    "- Мы находим компоненты связности в графе, преобразуя его в неориентированный граф.\n",
    "- Выводим количество компонент и размер первой компоненты.\n",
    "- Этот анализ помогает понять, насколько сеть разделена на отдельные части.\n"
   ]
  },
  {
   "cell_type": "markdown",
   "metadata": {},
   "source": [
    "### 2.4 Вычисление матрицы расстояний между узлами\n"
   ]
  },
  {
   "cell_type": "markdown",
   "metadata": {},
   "source": [
    "Матрица расстояний между всеми узлами графа полезна для анализа, чтобы понять, как далеко друг от друга находятся узлы в сети.\n"
   ]
  },
  {
   "cell_type": "code",
   "execution_count": null,
   "metadata": {},
   "outputs": [],
   "source": [
    "# Вычисляем матрицу расстояний между всеми узлами\n",
    "distance_matrix = dict(nx.all_pairs_dijkstra_path_length(graph, weight='length'))\n",
    "\n",
    "# Пример: Расстояние от первого узла до всех других\n",
    "first_node = list(graph.nodes())[0]\n",
    "distances_from_first_node = distance_matrix[first_node]\n",
    "\n",
    "# Выводим первые 5 расстояний\n",
    "print(list(distances_from_first_node.items())[:5])"
   ]
  },
  {
   "cell_type": "markdown",
   "metadata": {},
   "source": [
    "- Мы вычисляем матрицу расстояний между всеми узлами с использованием алгоритма Дейкстры.\n",
    "- Выводим расстояния от первого узла до других узлов в графе.\n",
    "- Эта информация полезна для анализа доступности и плотности сети.\n"
   ]
  },
  {
   "cell_type": "markdown",
   "metadata": {},
   "source": [
    "### 2.5 Изохроны (пешеходная доступность)\n",
    "\n",
    "Изохроны представляют собой области, которые можно достичь за определенный промежуток времени. Например, можно построить изохрону, которая охватывает территорию, которую можно достичь за 15 минут пешком.\n"
   ]
  },
  {
   "cell_type": "code",
   "execution_count": null,
   "metadata": {},
   "outputs": [],
   "source": [
    "# Указываем координаты начальной точки (например, центр Ленинского района)\n",
    "start_coords = (60.6572, 56.8385)\n",
    "\n",
    "# Преобразуем координаты в узел графа\n",
    "start_node = ox.distance.nearest_nodes(graph, X=start_coords[0], Y=start_coords[1])\n",
    "\n",
    "# Определяем максимальный радиус для изохроны (например, 15 минут пешеходного пути)\n",
    "max_time = 15 * 60  # Время в секундах (15 минут)\n",
    "\n",
    "# Строим подграф (зону доступности) вокруг ближайшего узла\n",
    "subgraph = nx.ego_graph(graph, start_node, radius=max_time, distance='length')\n",
    "\n"
   ]
  },
  {
   "cell_type": "code",
   "execution_count": null,
   "metadata": {},
   "outputs": [],
   "source": [
    "ox.plot_graph(subgraph)"
   ]
  },
  {
   "cell_type": "code",
   "execution_count": null,
   "metadata": {},
   "outputs": [],
   "source": [
    "# Получаем геометрию зоны доступности (линии)\n",
    "area = ox.convert.graph_to_gdfs(subgraph, nodes=False, edges=True)\n",
    "\n",
    "# Объединяем все линии в одну геометрию\n",
    "service_area_lines = area.geometry.unary_union\n",
    "\n",
    "# Создаем ограничивающую геометрию вокруг участка УДС\n",
    "isochrone = service_area_lines.convex_hull\n",
    "\n",
    "# Визуализируем\n",
    "fig, ax = plt.subplots(figsize=(8, 8))\n",
    "area.plot(ax=ax, color='lightgray', linewidth=1)\n",
    "gpd.GeoSeries([isochrone]).plot(ax=ax, color='red', alpha=0.5)\n",
    "ax.set_title(\"Isochrone for 15 minutes walk\", fontsize=15)\n",
    "plt.show()\n",
    "\n"
   ]
  },
  {
   "cell_type": "markdown",
   "metadata": {},
   "source": [
    "## 3. Пространственный сетевой анализ с использованием внешних API\n"
   ]
  },
  {
   "cell_type": "markdown",
   "metadata": {},
   "source": [
    "Множество сервисов и библиотек предоставляют готовые решения для работы с пространственными сетями\n"
   ]
  },
  {
   "cell_type": "markdown",
   "metadata": {},
   "source": [
    "### 3.1. [OSRM](https://project-osrm.org)\n"
   ]
  },
  {
   "cell_type": "markdown",
   "metadata": {},
   "source": [
    "#### 3.1.1 Кратчайшее расстояние\n"
   ]
  },
  {
   "cell_type": "code",
   "execution_count": null,
   "metadata": {},
   "outputs": [],
   "source": [
    "import requests\n",
    "\n",
    "# URL API OSRM\n",
    "base_url = \"http://router.project-osrm.org/route/v1/driving/\"\n",
    "\n",
    "# Координаты точек (долгота, широта)\n",
    "start_coords = [55.7558, 37.6173]\n",
    "end_coords = [55.7045, 37.5308]\n",
    "\n",
    "start = f\"{start_coords[1]},{start_coords[0]}\" \n",
    "end = f\"{end_coords[1]},{end_coords[0]}\"\n",
    "\n",
    "# Запрос к API\n",
    "response = requests.get(f\"{base_url}{start};{end}?overview=full\")\n",
    "data = response.json()\n",
    "\n",
    "# Извлечение расстояния и маршрута\n",
    "distance = data[\"routes\"][0][\"distance\"]  # В метрах\n",
    "route = data[\"routes\"][0][\"geometry\"]  # GeoJSON\n",
    "\n",
    "print(f\"Shortest distance: {distance / 1000:.2f} km\")\n"
   ]
  },
  {
   "cell_type": "markdown",
   "metadata": {},
   "source": [
    "Посмотрим на результат на карте\n"
   ]
  },
  {
   "cell_type": "code",
   "execution_count": null,
   "metadata": {},
   "outputs": [],
   "source": [
    "import polyline \n",
    "import folium\n",
    "\n",
    "# Декодируем маршрут из GeoJSON\n",
    "decoded_route = polyline.decode(route)\n",
    "\n",
    "# Визуализация с помощью folium\n",
    "# Создаем карту с центром в стартовой точке\n",
    "m = folium.Map(location=start_coords, zoom_start=12, tiles='cartodbpositron')\n",
    "\n",
    "# Добавляем маршрут на карту\n",
    "folium.PolyLine(decoded_route, color=\"blue\", weight=5, opacity=0.7).add_to(m)\n",
    "\n",
    "# Добавляем маркеры для стартовой и конечной точки\n",
    "folium.Marker(start_coords, popup=\"Start\", icon=folium.Icon(color=\"green\")).add_to(m)\n",
    "folium.Marker(end_coords, popup=\"End\", icon=folium.Icon(color=\"red\")).add_to(m)\n",
    "\n",
    "# Отображаем карту\n",
    "m"
   ]
  },
  {
   "cell_type": "markdown",
   "metadata": {},
   "source": [
    "### 3.2. [Open Route Service](https://openrouteservice.org)\n"
   ]
  },
  {
   "cell_type": "markdown",
   "metadata": {},
   "source": [
    "#### 3.2.1. Изохроны\n"
   ]
  },
  {
   "cell_type": "code",
   "execution_count": null,
   "metadata": {},
   "outputs": [],
   "source": [
    "import requests\n",
    "\n",
    "# API OpenRouteService (требуется ключ API)\n",
    "ors_api_key = \"your_key\"\n",
    "url = \"https://api.openrouteservice.org/v2/isochrones/foot-walking\"\n",
    "\n",
    "# Параметры\n",
    "params = {\n",
    "    \"locations\": [[37.6173, 55.7558]], \n",
    "    \"range\": [300, 600, 900],  # Изохроны в секундах (5, 10, 15 минут)\n",
    "}\n",
    "\n",
    "headers = {\n",
    "    \"Authorization\": ors_api_key,\n",
    "    \"Content-Type\": \"application/json\",\n",
    "}\n",
    "\n",
    "# Запрос к API\n",
    "response = requests.post(url, json=params, headers=headers)\n",
    "isochrones = response.json()\n",
    "\n"
   ]
  },
  {
   "cell_type": "code",
   "execution_count": null,
   "metadata": {},
   "outputs": [],
   "source": [
    "\n",
    "# Преобразуем GeoJSON в GeoDataFrame\n",
    "gdf_isochrones = gpd.GeoDataFrame.from_features(\n",
    "    isochrones[\"features\"], crs=\"EPSG:4326\"\n",
    ")\n",
    "\n",
    "\n",
    "#Визуализируем результат на карте\n",
    "gdf_isochrones.explore( tiles='cartodbpositron')\n"
   ]
  },
  {
   "cell_type": "markdown",
   "metadata": {},
   "source": [
    "#### 3.2.2. Кратчайшее расстояние\n"
   ]
  },
  {
   "cell_type": "code",
   "execution_count": null,
   "metadata": {},
   "outputs": [],
   "source": [
    "ors_url = \"https://api.openrouteservice.org/v2/directions/driving-car\"\n",
    "\n",
    "\n",
    "# Параметры запроса\n",
    "params = {\n",
    "    \"start\": \"37.6173,55.7558\",\n",
    "    \"end\": \"37.5665,55.7332\",\n",
    "}\n",
    "\n",
    "headers = {\n",
    "    \"Authorization\": ors_api_key,\n",
    "}\n",
    "\n",
    "response = requests.get(ors_url, params=params, headers=headers)\n",
    "path = response.json()\n",
    "\n",
    "# Достаем расстояние и время\n",
    "distance = path[\"features\"][0][\"properties\"][\"segments\"][0][\"distance\"]  # в метрах\n",
    "duration = path[\"features\"][0][\"properties\"][\"segments\"][0][\"duration\"]  # в секундах\n",
    "\n",
    "print(f\"Distance: {distance / 1000:.2f} km\")\n",
    "print(f\"Duration: {duration / 60:.2f} minutes\")\n",
    "\n",
    "\n",
    "# Преобразуем GeoJSON в GeoDataFrame\n",
    "gdf_path = gpd.GeoDataFrame.from_features(\n",
    "    path[\"features\"], crs=\"EPSG:4326\"\n",
    ")\n",
    "\n",
    "\n",
    "#Визуализируем результат на карте\n",
    "gdf_path.explore(tiles='cartodbpositron')\n"
   ]
  },
  {
   "cell_type": "markdown",
   "metadata": {},
   "source": [
    "#### 3.2.3 Матрица расстояний\n"
   ]
  },
  {
   "cell_type": "code",
   "execution_count": null,
   "metadata": {},
   "outputs": [],
   "source": [
    "ors_matrix_url = \"https://api.openrouteservice.org/v2/matrix/driving-car\"\n",
    "\n",
    "# Координаты\n",
    "locations = [\n",
    "    [37.6173, 55.7558], \n",
    "    [37.5665, 55.7332],  \n",
    "    [37.5905, 55.7602],\n",
    "]\n",
    "\n",
    "data = {\n",
    "    \"locations\": locations,\n",
    "    \"metrics\": [\"distance\", \"duration\"],\n",
    "}\n",
    "\n",
    "headers = {\n",
    "    \"Authorization\": ors_api_key,\n",
    "    \"Content-Type\": \"application/json\",\n",
    "}\n",
    "\n",
    "response = requests.post(ors_matrix_url, json=data, headers=headers)\n",
    "matrix = response.json()\n",
    "\n",
    "# Вывод матрицы расстояний\n",
    "print(matrix[\"distances\"])\n",
    "print(matrix[\"durations\"])\n"
   ]
  },
  {
   "cell_type": "markdown",
   "metadata": {},
   "source": [
    "### 3.3 [Graphopper](https://www.graphhopper.com)\n"
   ]
  },
  {
   "cell_type": "markdown",
   "metadata": {},
   "source": [
    "#### 3.3.1. Кратчайшее расстояние\n"
   ]
  },
  {
   "cell_type": "code",
   "execution_count": null,
   "metadata": {},
   "outputs": [],
   "source": [
    "\n",
    "gh_url = \"https://graphhopper.com/api/1/route\"\n",
    "graphhopper_api_key = \"your_key\"\n",
    "\n",
    "# Параметры запроса\n",
    "params = {\n",
    "    \"point\": [\"55.7558,37.6173\", \"55.7332,37.5665\"],  # Москва, две точки\n",
    "    \"vehicle\": \"car\",\n",
    "    \"key\": graphhopper_api_key,\n",
    "}\n",
    "\n",
    "response = requests.get(gh_url, params=params)\n",
    "route = response.json()\n",
    "\n",
    "# Достаем расстояние и время\n",
    "distance = route[\"paths\"][0][\"distance\"]  # в метрах\n",
    "duration = route[\"paths\"][0][\"time\"] / 1000  # в секундах\n",
    "\n",
    "print(f\"Distance: {distance / 1000:.2f} km\")\n",
    "print(f\"Duration: {duration / 60:.2f} minutes\")\n",
    "\n",
    "\n"
   ]
  },
  {
   "cell_type": "markdown",
   "metadata": {},
   "source": [
    "#### 3.3.2 Матрица расстояний\n"
   ]
  },
  {
   "cell_type": "code",
   "execution_count": null,
   "metadata": {},
   "outputs": [],
   "source": [
    "gh_matrix_url = \"https://graphhopper.com/api/1/matrix\"\n",
    "headers = {\"Content-Type\": \"application/json\"}\n",
    "\n",
    "# Координаты\n",
    "locations = [\n",
    "    [37.6173, 55.7558],  # точка 1\n",
    "    [37.5665, 55.7332],  # точка 2\n",
    "    [37.5905, 55.7602],  # точка 3\n",
    "]\n",
    "\n",
    "data = {\n",
    "    \"points\": locations,\n",
    "    \"vehicle\": \"car\",\n",
    "    \"key\": graphhopper_api_key,\n",
    "}\n",
    "\n",
    "\n",
    "response = requests.post(gh_matrix_url, json=data, headers=headers)\n",
    "matrix = response.json()\n",
    "\n"
   ]
  },
  {
   "cell_type": "markdown",
   "metadata": {},
   "source": [
    "## 3.Создание геометрий кварталов на основе улично-дорожной сети\n"
   ]
  },
  {
   "cell_type": "markdown",
   "metadata": {},
   "source": [
    "Подготовка дополнительных данных - выгружаем из OSM\n"
   ]
  },
  {
   "cell_type": "code",
   "execution_count": null,
   "metadata": {},
   "outputs": [],
   "source": [
    "location = \"Екатеринбург, Россия\"\n",
    "\n",
    "#Границы района\n",
    "area = ox.geocode_to_gdf(location)\n",
    "#определеяем UTM зону\n",
    "target_crs = area.estimate_utm_crs()\n",
    "#перепроецируем данные\n",
    "area_utm = area.to_crs(target_crs)\n",
    "\n",
    "\n",
    "#Здания\n",
    "buildings = ox.features_from_place(location, {'building': True}  ) \n",
    "#Обрабатываем данные\n",
    "building_utm = buildings.to_crs(target_crs)\n",
    "required_columns = ['name', 'official_name', 'operator:type', 'geometry']\n",
    "building_utm = building_utm[required_columns]\n",
    "building_utm = building_utm.loc[building_utm.geom_type.isin(['Polygon', 'MultiPolygon'])]\n",
    "building_utm = building_utm.reset_index()\n",
    "\n",
    "#Вода\n",
    "rivers = ox.geometries_from_place(location, tags={'natural': 'water'})\n",
    "#Обрабатываем данные\n",
    "rivers = rivers.to_crs(target_crs)\n",
    "rivers  = rivers.loc[rivers.geom_type.isin(['Polygon', 'MultiPolygon'])]\n",
    "\n",
    "\n",
    "#Парки\n",
    "green_zones = ox.geometries_from_place(\n",
    "    location, \n",
    "    tags={\n",
    "        \"leisure\": [\"park\", \"garden\", \"recreation_ground\", \"nature_reserve\"],\n",
    "        \"landuse\": [\"forest\", \"grass\", \"meadow\", \"orchard\"],\n",
    "        \"natural\": [\"wood\", \"grassland\", \"wetland\"]\n",
    "    }\n",
    ")\n",
    "green_zones = green_zones.loc[green_zones.geom_type.isin(['Polygon', 'MultiPolygon'])]\n",
    "green_zones_utm = green_zones.to_crs(target_crs)\n",
    "\n",
    "\n",
    "#Улично-дорожная сеть\n",
    "graph = ox.graph_from_place(location, network_type=\"drive\")\n",
    "edges = ox.graph_to_gdfs(graph, nodes=False, edges=True) #конвертируем ребра графа в GeoDataFrame\n",
    "edges = edges.to_crs(target_crs)\n",
    "\n"
   ]
  },
  {
   "cell_type": "markdown",
   "metadata": {},
   "source": [
    "Создание полигонов - кварталов\n"
   ]
  },
  {
   "cell_type": "code",
   "execution_count": null,
   "metadata": {},
   "outputs": [],
   "source": [
    "# Строим буфер для каждой дороги\n",
    "buffered_edges = edges.geometry.buffer(15)  # Радиус буфера в метрах\n",
    "\n",
    "# Объединеняем буферы\n",
    "buffered_union = gpd.GeoSeries(buffered_edges).unary_union\n",
    "buffered_roads = gpd.GeoDataFrame(geometry=[buffered_union], crs=target_crs)\n",
    "\n",
    "buffered_roads.explore( tiles='cartodbpositron')\n",
    "\n",
    "# # Посмотрим, что получилось\n",
    "# buffered_roads.plot(color=\"lightblue\", edgecolor=\"black\", figsize=(10, 10))"
   ]
  },
  {
   "cell_type": "markdown",
   "metadata": {},
   "source": [
    "Вырезаем кварталы из городской территории\n"
   ]
  },
  {
   "cell_type": "code",
   "execution_count": null,
   "metadata": {},
   "outputs": [],
   "source": [
    "city_blocks = gpd.overlay(buffered_roads, area_utm, how='symmetric_difference')\n",
    "city_blocks.explore(tiles='cartodbpositron')\n"
   ]
  },
  {
   "cell_type": "markdown",
   "metadata": {},
   "source": [
    "Разделяем мультиполигон на полигоны\n"
   ]
  },
  {
   "cell_type": "code",
   "execution_count": null,
   "metadata": {},
   "outputs": [],
   "source": [
    "split_city_blocks = city_blocks.explode(index_parts=False)\n",
    "split_city_blocks.explore(tiles='cartodbpositron')"
   ]
  },
  {
   "cell_type": "markdown",
   "metadata": {},
   "source": [
    "Есть проблема, что кварталы, которые находятся по разную сторону рек или парка относятся к одному полигону. Это можно решить \"вырезанием\" из кварталов воды и зеленых зон. Это мы сможем сделать с помощью Symmetric Difference\n"
   ]
  },
  {
   "cell_type": "code",
   "execution_count": null,
   "metadata": {},
   "outputs": [],
   "source": [
    "#Отфильтруем реки и зелные зоны, чтобы только большие объекты делили наши кварталы\n",
    "min_area = 5000\n",
    "filtered_green_zones = green_zones_utm[green_zones_utm.geometry.area > min_area]\n",
    "filtered_rivers = rivers[rivers.geometry.area > min_area]\n",
    "\n",
    "combined = filtered_green_zones.append(filtered_rivers, ignore_index=True).geometry.unary_union\n",
    "combined_gdf = gpd.GeoDataFrame(geometry=[combined], crs=filtered_green_zones.crs)\n",
    "\n",
    "\n",
    "#Вырезаем\n",
    "split_blocks_2 = gpd.overlay(city_blocks, combined_gdf, how='symmetric_difference')\n",
    "# split_blocks_3 = gpd.overlay(city_blocks, filtered_green_zones, how='symmetric_difference')\n",
    "\n",
    "\n",
    "#Разделяем\n",
    "split_city_blocks = split_blocks_2.explode(index_parts=False)\n",
    "split_city_blocks.explore(tiles='cartodbpositron')"
   ]
  },
  {
   "cell_type": "markdown",
   "metadata": {},
   "source": [
    "Есть проблема, что часть кварталов - не кварталы вовсе, а какие-то мелкие обрезки. Другие - поля непонятные. Давайте оставим только те участки, где есть здания\n"
   ]
  },
  {
   "cell_type": "code",
   "execution_count": null,
   "metadata": {},
   "outputs": [],
   "source": [
    "#Выполним пространственное объединение кварталов и зданий\n",
    "blocks_with_buildings = gpd.sjoin(split_city_blocks, building_utm, how=\"inner\", op=\"intersects\")\n",
    "\n",
    "#Удалим дубликаты\n",
    "blocks_with_buildings = blocks_with_buildings.drop_duplicates(subset='geometry')\n",
    "\n",
    "#Посмотрим на результат\n",
    "blocks_with_buildings.explore(tiles='cartodbpositron')"
   ]
  },
  {
   "cell_type": "markdown",
   "metadata": {},
   "source": [
    "## 4.Работа с растровыми данными на примере данных о населении (World Pop)\n"
   ]
  },
  {
   "cell_type": "markdown",
   "metadata": {},
   "source": [
    "Экспортируем данные о населении для всей России (опционально, набор для работы уже лежит в директории)\n"
   ]
  },
  {
   "cell_type": "code",
   "execution_count": null,
   "metadata": {},
   "outputs": [],
   "source": [
    "# Ссылка на данные WorldPop\n",
    "url = \"https://data.worldpop.org/GIS/Population/Global_2000_2020_Constrained/2020/BSGM/RUS/rus_ppp_2020_constrained.tif\"\n",
    "\n",
    "# Имя файла для сохранения\n",
    "output_file = \"worldpop_russia_2020.tif\"\n",
    "\n",
    "# Скачивание файла\n",
    "response = requests.get(url, stream=True)\n",
    "\n",
    "if response.status_code == 200:\n",
    "    with open(output_file, \"wb\") as file:\n",
    "        for chunk in response.iter_content(chunk_size=1024):\n",
    "            file.write(chunk)\n",
    "    print(f\"File saved as {output_file}\")\n",
    "else:\n",
    "    print(\"Failed to download file. Status code:\", response.status_code)\n"
   ]
  },
  {
   "cell_type": "markdown",
   "metadata": {},
   "source": [
    "Открываем скачанный файл\n"
   ]
  },
  {
   "cell_type": "code",
   "execution_count": null,
   "metadata": {},
   "outputs": [],
   "source": [
    "import rasterio\n",
    "\n",
    "with rasterio.open(output_file) as dataset:\n",
    "    print(\"CRS:\", dataset.crs)\n",
    "    print(\"Bounds:\", dataset.bounds)\n",
    "    print(\"Resolution:\", dataset.res)\n"
   ]
  },
  {
   "cell_type": "markdown",
   "metadata": {},
   "source": [
    "Обрезаем данные о численности населения по границе города (area - границы вашего района в СRS - WGS84)\n"
   ]
  },
  {
   "cell_type": "code",
   "execution_count": null,
   "metadata": {},
   "outputs": [],
   "source": [
    "from rasterio.mask import mask\n",
    "from shapely.geometry import mapping\n",
    "\n",
    "# Загрузка векторных данных\n",
    "# city_gdf = gpd.read_file(\"city_boundary.geojson\")\n",
    "city_geometry = [mapping(area.geometry.unary_union)]\n",
    "\n",
    "# Вырезание только bbox для более компактного растра\n",
    "with rasterio.open(output_file) as src:\n",
    "    # Вычисление обрезки по bbox\n",
    "    bbox = area.total_bounds  # [minx, miny, maxx, maxy]\n",
    "    window = src.window(*bbox)\n",
    "    \n",
    "    # Читаем данные в окне\n",
    "    data = src.read(window=window)\n",
    "    cropped_transform = src.window_transform(window)\n",
    "    profile = src.profile\n",
    "\n",
    "    profile.update({\n",
    "        \"height\": data.shape[1],\n",
    "        \"width\": data.shape[2],\n",
    "        \"transform\": cropped_transform\n",
    "    })\n",
    "    \n",
    "    # Сохраняем уменьшенный растр\n",
    "    with rasterio.open(\"cropped_population.tif\", \"w\", **profile) as dst:\n",
    "        dst.write(data)\n",
    "    "
   ]
  },
  {
   "cell_type": "markdown",
   "metadata": {},
   "source": [
    "Получаем информацию о сохраненных данных\n"
   ]
  },
  {
   "cell_type": "code",
   "execution_count": null,
   "metadata": {},
   "outputs": [],
   "source": [
    "# Открытие файла\n",
    "file_path = \"final_population.tif\"\n",
    "with rasterio.open(file_path) as src:\n",
    "    # Вывод основной информации о растре\n",
    "    print(\"CRS:\", src.crs)  # Система координат\n",
    "    print(\"Bounds:\", src.bounds)  # Границы растра\n",
    "    print(\"Width, Height:\", src.width, src.height)  # Размер растра\n",
    "    print(\"Number of bands:\", src.count)  # Количество слоев\n",
    "    print(\"Data type:\", src.dtypes)  # Тип данных\n",
    "    print(\"Transform:\", src.transform)  # Аффинная трансформация\n"
   ]
  },
  {
   "cell_type": "markdown",
   "metadata": {},
   "source": [
    "Получаем информацию о размере одного пикселя\n"
   ]
  },
  {
   "cell_type": "code",
   "execution_count": null,
   "metadata": {},
   "outputs": [],
   "source": [
    "with rasterio.open(file_path) as src:\n",
    "    transform = src.transform  # Аффинная трансформация растра\n",
    "\n",
    "    # Извлечение размеров пикселя\n",
    "    pixel_width = transform.a  # Размер пикселя по оси X\n",
    "    pixel_height = -transform.e  # Размер пикселя по оси Y (берем с минусом, так как Y направлен вниз в системе координат)\n",
    "\n",
    "    print(f\"Pixel Width: {pixel_width} units\")\n",
    "    print(f\"Pixel Height: {pixel_height} units\")\n"
   ]
  },
  {
   "cell_type": "markdown",
   "metadata": {},
   "source": [
    "Перепроецируем растр в UTM\n"
   ]
  },
  {
   "cell_type": "code",
   "execution_count": null,
   "metadata": {},
   "outputs": [],
   "source": [
    "from rasterio.warp import calculate_default_transform, reproject, Resampling\n",
    "\n",
    "output_file = \"worldpop_reprojected.tif\"\n",
    "\n",
    "with rasterio.open(file_path) as src:\n",
    "    transform, width, height = calculate_default_transform(src.crs, target_crs, src.width, src.height, *src.bounds)\n",
    "    profile = src.profile\n",
    "    profile.update({\n",
    "        'crs': target_crs,\n",
    "        'transform': transform,\n",
    "        'width': width,\n",
    "        'height': height\n",
    "    })\n",
    "\n",
    "    with rasterio.open(output_file, 'w', **profile) as dst:\n",
    "        for i in range(1, src.count + 1):\n",
    "            reproject(\n",
    "                source=rasterio.band(src, i),\n",
    "                destination=rasterio.band(dst, i),\n",
    "                src_transform=src.transform,\n",
    "                src_crs=src.crs,\n",
    "                dst_transform=transform,\n",
    "                dst_crs=target_crs,\n",
    "                resampling=Resampling.nearest\n",
    "            )\n"
   ]
  },
  {
   "cell_type": "markdown",
   "metadata": {},
   "source": [
    "И еще раз посмотрим на информацию о размере одного пикселя\n"
   ]
  },
  {
   "cell_type": "code",
   "execution_count": null,
   "metadata": {},
   "outputs": [],
   "source": [
    "with rasterio.open(output_file) as src:\n",
    "    transform = src.transform \n",
    "\n",
    "    # Извлечение размеров пикселя\n",
    "    pixel_width = transform.a  # Размер пикселя по оси X\n",
    "    pixel_height = -transform.e  # Размер пикселя по оси Y (берем с минусом, так как Y направлен вниз в системе координат)\n",
    "\n",
    "    print(f\"Pixel Width: {pixel_width} units\")\n",
    "    print(f\"Pixel Height: {pixel_height} units\")\n"
   ]
  },
  {
   "cell_type": "markdown",
   "metadata": {},
   "source": [
    "Извлечение данных из растра\n"
   ]
  },
  {
   "cell_type": "code",
   "execution_count": null,
   "metadata": {},
   "outputs": [],
   "source": [
    "with rasterio.open(file_path) as src:\n",
    "    # Считываем первый слой (или единственный, если это однобандовый растр)\n",
    "    data = src.read(1)  # Чтение 1-го слоя\n",
    "\n",
    "    # Выводим статистику\n",
    "    print(\"Min value:\", np.min(data))\n",
    "    print(\"Max value:\", np.max(data))\n",
    "    print(\"Mean value:\", np.mean(data))\n"
   ]
  },
  {
   "cell_type": "code",
   "execution_count": null,
   "metadata": {},
   "outputs": [],
   "source": [
    "import matplotlib.pyplot as plt\n",
    "\n",
    "with rasterio.open(output_file) as src:\n",
    "    data = src.read(1)  # Чтение 1-го слоя\n",
    "\n",
    "    plt.figure(figsize=(10, 10))\n",
    "    plt.imshow(data, cmap='viridis')  # Визуализация с использованием цветовой карты\n",
    "    plt.colorbar(label=\"Population Density\")  # Добавляем цветовую шкалу\n",
    "    plt.title(\"Population Density (WorldPop, Russia, 2020)\")\n",
    "    plt.show()\n"
   ]
  },
  {
   "cell_type": "markdown",
   "metadata": {},
   "source": [
    "## 5.Расчет плотности населения по кварталам на основе данных World Pop\n"
   ]
  },
  {
   "cell_type": "markdown",
   "metadata": {},
   "source": [
    "Зональная статистика\n"
   ]
  },
  {
   "cell_type": "code",
   "execution_count": null,
   "metadata": {},
   "outputs": [],
   "source": [
    "import rasterstats as rs\n",
    "\n",
    "# Рассчитываем зональную статистику (сумма значений растра для каждого полигона)\n",
    "stats = rs.zonal_stats(blocks_with_buildings, output_file, stats=\"sum\", geojson_out=True)\n",
    "\n",
    "# Преобразуем результат в GeoDataFrame\n",
    "gdf_stats = gpd.GeoDataFrame.from_features(stats)\n",
    "\n",
    "# Теперь у вас есть GeoDataFrame с дополнительной колонкой, содержащей сумму значений для каждого полигона\n",
    "gdf_stats.head()\n"
   ]
  },
  {
   "cell_type": "code",
   "execution_count": null,
   "metadata": {},
   "outputs": [],
   "source": [
    "gdf_stats = gdf_stats.set_crs(target_crs)"
   ]
  },
  {
   "cell_type": "code",
   "execution_count": null,
   "metadata": {},
   "outputs": [],
   "source": [
    "gdf_stats.explore(tiles='cartodbpositron')"
   ]
  },
  {
   "cell_type": "markdown",
   "metadata": {},
   "source": [
    "Вычисляем плотность населения\n"
   ]
  },
  {
   "cell_type": "code",
   "execution_count": null,
   "metadata": {},
   "outputs": [],
   "source": [
    "gdf_stats['density'] = gdf_stats['sum']/(gdf_stats.geometry.area/1000000)"
   ]
  },
  {
   "cell_type": "markdown",
   "metadata": {},
   "source": [
    "Смотрим на результат\n"
   ]
  },
  {
   "cell_type": "code",
   "execution_count": null,
   "metadata": {},
   "outputs": [],
   "source": [
    "gdf_stats.explore(column='density')"
   ]
  }
 ],
 "metadata": {
  "kernelspec": {
   "display_name": "Python 3",
   "language": "python",
   "name": "python3"
  },
  "language_info": {
   "codemirror_mode": {
    "name": "ipython",
    "version": 3
   },
   "file_extension": ".py",
   "mimetype": "text/x-python",
   "name": "python",
   "nbconvert_exporter": "python",
   "pygments_lexer": "ipython3",
   "version": "3.10.6"
  }
 },
 "nbformat": 4,
 "nbformat_minor": 2
}
