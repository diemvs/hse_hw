{
 "cells": [
  {
   "cell_type": "markdown",
   "metadata": {},
   "source": [
    "## Численная оптимизация в логистических задачах: ДЗ"
   ]
  },
  {
   "cell_type": "markdown",
   "metadata": {},
   "source": [
    "Совместим сразу два ДЗ в одно. Пусть есть классическая траспортная задача, которую надо решить двумя способами."
   ]
  },
  {
   "cell_type": "markdown",
   "metadata": {},
   "source": [
    "## 0. Генерация задания"
   ]
  },
  {
   "cell_type": "code",
   "execution_count": 295,
   "metadata": {},
   "outputs": [],
   "source": [
    "import numpy as np"
   ]
  },
  {
   "cell_type": "markdown",
   "metadata": {},
   "source": [
    "Зададим случайное число складов и магазинов:"
   ]
  },
  {
   "cell_type": "code",
   "execution_count": 296,
   "metadata": {},
   "outputs": [
    {
     "data": {
      "text/plain": [
       "(44, 70)"
      ]
     },
     "execution_count": 296,
     "metadata": {},
     "output_type": "execute_result"
    }
   ],
   "source": [
    "N, M = np.random.randint(10, 100, 2)\n",
    "N, M"
   ]
  },
  {
   "cell_type": "markdown",
   "metadata": {},
   "source": [
    "Заполним случайно массивы с количеством товара на складах и запросами магазинов:"
   ]
  },
  {
   "cell_type": "markdown",
   "metadata": {},
   "source": [
    "**Кстати!** Вы же помните, что суммарное число запасов должно совпадать с суммарными запросами?"
   ]
  },
  {
   "cell_type": "code",
   "execution_count": 297,
   "metadata": {},
   "outputs": [],
   "source": [
    "storages = np.zeros(N)\n",
    "demands = np.zeros(M)"
   ]
  },
  {
   "cell_type": "code",
   "execution_count": 298,
   "metadata": {},
   "outputs": [],
   "source": [
    "import math \n",
    "\n",
    "SUM = 100\n",
    "\n",
    "def get_random_array(size: int, arr_sum: int):\n",
    "    rand_n = [ np.random.random_sample() for _ in range(size) ]\n",
    "    result = [ math.floor(i * arr_sum / sum(rand_n)) for i in rand_n ] \n",
    "    for _ in range(arr_sum - sum(result)): \n",
    "        result[np.random.randint(0, size-1)] += 1\n",
    "    return np.array(result)\n",
    "\n",
    "storages = get_random_array(N, SUM)\n",
    "demands = get_random_array(M, SUM)\n",
    "\n",
    "assert len(storages) == N\n",
    "assert len(demands) == M\n",
    "assert sum(demands) == sum(storages)"
   ]
  },
  {
   "cell_type": "code",
   "execution_count": 299,
   "metadata": {},
   "outputs": [
    {
     "data": {
      "text/plain": [
       "array([4, 5, 1, 3, 1, 1, 4, 3, 0, 2, 3, 4, 3, 0, 1, 3, 1, 1, 2, 1, 1, 3,\n",
       "       1, 1, 0, 1, 3, 5, 5, 3, 4, 3, 0, 3, 2, 0, 5, 1, 2, 4, 3, 2, 4, 1])"
      ]
     },
     "execution_count": 299,
     "metadata": {},
     "output_type": "execute_result"
    }
   ],
   "source": [
    "storages"
   ]
  },
  {
   "cell_type": "code",
   "execution_count": 300,
   "metadata": {},
   "outputs": [
    {
     "data": {
      "text/plain": [
       "array([4, 3, 0, 2, 2, 1, 3, 1, 2, 2, 3, 1, 2, 2, 1, 2, 1, 2, 0, 2, 2, 0,\n",
       "       1, 3, 1, 2, 2, 2, 1, 2, 2, 1, 0, 1, 1, 0, 0, 0, 1, 0, 2, 0, 4, 3,\n",
       "       0, 2, 3, 2, 1, 2, 2, 1, 1, 1, 0, 1, 1, 1, 0, 2, 1, 2, 1, 3, 1, 0,\n",
       "       0, 2, 3, 0])"
      ]
     },
     "execution_count": 300,
     "metadata": {},
     "output_type": "execute_result"
    }
   ],
   "source": [
    "demands"
   ]
  },
  {
   "cell_type": "markdown",
   "metadata": {},
   "source": [
    "Сгенерируем случайно матрицу стоимости перевозок:"
   ]
  },
  {
   "cell_type": "code",
   "execution_count": 301,
   "metadata": {},
   "outputs": [],
   "source": [
    "costs = np.random.randint(1, 20, size=(N, M))\n"
   ]
  },
  {
   "cell_type": "code",
   "execution_count": 302,
   "metadata": {},
   "outputs": [
    {
     "data": {
      "text/plain": [
       "array([[17, 15, 11, ..., 12, 13,  4],\n",
       "       [ 7, 17, 19, ...,  8,  4,  4],\n",
       "       [ 4, 14,  4, ..., 17,  1, 13],\n",
       "       ...,\n",
       "       [ 2,  8,  8, ..., 14, 14, 11],\n",
       "       [16,  1, 17, ...,  8,  6,  4],\n",
       "       [16,  2, 16, ..., 12,  6, 12]])"
      ]
     },
     "execution_count": 302,
     "metadata": {},
     "output_type": "execute_result"
    }
   ],
   "source": [
    "costs"
   ]
  },
  {
   "cell_type": "markdown",
   "metadata": {},
   "source": [
    "Фух. Вроде все, можно приступать!"
   ]
  },
  {
   "cell_type": "markdown",
   "metadata": {},
   "source": [
    "## 1. Постановка ЛП"
   ]
  },
  {
   "cell_type": "markdown",
   "metadata": {},
   "source": [
    "Напишем честную постановку задачи Линейного программирования (ЛП) и попробуем решить задачу."
   ]
  },
  {
   "cell_type": "code",
   "execution_count": 303,
   "metadata": {},
   "outputs": [],
   "source": [
    "from pulp import *\n",
    "from time import time"
   ]
  },
  {
   "cell_type": "code",
   "execution_count": 304,
   "metadata": {},
   "outputs": [],
   "source": [
    "def make_problem(storages, demands, costs):\n",
    "    prob = LpProblem(\"prob\", LpMinimize)\n",
    "\n",
    "    # выбор пути\n",
    "    routes = LpVariable.dicts(\n",
    "        name = \"Routes\",\n",
    "        indices = ((i, j) for i in range(len(storages)) for j in range(len(demands))),\n",
    "        cat = LpBinary\n",
    "    )\n",
    "\n",
    "    # целевая функция\n",
    "    prob += lpSum(costs[(i, j)] * routes[(i,j)] for i in range(len(storages)) for j in range(len(demands)))\n",
    "\n",
    "    # ограничение на спрос\n",
    "    for j in range(len(demands)):\n",
    "        prob += lpSum(routes[(i, j)] for i in range(len(storages))) >= demands[j]\n",
    "\n",
    "    # ограничение на наличие\n",
    "    for i in range(len(storages)):\n",
    "        prob += lpSum(routes[(i, j)] for j in range(len(demands))) <= storages[i] \n",
    "    \n",
    "    return prob"
   ]
  },
  {
   "cell_type": "code",
   "execution_count": 305,
   "metadata": {},
   "outputs": [
    {
     "name": "stdout",
     "output_type": "stream",
     "text": [
      "Welcome to the CBC MILP Solver \n",
      "Version: 2.10.3 \n",
      "Build Date: Dec 15 2019 \n",
      "\n",
      "command line - /Users/diemvs/anaconda3/lib/python3.11/site-packages/pulp/solverdir/cbc/osx/64/cbc /var/folders/n1/x_mxj5qx7mb8bzj93wb8vzl00000gn/T/445c44292477419284cfaad2daf122f4-pulp.mps -timeMode elapsed -branch -printingOptions all -solution /var/folders/n1/x_mxj5qx7mb8bzj93wb8vzl00000gn/T/445c44292477419284cfaad2daf122f4-pulp.sol (default strategy 1)\n",
      "At line 2 NAME          MODEL\n",
      "At line 3 ROWS\n",
      "At line 119 COLUMNS\n",
      "At line 15520 RHS\n",
      "At line 15635 BOUNDS\n",
      "At line 18716 ENDATA\n",
      "Problem MODEL has 114 rows, 3080 columns and 6160 elements\n",
      "Coin0008I MODEL read with 0 errors\n",
      "Option for timeMode changed from cpu to elapsed\n",
      "Continuous objective value is 163 - 0.00 seconds\n",
      "Cgl0002I 350 variables fixed\n",
      "Cgl0004I processed model has 94 rows, 2145 columns (2145 integer (2145 of which binary)) and 4290 elements\n",
      "Cutoff increment increased from 1e-05 to 0.9999\n",
      "Cbc0038I Initial state - 0 integers unsatisfied sum - 0\n",
      "Cbc0038I Solution found of 163\n",
      "Cbc0038I Before mini branch and bound, 2145 integers at bound fixed and 0 continuous\n",
      "Cbc0038I Mini branch and bound did not improve solution (0.02 seconds)\n",
      "Cbc0038I After 0.02 seconds - Feasibility pump exiting with objective of 163 - took 0.00 seconds\n",
      "Cbc0012I Integer solution of 163 found by feasibility pump after 0 iterations and 0 nodes (0.02 seconds)\n",
      "Cbc0001I Search completed - best objective 163, took 0 iterations and 0 nodes (0.02 seconds)\n",
      "Cbc0035I Maximum depth 0, 0 variables fixed on reduced cost\n",
      "Cuts at root node changed objective from 163 to 163\n",
      "Probing was tried 0 times and created 0 cuts of which 0 were active after adding rounds of cuts (0.000 seconds)\n",
      "Gomory was tried 0 times and created 0 cuts of which 0 were active after adding rounds of cuts (0.000 seconds)\n",
      "Knapsack was tried 0 times and created 0 cuts of which 0 were active after adding rounds of cuts (0.000 seconds)\n",
      "Clique was tried 0 times and created 0 cuts of which 0 were active after adding rounds of cuts (0.000 seconds)\n",
      "MixedIntegerRounding2 was tried 0 times and created 0 cuts of which 0 were active after adding rounds of cuts (0.000 seconds)\n",
      "FlowCover was tried 0 times and created 0 cuts of which 0 were active after adding rounds of cuts (0.000 seconds)\n",
      "TwoMirCuts was tried 0 times and created 0 cuts of which 0 were active after adding rounds of cuts (0.000 seconds)\n",
      "ZeroHalf was tried 0 times and created 0 cuts of which 0 were active after adding rounds of cuts (0.000 seconds)\n",
      "\n",
      "Result - Optimal solution found\n",
      "\n",
      "Objective value:                163.00000000\n",
      "Enumerated nodes:               0\n",
      "Total iterations:               0\n",
      "Time (CPU seconds):             0.02\n",
      "Time (Wallclock seconds):       0.02\n",
      "\n",
      "Option for printingOptions changed from normal to all\n",
      "Total time (CPU seconds):       0.03   (Wallclock seconds):       0.03\n",
      "\n",
      "Решение заняло 0.08674097061157227 сек\n"
     ]
    }
   ],
   "source": [
    "problem = make_problem(storages, demands, costs)\n",
    "\n",
    "st_time = time()\n",
    "problem.solve()\n",
    "print(f\"Решение заняло {time() - st_time} сек\")\n"
   ]
  },
  {
   "cell_type": "code",
   "execution_count": 306,
   "metadata": {},
   "outputs": [
    {
     "data": {
      "text/plain": [
       "'Optimal'"
      ]
     },
     "execution_count": 306,
     "metadata": {},
     "output_type": "execute_result"
    }
   ],
   "source": [
    "LpStatus[problem.status]"
   ]
  },
  {
   "cell_type": "markdown",
   "metadata": {},
   "source": [
    "Посмотрим на значение целевой функции:"
   ]
  },
  {
   "cell_type": "code",
   "execution_count": 307,
   "metadata": {},
   "outputs": [
    {
     "data": {
      "text/plain": [
       "17*Routes_(0,_0) + 15*Routes_(0,_1) + 18*Routes_(0,_10) + 4*Routes_(0,_11) + 1*Routes_(0,_12) + 4*Routes_(0,_13) + 6*Routes_(0,_14) + 16*Routes_(0,_15) + 2*Routes_(0,_16) + 7*Routes_(0,_17) + 11*Routes_(0,_18) + 10*Routes_(0,_19) + 11*Routes_(0,_2) + 14*Routes_(0,_20) + 4*Routes_(0,_21) + 1*Routes_(0,_22) + 9*Routes_(0,_23) + 4*Routes_(0,_24) + 7*Routes_(0,_25) + 12*Routes_(0,_26) + 17*Routes_(0,_27) + 4*Routes_(0,_28) + 6*Routes_(0,_29) + 1*Routes_(0,_3) + 16*Routes_(0,_30) + 19*Routes_(0,_31) + 1*Routes_(0,_32) + 12*Routes_(0,_33) + 8*Routes_(0,_34) + 17*Routes_(0,_35) + 5*Routes_(0,_36) + 13*Routes_(0,_37) + 6*Routes_(0,_38) + 6*Routes_(0,_39) + 17*Routes_(0,_4) + 16*Routes_(0,_40) + 8*Routes_(0,_41) + 3*Routes_(0,_42) + 2*Routes_(0,_43) + 11*Routes_(0,_44) + 10*Routes_(0,_45) + 14*Routes_(0,_46) + 19*Routes_(0,_47) + 12*Routes_(0,_48) + 9*Routes_(0,_49) + 16*Routes_(0,_5) + 8*Routes_(0,_50) + 17*Routes_(0,_51) + 2*Routes_(0,_52) + 4*Routes_(0,_53) + 17*Routes_(0,_54) + 9*Routes_(0,_55) + 2*Routes_(0,_56) + 17*Routes_(0,_57) + 17*Routes_(0,_58) + 5*Routes_(0,_59) + 18*Routes_(0,_6) + 18*Routes_(0,_60) + 3*Routes_(0,_61) + 9*Routes_(0,_62) + 14*Routes_(0,_63) + 3*Routes_(0,_64) + 5*Routes_(0,_65) + 17*Routes_(0,_66) + 12*Routes_(0,_67) + 13*Routes_(0,_68) + 4*Routes_(0,_69) + 9*Routes_(0,_7) + 4*Routes_(0,_8) + 2*Routes_(0,_9) + 7*Routes_(1,_0) + 17*Routes_(1,_1) + 1*Routes_(1,_10) + 3*Routes_(1,_11) + 9*Routes_(1,_12) + 6*Routes_(1,_13) + 1*Routes_(1,_14) + 11*Routes_(1,_15) + 19*Routes_(1,_16) + 15*Routes_(1,_17) + 5*Routes_(1,_18) + 1*Routes_(1,_19) + 19*Routes_(1,_2) + 1*Routes_(1,_20) + 10*Routes_(1,_21) + 18*Routes_(1,_22) + 11*Routes_(1,_23) + 7*Routes_(1,_24) + 4*Routes_(1,_25) + 5*Routes_(1,_26) + 6*Routes_(1,_27) + 1*Routes_(1,_28) + 15*Routes_(1,_29) + 6*Routes_(1,_3) + 18*Routes_(1,_30) + 14*Routes_(1,_31) + 8*Routes_(1,_32) + 3*Routes_(1,_33) + 1*Routes_(1,_34) + 2*Routes_(1,_35) + 6*Routes_(1,_36) + 15*Routes_(1,_37) + 9*Routes_(1,_38) + 2*Routes_(1,_39) + 13*Routes_(1,_4) + 18*Routes_(1,_40) + 10*Routes_(1,_41) + 6*Routes_(1,_42) + 18*Routes_(1,_43) + 9*Routes_(1,_44) + 5*Routes_(1,_45) + 5*Routes_(1,_46) + 12*Routes_(1,_47) + 6*Routes_(1,_48) + 6*Routes_(1,_49) + 5*Routes_(1,_5) + 13*Routes_(1,_50) + 13*Routes_(1,_51) + 8*Routes_(1,_52) + 8*Routes_(1,_53) + 7*Routes_(1,_54) + 6*Routes_(1,_55) + 9*Routes_(1,_56) + 7*Routes_(1,_57) + 5*Routes_(1,_58) + 17*Routes_(1,_59) + 13*Routes_(1,_6) + 5*Routes_(1,_60) + 10*Routes_(1,_61) + 5*Routes_(1,_62) + 4*Routes_(1,_63) + 16*Routes_(1,_64) + 15*Routes_(1,_65) + 7*Routes_(1,_66) + 8*Routes_(1,_67) + 4*Routes_(1,_68) + 4*Routes_(1,_69) + 19*Routes_(1,_7) + 13*Routes_(1,_8) + 1*Routes_(1,_9) + 7*Routes_(10,_0) + 1*Routes_(10,_1) + 12*Routes_(10,_10) + 5*Routes_(10,_11) + 14*Routes_(10,_12) + 3*Routes_(10,_13) + 5*Routes_(10,_14) + 6*Routes_(10,_15) + 1*Routes_(10,_16) + 17*Routes_(10,_17) + 4*Routes_(10,_18) + 12*Routes_(10,_19) + 7*Routes_(10,_2) + 2*Routes_(10,_20) + 13*Routes_(10,_21) + 1*Routes_(10,_22) + 17*Routes_(10,_23) + 12*Routes_(10,_24) + 18*Routes_(10,_25) + 19*Routes_(10,_26) + 17*Routes_(10,_27) + 2*Routes_(10,_28) + 11*Routes_(10,_29) + 7*Routes_(10,_3) + 14*Routes_(10,_30) + 14*Routes_(10,_31) + 1*Routes_(10,_32) + 19*Routes_(10,_33) + 15*Routes_(10,_34) + 17*Routes_(10,_35) + 8*Routes_(10,_36) + 5*Routes_(10,_37) + 4*Routes_(10,_38) + 16*Routes_(10,_39) + 15*Routes_(10,_4) + 7*Routes_(10,_40) + 6*Routes_(10,_41) + 16*Routes_(10,_42) + 14*Routes_(10,_43) + 11*Routes_(10,_44) + 13*Routes_(10,_45) + 18*Routes_(10,_46) + 18*Routes_(10,_47) + 3*Routes_(10,_48) + 11*Routes_(10,_49) + 14*Routes_(10,_5) + 17*Routes_(10,_50) + 16*Routes_(10,_51) + 6*Routes_(10,_52) + 13*Routes_(10,_53) + 6*Routes_(10,_54) + 2*Routes_(10,_55) + 12*Routes_(10,_56) + 4*Routes_(10,_57) + 7*Routes_(10,_58) + 8*Routes_(10,_59) + 11*Routes_(10,_6) + 12*Routes_(10,_60) + 4*Routes_(10,_61) + 6*Routes_(10,_62) + 9*Routes_(10,_63) + 11*Routes_(10,_64) + 19*Routes_(10,_65) + 3*Routes_(10,_66) + 5*Routes_(10,_67) + 6*Routes_(10,_68) + 16*Routes_(10,_69) + 14*Routes_(10,_7) + 17*Routes_(10,_8) + 12*Routes_(10,_9) + 5*Routes_(11,_0) + 14*Routes_(11,_1) + 15*Routes_(11,_10) + 15*Routes_(11,_11) + 5*Routes_(11,_12) + 15*Routes_(11,_13) + 17*Routes_(11,_14) + 2*Routes_(11,_15) + 13*Routes_(11,_16) + 10*Routes_(11,_17) + 10*Routes_(11,_18) + 14*Routes_(11,_19) + 1*Routes_(11,_2) + 10*Routes_(11,_20) + 16*Routes_(11,_21) + 1*Routes_(11,_22) + 3*Routes_(11,_23) + 14*Routes_(11,_24) + 13*Routes_(11,_25) + 18*Routes_(11,_26) + 17*Routes_(11,_27) + 16*Routes_(11,_28) + 16*Routes_(11,_29) + 1*Routes_(11,_3) + 8*Routes_(11,_30) + 2*Routes_(11,_31) + 18*Routes_(11,_32) + 8*Routes_(11,_33) + 3*Routes_(11,_34) + 9*Routes_(11,_35) + 2*Routes_(11,_36) + 15*Routes_(11,_37) + 6*Routes_(11,_38) + 14*Routes_(11,_39) + 5*Routes_(11,_4) + 8*Routes_(11,_40) + 6*Routes_(11,_41) + 1*Routes_(11,_42) + 19*Routes_(11,_43) + 10*Routes_(11,_44) + 6*Routes_(11,_45) + 19*Routes_(11,_46) + 2*Routes_(11,_47) + 13*Routes_(11,_48) + 13*Routes_(11,_49) + 5*Routes_(11,_5) + 11*Routes_(11,_50) + 16*Routes_(11,_51) + 15*Routes_(11,_52) + 7*Routes_(11,_53) + 6*Routes_(11,_54) + 12*Routes_(11,_55) + 10*Routes_(11,_56) + 15*Routes_(11,_57) + 9*Routes_(11,_58) + 8*Routes_(11,_59) + 9*Routes_(11,_6) + 7*Routes_(11,_60) + 4*Routes_(11,_61) + 13*Routes_(11,_62) + 18*Routes_(11,_63) + 11*Routes_(11,_64) + 17*Routes_(11,_65) + 6*Routes_(11,_66) + 13*Routes_(11,_67) + 11*Routes_(11,_68) + 19*Routes_(11,_69) + 18*Routes_(11,_7) + 1*Routes_(11,_8) + 18*Routes_(11,_9) + 6*Routes_(12,_0) + 3*Routes_(12,_1) + 8*Routes_(12,_10) + 18*Routes_(12,_11) + 15*Routes_(12,_12) + 11*Routes_(12,_13) + 8*Routes_(12,_14) + 17*Routes_(12,_15) + 16*Routes_(12,_16) + 17*Routes_(12,_17) + 15*Routes_(12,_18) + 5*Routes_(12,_19) + 19*Routes_(12,_2) + 4*Routes_(12,_20) + 9*Routes_(12,_21) + 18*Routes_(12,_22) + 7*Routes_(12,_23) + 17*Routes_(12,_24) + 8*Routes_(12,_25) + 2*Routes_(12,_26) + 18*Routes_(12,_27) + 12*Routes_(12,_28) + 1*Routes_(12,_29) + 17*Routes_(12,_3) + 2*Routes_(12,_30) + 1*Routes_(12,_31) + 15*Routes_(12,_32) + 5*Routes_(12,_33) + 1*Routes_(12,_34) + 17*Routes_(12,_35) + 7*Routes_(12,_36) + 5*Routes_(12,_37) + 3*Routes_(12,_38) + 12*Routes_(12,_39) + 7*Routes_(12,_4) + 14*Routes_(12,_40) + 13*Routes_(12,_41) + 5*Routes_(12,_42) + 13*Routes_(12,_43) + 14*Routes_(12,_44) + 14*Routes_(12,_45) + 18*Routes_(12,_46) + 8*Routes_(12,_47) + 10*Routes_(12,_48) + 2*Routes_(12,_49) + 19*Routes_(12,_5) + 13*Routes_(12,_50) + 11*Routes_(12,_51) + 17*Routes_(12,_52) + 14*Routes_(12,_53) + 13*Routes_(12,_54) + 3*Routes_(12,_55) + 14*Routes_(12,_56) + 7*Routes_(12,_57) + 17*Routes_(12,_58) + 16*Routes_(12,_59) + 6*Routes_(12,_6) + 9*Routes_(12,_60) + 7*Routes_(12,_61) + 6*Routes_(12,_62) + 11*Routes_(12,_63) + 8*Routes_(12,_64) + 15*Routes_(12,_65) + 18*Routes_(12,_66) + 8*Routes_(12,_67) + 14*Routes_(12,_68) + 1*Routes_(12,_69) + 1*Routes_(12,_7) + 15*Routes_(12,_8) + 18*Routes_(12,_9) + 8*Routes_(13,_0) + 15*Routes_(13,_1) + 2*Routes_(13,_10) + 13*Routes_(13,_11) + 13*Routes_(13,_12) + 4*Routes_(13,_13) + 17*Routes_(13,_14) + 2*Routes_(13,_15) + 19*Routes_(13,_16) + 17*Routes_(13,_17) + 5*Routes_(13,_18) + 4*Routes_(13,_19) + 9*Routes_(13,_2) + 10*Routes_(13,_20) + 4*Routes_(13,_21) + 11*Routes_(13,_22) + 18*Routes_(13,_23) + 15*Routes_(13,_24) + 13*Routes_(13,_25) + 10*Routes_(13,_26) + 13*Routes_(13,_27) + 14*Routes_(13,_28) + 14*Routes_(13,_29) + 2*Routes_(13,_3) + 19*Routes_(13,_30) + 5*Routes_(13,_31) + 15*Routes_(13,_32) + 15*Routes_(13,_33) + 11*Routes_(13,_34) + 18*Routes_(13,_35) + 3*Routes_(13,_36) + 4*Routes_(13,_37) + 2*Routes_(13,_38) + 14*Routes_(13,_39) + 5*Routes_(13,_4) + 1*Routes_(13,_40) + 16*Routes_(13,_41) + 19*Routes_(13,_42) + 12*Routes_(13,_43) + 6*Routes_(13,_44) + 17*Routes_(13,_45) + 3*Routes_(13,_46) + 4*Routes_(13,_47) + 13*Routes_(13,_48) + 3*Routes_(13,_49) + 6*Routes_(13,_5) + 2*Routes_(13,_50) + 2*Routes_(13,_51) + 4*Routes_(13,_52) + 15*Routes_(13,_53) + 18*Routes_(13,_54) + 4*Routes_(13,_55) + 7*Routes_(13,_56) + 5*Routes_(13,_57) + 19*Routes_(13,_58) + 4*Routes_(13,_59) + 16*Routes_(13,_6) + 7*Routes_(13,_60) + 10*Routes_(13,_61) + 12*Routes_(13,_62) + 3*Routes_(13,_63) + 6*Routes_(13,_64) + 14*Routes_(13,_65) + 1*Routes_(13,_66) + 13*Routes_(13,_67) + 2*Routes_(13,_68) + 4*Routes_(13,_69) + 11*Routes_(13,_7) + 12*Routes_(13,_8) + 10*Routes_(13,_9) + 4*Routes_(14,_0) + 2*Routes_(14,_1) + 10*Routes_(14,_10) + 13*Routes_(14,_11) + 19*Routes_(14,_12) + 16*Routes_(14,_13) + 3*Routes_(14,_14) + 9*Routes_(14,_15) + 16*Routes_(14,_16) + 3*Routes_(14,_17) + 2*Routes_(14,_18) + 6*Routes_(14,_19) + 5*Routes_(14,_2) + 10*Routes_(14,_20) + 17*Routes_(14,_21) + 11*Routes_(14,_22) + 3*Routes_(14,_23) + 19*Routes_(14,_24) + 3*Routes_(14,_25) + 12*Routes_(14,_26) + 6*Routes_(14,_27) + 4*Routes_(14,_28) + 7*Routes_(14,_29) + 15*Routes_(14,_3) + 13*Routes_(14,_30) + 7*Routes_(14,_31) + 1*Routes_(14,_32) + 5*Routes_(14,_33) + 19*Routes_(14,_34) + 10*Routes_(14,_35) + 19*Routes_(14,_36) + 10*Routes_(14,_37) + 18*Routes_(14,_38) + 12*Routes_(14,_39) + 5*Routes_(14,_4) + 14*Routes_(14,_40) + 2*Routes_(14,_41) + 7*Routes_(14,_42) + 1*Routes_(14,_43) + 14*Routes_(14,_44) + 11*Routes_(14,_45) + 2*Routes_(14,_46) + 14*Routes_(14,_47) + 1*Routes_(14,_48) + 15*Routes_(14,_49) + 10*Routes_(14,_5) + 9*Routes_(14,_50) + 16*Routes_(14,_51) + 14*Routes_(14,_52) + 15*Routes_(14,_53) + 11*Routes_(14,_54) + 16*Routes_(14,_55) + 11*Routes_(14,_56) + 18*Routes_(14,_57) + 18*Routes_(14,_58) + 13*Routes_(14,_59) + 6*Routes_(14,_6) + 4*Routes_(14,_60) + 4*Routes_(14,_61) + 9*Routes_(14,_62) + 13*Routes_(14,_63) + 13*Routes_(14,_64) + 10*Routes_(14,_65) + 6*Routes_(14,_66) + 4*Routes_(14,_67) + 14*Routes_(14,_68) + 10*Routes_(14,_69) + 9*Routes_(14,_7) + 3*Routes_(14,_8) + 9*Routes_(14,_9) + 15*Routes_(15,_0) + 18*Routes_(15,_1) + 18*Routes_(15,_10) + 10*Routes_(15,_11) + 13*Routes_(15,_12) + 16*Routes_(15,_13) + 3*Routes_(15,_14) + 18*Routes_(15,_15) + 4*Routes_(15,_16) + 10*Routes_(15,_17) + 15*Routes_(15,_18) + 1*Routes_(15,_19) + 13*Routes_(15,_2) + 9*Routes_(15,_20) + 15*Routes_(15,_21) + 16*Routes_(15,_22) + 7*Routes_(15,_23) + 12*Routes_(15,_24) + 10*Routes_(15,_25) + 10*Routes_(15,_26) + 1*Routes_(15,_27) + 3*Routes_(15,_28) + 9*Routes_(15,_29) + 19*Routes_(15,_3) + 16*Routes_(15,_30) + 14*Routes_(15,_31) + 16*Routes_(15,_32) + 7*Routes_(15,_33) + 17*Routes_(15,_34) + 12*Routes_(15,_35) + 19*Routes_(15,_36) + 11*Routes_(15,_37) + 10*Routes_(15,_38) + 9*Routes_(15,_39) + 6*Routes_(15,_4) + 7*Routes_(15,_40) + 6*Routes_(15,_41) + 9*Routes_(15,_42) + 18*Routes_(15,_43) + 5*Routes_(15,_44) + 6*Routes_(15,_45) + 10*Routes_(15,_46) + 13*Routes_(15,_47) + 14*Routes_(15,_48) + 3*Routes_(15,_49) + 14*Routes_(15,_5) + 10*Routes_(15,_50) + 17*Routes_(15,_51) + 14*Routes_(15,_52) + 16*Routes_(15,_53) + 8*Routes_(15,_54) + 3*Routes_(15,_55) + 1*Routes_(15,_56) + 13*Routes_(15,_57) + 10*Routes_(15,_58) + 12*Routes_(15,_59) + 3*Routes_(15,_6) + 1*Routes_(15,_60) + 19*Routes_(15,_61) + 8*Routes_(15,_62) + 17*Routes_(15,_63) + 9*Routes_(15,_64) + 12*Routes_(15,_65) + 5*Routes_(15,_66) + 19*Routes_(15,_67) + 11*Routes_(15,_68) + 11*Routes_(15,_69) + 3*Routes_(15,_7) + 16*Routes_(15,_8) + 1*Routes_(15,_9) + 5*Routes_(16,_0) + 4*Routes_(16,_1) + 9*Routes_(16,_10) + 1*Routes_(16,_11) + 17*Routes_(16,_12) + 19*Routes_(16,_13) + 13*Routes_(16,_14) + 18*Routes_(16,_15) + 7*Routes_(16,_16) + 1*Routes_(16,_17) + 14*Routes_(16,_18) + 11*Routes_(16,_19) + 19*Routes_(16,_2) + 14*Routes_(16,_20) + 11*Routes_(16,_21) + 15*Routes_(16,_22) + 8*Routes_(16,_23) + 11*Routes_(16,_24) + 5*Routes_(16,_25) + 4*Routes_(16,_26) + 7*Routes_(16,_27) + 8*Routes_(16,_28) + 19*Routes_(16,_29) + 14*Routes_(16,_3) + 5*Routes_(16,_30) + 12*Routes_(16,_31) + 6*Routes_(16,_32) + 8*Routes_(16,_33) + 19*Routes_(16,_34) + 4*Routes_(16,_35) + 11*Routes_(16,_36) + 6*Routes_(16,_37) + 1*Routes_(16,_38) + 4*Routes_(16,_39) + 13*Routes_(16,_4) + 15*Routes_(16,_40) + 13*Routes_(16,_41) + 4*Routes_(16,_42) + 11*Routes_(16,_43) + 17*Routes_(16,_44) + 7*Routes_(16,_45) + 19*Routes_(16,_46) + 11*Routes_(16,_47) + 11*Routes_(16,_48) + 10*Routes_(16,_49) + 9*Routes_(16,_5) + 8*Routes_(16,_50) + 10*Routes_(16,_51) + 3*Routes_(16,_52) + 15*Routes_(16,_53) + 16*Routes_(16,_54) + 5*Routes_(16,_55) + 11*Routes_(16,_56) + 3*Routes_(16,_57) + 6*Routes_(16,_58) + 19*Routes_(16,_59) + 5*Routes_(16,_6) + 14*Routes_(16,_60) + 10*Routes_(16,_61) + 11*Routes_(16,_62) + 17*Routes_(16,_63) + 15*Routes_(16,_64) + 8*Routes_(16,_65) + 8*Routes_(16,_66) + 15*Routes_(16,_67) + 9*Routes_(16,_68) + 15*Routes_(16,_69) + 8*Routes_(16,_7) + 14*Routes_(16,_8) + 4*Routes_(16,_9) + 9*Routes_(17,_0) + 1*Routes_(17,_1) + 14*Routes_(17,_10) + 6*Routes_(17,_11) + 10*Routes_(17,_12) + 4*Routes_(17,_13) + 1*Routes_(17,_14) + 4*Routes_(17,_15) + 6*Routes_(17,_16) + 5*Routes_(17,_17) + 1*Routes_(17,_18) + 7*Routes_(17,_19) + 17*Routes_(17,_2) + 3*Routes_(17,_20) + 7*Routes_(17,_21) + 5*Routes_(17,_22) + 19*Routes_(17,_23) + 6*Routes_(17,_24) + 2*Routes_(17,_25) + 17*Routes_(17,_26) + 17*Routes_(17,_27) + 7*Routes_(17,_28) + 13*Routes_(17,_29) + 13*Routes_(17,_3) + 2*Routes_(17,_30) + 1*Routes_(17,_31) + 14*Routes_(17,_32) + 9*Routes_(17,_33) + 19*Routes_(17,_34) + 19*Routes_(17,_35) + 14*Routes_(17,_36) + 17*Routes_(17,_37) + 3*Routes_(17,_38) + 1*Routes_(17,_39) + 16*Routes_(17,_4) + 3*Routes_(17,_40) + 16*Routes_(17,_41) + 5*Routes_(17,_42) + 16*Routes_(17,_43) + 2*Routes_(17,_44) + 12*Routes_(17,_45) + 10*Routes_(17,_46) + 6*Routes_(17,_47) + 15*Routes_(17,_48) + 19*Routes_(17,_49) + 7*Routes_(17,_5) + 18*Routes_(17,_50) + 12*Routes_(17,_51) + 3*Routes_(17,_52) + 19*Routes_(17,_53) + 5*Routes_(17,_54) + 3*Routes_(17,_55) + 3*Routes_(17,_56) + 13*Routes_(17,_57) + 7*Routes_(17,_58) + 10*Routes_(17,_59) + 11*Routes_(17,_6) + 3*Routes_(17,_60) + 16*Routes_(17,_61) + 2*Routes_(17,_62) + 9*Routes_(17,_63) + 18*Routes_(17,_64) + 16*Routes_(17,_65) + 4*Routes_(17,_66) + 12*Routes_(17,_67) + 6*Routes_(17,_68) + 4*Routes_(17,_69) + 8*Routes_(17,_7) + 2*Routes_(17,_8) + 12*Routes_(17,_9) + 18*Routes_(18,_0) + 6*Routes_(18,_1) + 14*Routes_(18,_10) + 9*Routes_(18,_11) + 3*Routes_(18,_12) + 17*Routes_(18,_13) + 11*Routes_(18,_14) + 17*Routes_(18,_15) + 1*Routes_(18,_16) + 1*Routes_(18,_17) + 13*Routes_(18,_18) + 15*Routes_(18,_19) + 7*Routes_(18,_2) + 15*Routes_(18,_20) + 11*Routes_(18,_21) + 17*Routes_(18,_22) + 18*Routes_(18,_23) + 8*Routes_(18,_24) + 18*Routes_(18,_25) + 17*Routes_(18,_26) + 17*Routes_(18,_27) + 9*Routes_(18,_28) + 16*Routes_(18,_29) + 10*Routes_(18,_3) + 17*Routes_(18,_30) + 17*Routes_(18,_31) + 9*Routes_(18,_32) + 7*Routes_(18,_33) + 6*Routes_(18,_34) + 10*Routes_(18,_35) + 18*Routes_(18,_36) + 6*Routes_(18,_37) + 16*Routes_(18,_38) + 8*Routes_(18,_39) + 6*Routes_(18,_4) + 7*Routes_(18,_40) + 15*Routes_(18,_41) + 13*Routes_(18,_42) + 2*Routes_(18,_43) + 9*Routes_(18,_44) + 7*Routes_(18,_45) + 11*Routes_(18,_46) + 19*Routes_(18,_47) + 2*Routes_(18,_48) + 12*Routes_(18,_49) + 16*Routes_(18,_5) + 17*Routes_(18,_50) + 14*Routes_(18,_51) + 2*Routes_(18,_52) + 6*Routes_(18,_53) + 16*Routes_(18,_54) + 10*Routes_(18,_55) + 8*Routes_(18,_56) + 17*Routes_(18,_57) + 13*Routes_(18,_58) + 17*Routes_(18,_59) + 11*Routes_(18,_6) + 4*Routes_(18,_60) + 13*Routes_(18,_61) + 1*Routes_(18,_62) + 11*Routes_(18,_63) + 11*Routes_(18,_64) + 16*Routes_(18,_65) + 12*Routes_(18,_66) + 19*Routes_(18,_67) + 8*Routes_(18,_68) + 19*Routes_(18,_69) + 8*Routes_(18,_7) + 16*Routes_(18,_8) + 2*Routes_(18,_9) + 16*Routes_(19,_0) + 11*Routes_(19,_1) + 17*Routes_(19,_10) + 2*Routes_(19,_11) + 4*Routes_(19,_12) + 7*Routes_(19,_13) + 15*Routes_(19,_14) + 3*Routes_(19,_15) + 5*Routes_(19,_16) + 2*Routes_(19,_17) + 10*Routes_(19,_18) + 11*Routes_(19,_19) + 2*Routes_(19,_2) + 17*Routes_(19,_20) + 11*Routes_(19,_21) + 13*Routes_(19,_22) + 2*Routes_(19,_23) + 19*Routes_(19,_24) + 14*Routes_(19,_25) + 1*Routes_(19,_26) + 15*Routes_(19,_27) + 9*Routes_(19,_28) + 16*Routes_(19,_29) + 5*Routes_(19,_3) + 19*Routes_(19,_30) + 7*Routes_(19,_31) + 4*Routes_(19,_32) + 19*Routes_(19,_33) + 9*Routes_(19,_34) + 12*Routes_(19,_35) + 8*Routes_(19,_36) + 8*Routes_(19,_37) + 13*Routes_(19,_38) + 7*Routes_(19,_39) + 4*Routes_(19,_4) + 6*Routes_(19,_40) + 10*Routes_(19,_41) + 14*Routes_(19,_42) + 15*Routes_(19,_43) + 3*Routes_(19,_44) + 9*Routes_(19,_45) + 17*Routes_(19,_46) + 10*Routes_(19,_47) + 2*Routes_(19,_48) + 13*Routes_(19,_49) + 9*Routes_(19,_5) + 12*Routes_(19,_50) + 4*Routes_(19,_51) + 5*Routes_(19,_52) + 17*Routes_(19,_53) + 1*Routes_(19,_54) + 6*Routes_(19,_55) + 4*Routes_(19,_56) + 9*Routes_(19,_57) + 10*Routes_(19,_58) + 15*Routes_(19,_59) + 12*Routes_(19,_6) + 15*Routes_(19,_60) + 18*Routes_(19,_61) + 3*Routes_(19,_62) + 14*Routes_(19,_63) + 19*Routes_(19,_64) + 4*Routes_(19,_65) + 11*Routes_(19,_66) + 13*Routes_(19,_67) + 19*Routes_(19,_68) + 2*Routes_(19,_69) + 10*Routes_(19,_7) + 19*Routes_(19,_8) + 15*Routes_(19,_9) + 4*Routes_(2,_0) + 14*Routes_(2,_1) + 12*Routes_(2,_10) + 15*Routes_(2,_11) + 9*Routes_(2,_12) + 4*Routes_(2,_13) + 7*Routes_(2,_14) + 11*Routes_(2,_15) + 10*Routes_(2,_16) + 16*Routes_(2,_17) + 2*Routes_(2,_18) + 16*Routes_(2,_19) + 4*Routes_(2,_2) + 2*Routes_(2,_20) + 17*Routes_(2,_21) + 9*Routes_(2,_22) + 14*Routes_(2,_23) + 2*Routes_(2,_24) + 17*Routes_(2,_25) + 10*Routes_(2,_26) + 16*Routes_(2,_27) + 19*Routes_(2,_28) + 15*Routes_(2,_29) + 1*Routes_(2,_3) + 15*Routes_(2,_30) + 7*Routes_(2,_31) + 2*Routes_(2,_32) + 9*Routes_(2,_33) + 16*Routes_(2,_34) + 9*Routes_(2,_35) + 3*Routes_(2,_36) + 5*Routes_(2,_37) + 9*Routes_(2,_38) + 8*Routes_(2,_39) + 7*Routes_(2,_4) + 18*Routes_(2,_40) + 14*Routes_(2,_41) + 17*Routes_(2,_42) + 11*Routes_(2,_43) + 9*Routes_(2,_44) + 19*Routes_(2,_45) + 2*Routes_(2,_46) + 1*Routes_(2,_47) + 3*Routes_(2,_48) + 3*Routes_(2,_49) + 4*Routes_(2,_5) + 6*Routes_(2,_50) + 6*Routes_(2,_51) + 11*Routes_(2,_52) + 8*Routes_(2,_53) + 8*Routes_(2,_54) + 8*Routes_(2,_55) + 6*Routes_(2,_56) + 14*Routes_(2,_57) + 11*Routes_(2,_58) + 12*Routes_(2,_59) + 17*Routes_(2,_6) + 8*Routes_(2,_60) + 1*Routes_(2,_61) + 16*Routes_(2,_62) + 1*Routes_(2,_63) + 8*Routes_(2,_64) + 16*Routes_(2,_65) + 15*Routes_(2,_66) + 17*Routes_(2,_67) + 1*Routes_(2,_68) + 13*Routes_(2,_69) + 9*Routes_(2,_7) + 9*Routes_(2,_8) + 1*Routes_(2,_9) + 4*Routes_(20,_0) + 14*Routes_(20,_1) + 4*Routes_(20,_10) + 9*Routes_(20,_11) + 8*Routes_(20,_12) + 2*Routes_(20,_13) + 3*Routes_(20,_14) + 15*Routes_(20,_15) + 1*Routes_(20,_16) + 5*Routes_(20,_17) + 6*Routes_(20,_18) + 5*Routes_(20,_19) + 7*Routes_(20,_2) + 14*Routes_(20,_20) + 9*Routes_(20,_21) + 5*Routes_(20,_22) + 7*Routes_(20,_23) + 18*Routes_(20,_24) + 2*Routes_(20,_25) + 11*Routes_(20,_26) + 9*Routes_(20,_27) + 2*Routes_(20,_28) + 16*Routes_(20,_29) + 7*Routes_(20,_3) + 5*Routes_(20,_30) + 5*Routes_(20,_31) + 19*Routes_(20,_32) + 13*Routes_(20,_33) + 6*Routes_(20,_34) + 4*Routes_(20,_35) + 17*Routes_(20,_36) + 3*Routes_(20,_37) + 10*Routes_(20,_38) + 6*Routes_(20,_39) + 13*Routes_(20,_4) + 5*Routes_(20,_40) + 16*Routes_(20,_41) + 1*Routes_(20,_42) + 4*Routes_(20,_43) + 2*Routes_(20,_44) + 19*Routes_(20,_45) + 13*Routes_(20,_46) + 15*Routes_(20,_47) + 13*Routes_(20,_48) + 14*Routes_(20,_49) + 2*Routes_(20,_5) + 17*Routes_(20,_50) + 9*Routes_(20,_51) + 11*Routes_(20,_52) + 2*Routes_(20,_53) + 16*Routes_(20,_54) + 14*Routes_(20,_55) + 7*Routes_(20,_56) + 10*Routes_(20,_57) + 4*Routes_(20,_58) + 16*Routes_(20,_59) + 7*Routes_(20,_6) + 4*Routes_(20,_60) + 11*Routes_(20,_61) + 18*Routes_(20,_62) + 4*Routes_(20,_63) + 17*Routes_(20,_64) + 8*Routes_(20,_65) + 13*Routes_(20,_66) + 13*Routes_(20,_67) + 5*Routes_(20,_68) + 8*Routes_(20,_69) + 14*Routes_(20,_7) + 6*Routes_(20,_8) + 15*Routes_(20,_9) + 8*Routes_(21,_0) + 4*Routes_(21,_1) + 8*Routes_(21,_10) + 19*Routes_(21,_11) + 15*Routes_(21,_12) + 13*Routes_(21,_13) + 14*Routes_(21,_14) + 3*Routes_(21,_15) + 8*Routes_(21,_16) + 1*Routes_(21,_17) + 1*Routes_(21,_18) + 9*Routes_(21,_19) + 6*Routes_(21,_2) + 9*Routes_(21,_20) + 6*Routes_(21,_21) + 19*Routes_(21,_22) + 14*Routes_(21,_23) + 14*Routes_(21,_24) + 18*Routes_(21,_25) + 10*Routes_(21,_26) + 16*Routes_(21,_27) + 2*Routes_(21,_28) + 18*Routes_(21,_29) + 19*Routes_(21,_3) + 13*Routes_(21,_30) + 6*Routes_(21,_31) + 7*Routes_(21,_32) + 18*Routes_(21,_33) + 6*Routes_(21,_34) + 1*Routes_(21,_35) + 11*Routes_(21,_36) + 3*Routes_(21,_37) + 4*Routes_(21,_38) + 6*Routes_(21,_39) + 1*Routes_(21,_4) + 7*Routes_(21,_40) + 3*Routes_(21,_41) + 12*Routes_(21,_42) + 2*Routes_(21,_43) + 1*Routes_(21,_44) + 18*Routes_(21,_45) + 6*Routes_(21,_46) + 11*Routes_(21,_47) + 7*Routes_(21,_48) + 6*Routes_(21,_49) + 8*Routes_(21,_5) + 1*Routes_(21,_50) + 2*Routes_(21,_51) + 4*Routes_(21,_52) + 4*Routes_(21,_53) + 1*Routes_(21,_54) + 10*Routes_(21,_55) + 14*Routes_(21,_56) + 12*Routes_(21,_57) + 19*Routes_(21,_58) + 9*Routes_(21,_59) + 17*Routes_(21,_6) + 10*Routes_(21,_60) + 7*Routes_(21,_61) + 8*Routes_(21,_62) + 15*Routes_(21,_63) + 15*Routes_(21,_64) + 2*Routes_(21,_65) + 16*Routes_(21,_66) + 18*Routes_(21,_67) + 3*Routes_(21,_68) + 6*Routes_(21,_69) + 15*Routes_(21,_7) + 6*Routes_(21,_8) + 6*Routes_(21,_9) + 1*Routes_(22,_0) + 9*Routes_(22,_1) + 10*Routes_(22,_10) + 10*Routes_(22,_11) + 8*Routes_(22,_12) + 14*Routes_(22,_13) + 18*Routes_(22,_14) + 18*Routes_(22,_15) + 16*Routes_(22,_16) + 4*Routes_(22,_17) + 10*Routes_(22,_18) + 7*Routes_(22,_19) + 19*Routes_(22,_2) + 9*Routes_(22,_20) + 15*Routes_(22,_21) + 19*Routes_(22,_22) + 7*Routes_(22,_23) + 16*Routes_(22,_24) + 1*Routes_(22,_25) + 19*Routes_(22,_26) + 8*Routes_(22,_27) + 8*Routes_(22,_28) + 18*Routes_(22,_29) + 11*Routes_(22,_3) + 18*Routes_(22,_30) + 2*Routes_(22,_31) + 7*Routes_(22,_32) + 9*Routes_(22,_33) + 11*Routes_(22,_34) + 14*Routes_(22,_35) + 4*Routes_(22,_36) + 17*Routes_(22,_37) + 14*Routes_(22,_38) + 6*Routes_(22,_39) + 16*Routes_(22,_4) + 11*Routes_(22,_40) + 15*Routes_(22,_41) + 4*Routes_(22,_42) + 9*Routes_(22,_43) + 2*Routes_(22,_44) + 10*Routes_(22,_45) + 2*Routes_(22,_46) + 17*Routes_(22,_47) + 1*Routes_(22,_48) + 13*Routes_(22,_49) + 9*Routes_(22,_5) + 6*Routes_(22,_50) + 8*Routes_(22,_51) + 14*Routes_(22,_52) + 9*Routes_(22,_53) + 1*Routes_(22,_54) + 14*Routes_(22,_55) + 7*Routes_(22,_56) + 19*Routes_(22,_57) + 1*Routes_(22,_58) + 7*Routes_(22,_59) + 19*Routes_(22,_6) + 16*Routes_(22,_60) + 6*Routes_(22,_61) + 19*Routes_(22,_62) + 19*Routes_(22,_63) + 5*Routes_(22,_64) + 13*Routes_(22,_65) + 12*Routes_(22,_66) + 4*Routes_(22,_67) + 19*Routes_(22,_68) + 15*Routes_(22,_69) + 9*Routes_(22,_7) + 1*Routes_(22,_8) + 11*Routes_(22,_9) + 18*Routes_(23,_0) + 4*Routes_(23,_1) + 15*Routes_(23,_10) + 14*Routes_(23,_11) + 17*Routes_(23,_12) + 18*Routes_(23,_13) + 19*Routes_(23,_14) + 5*Routes_(23,_15) + 13*Routes_(23,_16) + 1*Routes_(23,_17) + 2*Routes_(23,_18) + 3*Routes_(23,_19) + 5*Routes_(23,_2) + 16*Routes_(23,_20) + 2*Routes_(23,_21) + 10*Routes_(23,_22) + 4*Routes_(23,_23) + 1*Routes_(23,_24) + 1*Routes_(23,_25) + 3*Routes_(23,_26) + 17*Routes_(23,_27) + 11*Routes_(23,_28) + 3*Routes_(23,_29) + 17*Routes_(23,_3) + 11*Routes_(23,_30) + 9*Routes_(23,_31) + 2*Routes_(23,_32) + 11*Routes_(23,_33) + 3*Routes_(23,_34) + 3*Routes_(23,_35) + 8*Routes_(23,_36) + 1*Routes_(23,_37) + 11*Routes_(23,_38) + 7*Routes_(23,_39) + 15*Routes_(23,_4) + 16*Routes_(23,_40) + 13*Routes_(23,_41) + 11*Routes_(23,_42) + 13*Routes_(23,_43) + 4*Routes_(23,_44) + 8*Routes_(23,_45) + 19*Routes_(23,_46) + 17*Routes_(23,_47) + 18*Routes_(23,_48) + 12*Routes_(23,_49) + 2*Routes_(23,_5) + 15*Routes_(23,_50) + 18*Routes_(23,_51) + 4*Routes_(23,_52) + 7*Routes_(23,_53) + 2*Routes_(23,_54) + 4*Routes_(23,_55) + 4*Routes_(23,_56) + 12*Routes_(23,_57) + 9*Routes_(23,_58) + 19*Routes_(23,_59) + 2*Routes_(23,_6) + 6*Routes_(23,_60) + 17*Routes_(23,_61) + 18*Routes_(23,_62) + 6*Routes_(23,_63) + 8*Routes_(23,_64) + 10*Routes_(23,_65) + 9*Routes_(23,_66) + 12*Routes_(23,_67) + 2*Routes_(23,_68) + 5*Routes_(23,_69) + 11*Routes_(23,_7) + 1*Routes_(23,_8) + 13*Routes_(23,_9) + 8*Routes_(24,_0) + 18*Routes_(24,_1) + 11*Routes_(24,_10) + 10*Routes_(24,_11) + 8*Routes_(24,_12) + 16*Routes_(24,_13) + 1*Routes_(24,_14) + 14*Routes_(24,_15) + 6*Routes_(24,_16) + 16*Routes_(24,_17) + 1*Routes_(24,_18) + 2*Routes_(24,_19) + 9*Routes_(24,_2) + 11*Routes_(24,_20) + 1*Routes_(24,_21) + 4*Routes_(24,_22) + 5*Routes_(24,_23) + 12*Routes_(24,_24) + 15*Routes_(24,_25) + 10*Routes_(24,_26) + 14*Routes_(24,_27) + 7*Routes_(24,_28) + 15*Routes_(24,_29) + 15*Routes_(24,_3) + 19*Routes_(24,_30) + 7*Routes_(24,_31) + 17*Routes_(24,_32) + 16*Routes_(24,_33) + 7*Routes_(24,_34) + 19*Routes_(24,_35) + 9*Routes_(24,_36) + 17*Routes_(24,_37) + 19*Routes_(24,_38) + 12*Routes_(24,_39) + 17*Routes_(24,_4) + 7*Routes_(24,_40) + 16*Routes_(24,_41) + 8*Routes_(24,_42) + 14*Routes_(24,_43) + 9*Routes_(24,_44) + 13*Routes_(24,_45) + 8*Routes_(24,_46) + 7*Routes_(24,_47) + 3*Routes_(24,_48) + 6*Routes_(24,_49) + 15*Routes_(24,_5) + 1*Routes_(24,_50) + 16*Routes_(24,_51) + 16*Routes_(24,_52) + 19*Routes_(24,_53) + 16*Routes_(24,_54) + 17*Routes_(24,_55) + 7*Routes_(24,_56) + 11*Routes_(24,_57) + 14*Routes_(24,_58) + 8*Routes_(24,_59) + 11*Routes_(24,_6) + 2*Routes_(24,_60) + 1*Routes_(24,_61) + 13*Routes_(24,_62) + 1*Routes_(24,_63) + 16*Routes_(24,_64) + 6*Routes_(24,_65) + 19*Routes_(24,_66) + 14*Routes_(24,_67) + 17*Routes_(24,_68) + 19*Routes_(24,_69) + 15*Routes_(24,_7) + 9*Routes_(24,_8) + 16*Routes_(24,_9) + 12*Routes_(25,_0) + 1*Routes_(25,_1) + 10*Routes_(25,_10) + 1*Routes_(25,_11) + 3*Routes_(25,_12) + 3*Routes_(25,_13) + 10*Routes_(25,_14) + 14*Routes_(25,_15) + 3*Routes_(25,_16) + 14*Routes_(25,_17) + 4*Routes_(25,_18) + 1*Routes_(25,_19) + 19*Routes_(25,_2) + 13*Routes_(25,_20) + 15*Routes_(25,_21) + 7*Routes_(25,_22) + 6*Routes_(25,_23) + 16*Routes_(25,_24) + 17*Routes_(25,_25) + 3*Routes_(25,_26) + 19*Routes_(25,_27) + 14*Routes_(25,_28) + 8*Routes_(25,_29) + 9*Routes_(25,_3) + 7*Routes_(25,_30) + 11*Routes_(25,_31) + 1*Routes_(25,_32) + 14*Routes_(25,_33) + 18*Routes_(25,_34) + 3*Routes_(25,_35) + 11*Routes_(25,_36) + 6*Routes_(25,_37) + 12*Routes_(25,_38) + 11*Routes_(25,_39) + 15*Routes_(25,_4) + 12*Routes_(25,_40) + 3*Routes_(25,_41) + 16*Routes_(25,_42) + 4*Routes_(25,_43) + 6*Routes_(25,_44) + 7*Routes_(25,_45) + 7*Routes_(25,_46) + 12*Routes_(25,_47) + 19*Routes_(25,_48) + 14*Routes_(25,_49) + 12*Routes_(25,_5) + 2*Routes_(25,_50) + 15*Routes_(25,_51) + 15*Routes_(25,_52) + 11*Routes_(25,_53) + 11*Routes_(25,_54) + 19*Routes_(25,_55) + 2*Routes_(25,_56) + 1*Routes_(25,_57) + 14*Routes_(25,_58) + 6*Routes_(25,_59) + 1*Routes_(25,_6) + 17*Routes_(25,_60) + 9*Routes_(25,_61) + 6*Routes_(25,_62) + 9*Routes_(25,_63) + 1*Routes_(25,_64) + 17*Routes_(25,_65) + 16*Routes_(25,_66) + 7*Routes_(25,_67) + 9*Routes_(25,_68) + 17*Routes_(25,_69) + 8*Routes_(25,_7) + 3*Routes_(25,_8) + 3*Routes_(25,_9) + 6*Routes_(26,_0) + 4*Routes_(26,_1) + 12*Routes_(26,_10) + 19*Routes_(26,_11) + 3*Routes_(26,_12) + 12*Routes_(26,_13) + 17*Routes_(26,_14) + 9*Routes_(26,_15) + 11*Routes_(26,_16) + 10*Routes_(26,_17) + 5*Routes_(26,_18) + 1*Routes_(26,_19) + 11*Routes_(26,_2) + 8*Routes_(26,_20) + 16*Routes_(26,_21) + 16*Routes_(26,_22) + 5*Routes_(26,_23) + 12*Routes_(26,_24) + 1*Routes_(26,_25) + 12*Routes_(26,_26) + 18*Routes_(26,_27) + 5*Routes_(26,_28) + 7*Routes_(26,_29) + 15*Routes_(26,_3) + 4*Routes_(26,_30) + 2*Routes_(26,_31) + 9*Routes_(26,_32) + 16*Routes_(26,_33) + 11*Routes_(26,_34) + 5*Routes_(26,_35) + 9*Routes_(26,_36) + 16*Routes_(26,_37) + 10*Routes_(26,_38) + 9*Routes_(26,_39) + 17*Routes_(26,_4) + 12*Routes_(26,_40) + 18*Routes_(26,_41) + 2*Routes_(26,_42) + 14*Routes_(26,_43) + 7*Routes_(26,_44) + 2*Routes_(26,_45) + 15*Routes_(26,_46) + 12*Routes_(26,_47) + 14*Routes_(26,_48) + 12*Routes_(26,_49) + 4*Routes_(26,_5) + 2*Routes_(26,_50) + 17*Routes_(26,_51) + 6*Routes_(26,_52) + 1*Routes_(26,_53) + 15*Routes_(26,_54) + 15*Routes_(26,_55) + 2*Routes_(26,_56) + 9*Routes_(26,_57) + 8*Routes_(26,_58) + 17*Routes_(26,_59) + 3*Routes_(26,_6) + 17*Routes_(26,_60) + 1*Routes_(26,_61) + 14*Routes_(26,_62) + 6*Routes_(26,_63) + 10*Routes_(26,_64) + 12*Routes_(26,_65) + 15*Routes_(26,_66) + 1*Routes_(26,_67) + 18*Routes_(26,_68) + 10*Routes_(26,_69) + 15*Routes_(26,_7) + 7*Routes_(26,_8) + 13*Routes_(26,_9) + 14*Routes_(27,_0) + 1*Routes_(27,_1) + 10*Routes_(27,_10) + 13*Routes_(27,_11) + 4*Routes_(27,_12) + 4*Routes_(27,_13) + 1*Routes_(27,_14) + 11*Routes_(27,_15) + 16*Routes_(27,_16) + 7*Routes_(27,_17) + 19*Routes_(27,_18) + 18*Routes_(27,_19) + 18*Routes_(27,_2) + 2*Routes_(27,_20) + 19*Routes_(27,_21) + 16*Routes_(27,_22) + 19*Routes_(27,_23) + 1*Routes_(27,_24) + 11*Routes_(27,_25) + 2*Routes_(27,_26) + 16*Routes_(27,_27) + 4*Routes_(27,_28) + 5*Routes_(27,_29) + 10*Routes_(27,_3) + 2*Routes_(27,_30) + 4*Routes_(27,_31) + 12*Routes_(27,_32) + 17*Routes_(27,_33) + 4*Routes_(27,_34) + 14*Routes_(27,_35) + 17*Routes_(27,_36) + 12*Routes_(27,_37) + 2*Routes_(27,_38) + 2*Routes_(27,_39) + 19*Routes_(27,_4) + 2*Routes_(27,_40) + 15*Routes_(27,_41) + 19*Routes_(27,_42) + 16*Routes_(27,_43) + 13*Routes_(27,_44) + 12*Routes_(27,_45) + 10*Routes_(27,_46) + 3*Routes_(27,_47) + 4*Routes_(27,_48) + 18*Routes_(27,_49) + 2*Routes_(27,_5) + 16*Routes_(27,_50) + 1*Routes_(27,_51) + 11*Routes_(27,_52) + 13*Routes_(27,_53) + 8*Routes_(27,_54) + 5*Routes_(27,_55) + 16*Routes_(27,_56) + 3*Routes_(27,_57) + 4*Routes_(27,_58) + 13*Routes_(27,_59) + 13*Routes_(27,_6) + 6*Routes_(27,_60) + 18*Routes_(27,_61) + 6*Routes_(27,_62) + 4*Routes_(27,_63) + 2*Routes_(27,_64) + 3*Routes_(27,_65) + 13*Routes_(27,_66) + 6*Routes_(27,_67) + 16*Routes_(27,_68) + 9*Routes_(27,_69) + 6*Routes_(27,_7) + 3*Routes_(27,_8) + 17*Routes_(27,_9) + 13*Routes_(28,_0) + 3*Routes_(28,_1) + 10*Routes_(28,_10) + 5*Routes_(28,_11) + 12*Routes_(28,_12) + 3*Routes_(28,_13) + 12*Routes_(28,_14) + 12*Routes_(28,_15) + 8*Routes_(28,_16) + 8*Routes_(28,_17) + 12*Routes_(28,_18) + 13*Routes_(28,_19) + 13*Routes_(28,_2) + 10*Routes_(28,_20) + 11*Routes_(28,_21) + 7*Routes_(28,_22) + 13*Routes_(28,_23) + 3*Routes_(28,_24) + 14*Routes_(28,_25) + 15*Routes_(28,_26) + 9*Routes_(28,_27) + 13*Routes_(28,_28) + 19*Routes_(28,_29) + 4*Routes_(28,_3) + 19*Routes_(28,_30) + 13*Routes_(28,_31) + 16*Routes_(28,_32) + 3*Routes_(28,_33) + 8*Routes_(28,_34) + 16*Routes_(28,_35) + 18*Routes_(28,_36) + 15*Routes_(28,_37) + 3*Routes_(28,_38) + 9*Routes_(28,_39) + 6*Routes_(28,_4) + 12*Routes_(28,_40) + 8*Routes_(28,_41) + 10*Routes_(28,_42) + 8*Routes_(28,_43) + 4*Routes_(28,_44) + 18*Routes_(28,_45) + 17*Routes_(28,_46) + 16*Routes_(28,_47) + 9*Routes_(28,_48) + 7*Routes_(28,_49) + 16*Routes_(28,_5) + 16*Routes_(28,_50) + 8*Routes_(28,_51) + 5*Routes_(28,_52) + 19*Routes_(28,_53) + 7*Routes_(28,_54) + 18*Routes_(28,_55) + 18*Routes_(28,_56) + 5*Routes_(28,_57) + 16*Routes_(28,_58) + 7*Routes_(28,_59) + 19*Routes_(28,_6) + 17*Routes_(28,_60) + 18*Routes_(28,_61) + 9*Routes_(28,_62) + 19*Routes_(28,_63) + 2*Routes_(28,_64) + 5*Routes_(28,_65) + 15*Routes_(28,_66) + 14*Routes_(28,_67) + 18*Routes_(28,_68) + 5*Routes_(28,_69) + 12*Routes_(28,_7) + 9*Routes_(28,_8) + 17*Routes_(28,_9) + 7*Routes_(29,_0) + 4*Routes_(29,_1) + 11*Routes_(29,_10) + 5*Routes_(29,_11) + 10*Routes_(29,_12) + 15*Routes_(29,_13) + 2*Routes_(29,_14) + 17*Routes_(29,_15) + 5*Routes_(29,_16) + 13*Routes_(29,_17) + 18*Routes_(29,_18) + 8*Routes_(29,_19) + 18*Routes_(29,_2) + 10*Routes_(29,_20) + 15*Routes_(29,_21) + 18*Routes_(29,_22) + 7*Routes_(29,_23) + 19*Routes_(29,_24) + 5*Routes_(29,_25) + 6*Routes_(29,_26) + 8*Routes_(29,_27) + 9*Routes_(29,_28) + 3*Routes_(29,_29) + 4*Routes_(29,_3) + 15*Routes_(29,_30) + 8*Routes_(29,_31) + 18*Routes_(29,_32) + 17*Routes_(29,_33) + 1*Routes_(29,_34) + 1*Routes_(29,_35) + 2*Routes_(29,_36) + 15*Routes_(29,_37) + 18*Routes_(29,_38) + 7*Routes_(29,_39) + 5*Routes_(29,_4) + 13*Routes_(29,_40) + 7*Routes_(29,_41) + 8*Routes_(29,_42) + 16*Routes_(29,_43) + 10*Routes_(29,_44) + 8*Routes_(29,_45) + 3*Routes_(29,_46) + 13*Routes_(29,_47) + 3*Routes_(29,_48) + 11*Routes_(29,_49) + 12*Routes_(29,_5) + 10*Routes_(29,_50) + 18*Routes_(29,_51) + 18*Routes_(29,_52) + 5*Routes_(29,_53) + 13*Routes_(29,_54) + 14*Routes_(29,_55) + 13*Routes_(29,_56) + 8*Routes_(29,_57) + 16*Routes_(29,_58) + 11*Routes_(29,_59) + 6*Routes_(29,_6) + 11*Routes_(29,_60) + 12*Routes_(29,_61) + 15*Routes_(29,_62) + 12*Routes_(29,_63) + 16*Routes_(29,_64) + 11*Routes_(29,_65) + 16*Routes_(29,_66) + 3*Routes_(29,_67) + 11*Routes_(29,_68) + 16*Routes_(29,_69) + 17*Routes_(29,_7) + 12*Routes_(29,_8) + 19*Routes_(29,_9) + 1*Routes_(3,_0) + 9*Routes_(3,_1) + 11*Routes_(3,_10) + 19*Routes_(3,_11) + 17*Routes_(3,_12) + 8*Routes_(3,_13) + 8*Routes_(3,_14) + 8*Routes_(3,_15) + 16*Routes_(3,_16) + 19*Routes_(3,_17) + 10*Routes_(3,_18) + 9*Routes_(3,_19) + 3*Routes_(3,_2) + 1*Routes_(3,_20) + 7*Routes_(3,_21) + 8*Routes_(3,_22) + 11*Routes_(3,_23) + 3*Routes_(3,_24) + 14*Routes_(3,_25) + 3*Routes_(3,_26) + 14*Routes_(3,_27) + 11*Routes_(3,_28) + 2*Routes_(3,_29) + 8*Routes_(3,_3) + 3*Routes_(3,_30) + 17*Routes_(3,_31) + 9*Routes_(3,_32) + 7*Routes_(3,_33) + 8*Routes_(3,_34) + 16*Routes_(3,_35) + 17*Routes_(3,_36) + 18*Routes_(3,_37) + 5*Routes_(3,_38) + 13*Routes_(3,_39) + 9*Routes_(3,_4) + 9*Routes_(3,_40) + 18*Routes_(3,_41) + 12*Routes_(3,_42) + 6*Routes_(3,_43) + 4*Routes_(3,_44) + 14*Routes_(3,_45) + 5*Routes_(3,_46) + 7*Routes_(3,_47) + 2*Routes_(3,_48) + 6*Routes_(3,_49) + 14*Routes_(3,_5) + 19*Routes_(3,_50) + 15*Routes_(3,_51) + 8*Routes_(3,_52) + 14*Routes_(3,_53) + 4*Routes_(3,_54) + 1*Routes_(3,_55) + 13*Routes_(3,_56) + 14*Routes_(3,_57) + 7*Routes_(3,_58) + 3*Routes_(3,_59) + 6*Routes_(3,_6) + 19*Routes_(3,_60) + 17*Routes_(3,_61) + 11*Routes_(3,_62) + 16*Routes_(3,_63) + 4*Routes_(3,_64) + 16*Routes_(3,_65) + 9*Routes_(3,_66) + 8*Routes_(3,_67) + 17*Routes_(3,_68) + 19*Routes_(3,_69) + 5*Routes_(3,_7) + 1*Routes_(3,_8) + 6*Routes_(3,_9) + 1*Routes_(30,_0) + 18*Routes_(30,_1) + 17*Routes_(30,_10) + 1*Routes_(30,_11) + 8*Routes_(30,_12) + 3*Routes_(30,_13) + 14*Routes_(30,_14) + 13*Routes_(30,_15) + 7*Routes_(30,_16) + 19*Routes_(30,_17) + 5*Routes_(30,_18) + 13*Routes_(30,_19) + 8*Routes_(30,_2) + 9*Routes_(30,_20) + 15*Routes_(30,_21) + 17*Routes_(30,_22) + 10*Routes_(30,_23) + 9*Routes_(30,_24) + 8*Routes_(30,_25) + 12*Routes_(30,_26) + 4*Routes_(30,_27) + 19*Routes_(30,_28) + 7*Routes_(30,_29) + 15*Routes_(30,_3) + 1*Routes_(30,_30) + 4*Routes_(30,_31) + 6*Routes_(30,_32) + 17*Routes_(30,_33) + 11*Routes_(30,_34) + 15*Routes_(30,_35) + 17*Routes_(30,_36) + 10*Routes_(30,_37) + 3*Routes_(30,_38) + 19*Routes_(30,_39) + 4*Routes_(30,_4) + 14*Routes_(30,_40) + 6*Routes_(30,_41) + 12*Routes_(30,_42) + 5*Routes_(30,_43) + 19*Routes_(30,_44) + 5*Routes_(30,_45) + 2*Routes_(30,_46) + 2*Routes_(30,_47) + 5*Routes_(30,_48) + 15*Routes_(30,_49) + 5*Routes_(30,_5) + 10*Routes_(30,_50) + 18*Routes_(30,_51) + 14*Routes_(30,_52) + 3*Routes_(30,_53) + 17*Routes_(30,_54) + 15*Routes_(30,_55) + 7*Routes_(30,_56) + 14*Routes_(30,_57) + 12*Routes_(30,_58) + 2*Routes_(30,_59) + 6*Routes_(30,_6) + 1*Routes_(30,_60) + 18*Routes_(30,_61) + 14*Routes_(30,_62) + 1*Routes_(30,_63) + 19*Routes_(30,_64) + 18*Routes_(30,_65) + 3*Routes_(30,_66) + 9*Routes_(30,_67) + 15*Routes_(30,_68) + 17*Routes_(30,_69) + 17*Routes_(30,_7) + 4*Routes_(30,_8) + 10*Routes_(30,_9) + 11*Routes_(31,_0) + 4*Routes_(31,_1) + 2*Routes_(31,_10) + 16*Routes_(31,_11) + 15*Routes_(31,_12) + 1*Routes_(31,_13) + 2*Routes_(31,_14) + 10*Routes_(31,_15) + 17*Routes_(31,_16) + 11*Routes_(31,_17) + 4*Routes_(31,_18) + 6*Routes_(31,_19) + 15*Routes_(31,_2) + 12*Routes_(31,_20) + 14*Routes_(31,_21) + 14*Routes_(31,_22) + 18*Routes_(31,_23) + 8*Routes_(31,_24) + 11*Routes_(31,_25) + 15*Routes_(31,_26) + 10*Routes_(31,_27) + 18*Routes_(31,_28) + 2*Routes_(31,_29) + 11*Routes_(31,_3) + 12*Routes_(31,_30) + 18*Routes_(31,_31) + 2*Routes_(31,_32) + 5*Routes_(31,_33) + 8*Routes_(31,_34) + 3*Routes_(31,_35) + 10*Routes_(31,_36) + 10*Routes_(31,_37) + 16*Routes_(31,_38) + 12*Routes_(31,_39) + 14*Routes_(31,_4) + 13*Routes_(31,_40) + 17*Routes_(31,_41) + 4*Routes_(31,_42) + 14*Routes_(31,_43) + 15*Routes_(31,_44) + 4*Routes_(31,_45) + 17*Routes_(31,_46) + 1*Routes_(31,_47) + 6*Routes_(31,_48) + 18*Routes_(31,_49) + 8*Routes_(31,_5) + 6*Routes_(31,_50) + 1*Routes_(31,_51) + 1*Routes_(31,_52) + 6*Routes_(31,_53) + 6*Routes_(31,_54) + 12*Routes_(31,_55) + 9*Routes_(31,_56) + 1*Routes_(31,_57) + 10*Routes_(31,_58) + 18*Routes_(31,_59) + 14*Routes_(31,_6) + 6*Routes_(31,_60) + 16*Routes_(31,_61) + 6*Routes_(31,_62) + 3*Routes_(31,_63) + 7*Routes_(31,_64) + 13*Routes_(31,_65) + 1*Routes_(31,_66) + 7*Routes_(31,_67) + 6*Routes_(31,_68) + 5*Routes_(31,_69) + 15*Routes_(31,_7) + 3*Routes_(31,_8) + 13*Routes_(31,_9) + 11*Routes_(32,_0) + 5*Routes_(32,_1) + 13*Routes_(32,_10) + 3*Routes_(32,_11) + 13*Routes_(32,_12) + 16*Routes_(32,_13) + 11*Routes_(32,_14) + 12*Routes_(32,_15) + 17*Routes_(32,_16) + 3*Routes_(32,_17) + 16*Routes_(32,_18) + 11*Routes_(32,_19) + 17*Routes_(32,_2) + 1*Routes_(32,_20) + 17*Routes_(32,_21) + 14*Routes_(32,_22) + 18*Routes_(32,_23) + 12*Routes_(32,_24) + 2*Routes_(32,_25) + 10*Routes_(32,_26) + 1*Routes_(32,_27) + 11*Routes_(32,_28) + 10*Routes_(32,_29) + 10*Routes_(32,_3) + 12*Routes_(32,_30) + 2*Routes_(32,_31) + 8*Routes_(32,_32) + 1*Routes_(32,_33) + 5*Routes_(32,_34) + 4*Routes_(32,_35) + 13*Routes_(32,_36) + 1*Routes_(32,_37) + 11*Routes_(32,_38) + 7*Routes_(32,_39) + 17*Routes_(32,_4) + 2*Routes_(32,_40) + 6*Routes_(32,_41) + 15*Routes_(32,_42) + 3*Routes_(32,_43) + 3*Routes_(32,_44) + 16*Routes_(32,_45) + 8*Routes_(32,_46) + 13*Routes_(32,_47) + 7*Routes_(32,_48) + 6*Routes_(32,_49) + 6*Routes_(32,_5) + 1*Routes_(32,_50) + 15*Routes_(32,_51) + 10*Routes_(32,_52) + 13*Routes_(32,_53) + 3*Routes_(32,_54) + 16*Routes_(32,_55) + 11*Routes_(32,_56) + 3*Routes_(32,_57) + 11*Routes_(32,_58) + 14*Routes_(32,_59) + 17*Routes_(32,_6) + 3*Routes_(32,_60) + 10*Routes_(32,_61) + 12*Routes_(32,_62) + 5*Routes_(32,_63) + 19*Routes_(32,_64) + 2*Routes_(32,_65) + 15*Routes_(32,_66) + 8*Routes_(32,_67) + 8*Routes_(32,_68) + 15*Routes_(32,_69) + 14*Routes_(32,_7) + 17*Routes_(32,_8) + 2*Routes_(32,_9) + 18*Routes_(33,_0) + 16*Routes_(33,_1) + 7*Routes_(33,_10) + 2*Routes_(33,_11) + 8*Routes_(33,_12) + 6*Routes_(33,_13) + 9*Routes_(33,_14) + 12*Routes_(33,_15) + 13*Routes_(33,_16) + 17*Routes_(33,_17) + 10*Routes_(33,_18) + 3*Routes_(33,_19) + 8*Routes_(33,_2) + 15*Routes_(33,_20) + 16*Routes_(33,_21) + 19*Routes_(33,_22) + 9*Routes_(33,_23) + 13*Routes_(33,_24) + 2*Routes_(33,_25) + 17*Routes_(33,_26) + 18*Routes_(33,_27) + 10*Routes_(33,_28) + 17*Routes_(33,_29) + 6*Routes_(33,_3) + 7*Routes_(33,_30) + 16*Routes_(33,_31) + 16*Routes_(33,_32) + 1*Routes_(33,_33) + 5*Routes_(33,_34) + 15*Routes_(33,_35) + 11*Routes_(33,_36) + 3*Routes_(33,_37) + 4*Routes_(33,_38) + 4*Routes_(33,_39) + 9*Routes_(33,_4) + 5*Routes_(33,_40) + 19*Routes_(33,_41) + 2*Routes_(33,_42) + 7*Routes_(33,_43) + 2*Routes_(33,_44) + 16*Routes_(33,_45) + 19*Routes_(33,_46) + 12*Routes_(33,_47) + 1*Routes_(33,_48) + 18*Routes_(33,_49) + 5*Routes_(33,_5) + 10*Routes_(33,_50) + 2*Routes_(33,_51) + 6*Routes_(33,_52) + 18*Routes_(33,_53) + 1*Routes_(33,_54) + 2*Routes_(33,_55) + 10*Routes_(33,_56) + 6*Routes_(33,_57) + 9*Routes_(33,_58) + 18*Routes_(33,_59) + 17*Routes_(33,_6) + 12*Routes_(33,_60) + 11*Routes_(33,_61) + 7*Routes_(33,_62) + 14*Routes_(33,_63) + 4*Routes_(33,_64) + 12*Routes_(33,_65) + 3*Routes_(33,_66) + 11*Routes_(33,_67) + 16*Routes_(33,_68) + 10*Routes_(33,_69) + 5*Routes_(33,_7) + 4*Routes_(33,_8) + 2*Routes_(33,_9) + 18*Routes_(34,_0) + 17*Routes_(34,_1) + 6*Routes_(34,_10) + 11*Routes_(34,_11) + 10*Routes_(34,_12) + 19*Routes_(34,_13) + 2*Routes_(34,_14) + 7*Routes_(34,_15) + 8*Routes_(34,_16) + 4*Routes_(34,_17) + 10*Routes_(34,_18) + 19*Routes_(34,_19) + 14*Routes_(34,_2) + 16*Routes_(34,_20) + 10*Routes_(34,_21) + 15*Routes_(34,_22) + 6*Routes_(34,_23) + 1*Routes_(34,_24) + 4*Routes_(34,_25) + 11*Routes_(34,_26) + 16*Routes_(34,_27) + 13*Routes_(34,_28) + 14*Routes_(34,_29) + 4*Routes_(34,_3) + 9*Routes_(34,_30) + 14*Routes_(34,_31) + 12*Routes_(34,_32) + 11*Routes_(34,_33) + 4*Routes_(34,_34) + 3*Routes_(34,_35) + 18*Routes_(34,_36) + 9*Routes_(34,_37) + 15*Routes_(34,_38) + 8*Routes_(34,_39) + 11*Routes_(34,_4) + 8*Routes_(34,_40) + 8*Routes_(34,_41) + 18*Routes_(34,_42) + 17*Routes_(34,_43) + 12*Routes_(34,_44) + 3*Routes_(34,_45) + 6*Routes_(34,_46) + 2*Routes_(34,_47) + 2*Routes_(34,_48) + 15*Routes_(34,_49) + 11*Routes_(34,_5) + 12*Routes_(34,_50) + 16*Routes_(34,_51) + 9*Routes_(34,_52) + 5*Routes_(34,_53) + 17*Routes_(34,_54) + 13*Routes_(34,_55) + 2*Routes_(34,_56) + 16*Routes_(34,_57) + 16*Routes_(34,_58) + 16*Routes_(34,_59) + 14*Routes_(34,_6) + 10*Routes_(34,_60) + 1*Routes_(34,_61) + 11*Routes_(34,_62) + 15*Routes_(34,_63) + 2*Routes_(34,_64) + 16*Routes_(34,_65) + 14*Routes_(34,_66) + 10*Routes_(34,_67) + 12*Routes_(34,_68) + 9*Routes_(34,_69) + 5*Routes_(34,_7) + 1*Routes_(34,_8) + 15*Routes_(34,_9) + 16*Routes_(35,_0) + 5*Routes_(35,_1) + 19*Routes_(35,_10) + 15*Routes_(35,_11) + 6*Routes_(35,_12) + 5*Routes_(35,_13) + 14*Routes_(35,_14) + 5*Routes_(35,_15) + 19*Routes_(35,_16) + 12*Routes_(35,_17) + 1*Routes_(35,_18) + 19*Routes_(35,_19) + 14*Routes_(35,_2) + 12*Routes_(35,_20) + 16*Routes_(35,_21) + 9*Routes_(35,_22) + 2*Routes_(35,_23) + 5*Routes_(35,_24) + 17*Routes_(35,_25) + 12*Routes_(35,_26) + 12*Routes_(35,_27) + 2*Routes_(35,_28) + 16*Routes_(35,_29) + 6*Routes_(35,_3) + 8*Routes_(35,_30) + 7*Routes_(35,_31) + 16*Routes_(35,_32) + 13*Routes_(35,_33) + 3*Routes_(35,_34) + 15*Routes_(35,_35) + 6*Routes_(35,_36) + 16*Routes_(35,_37) + 12*Routes_(35,_38) + 19*Routes_(35,_39) + 6*Routes_(35,_4) + 18*Routes_(35,_40) + 3*Routes_(35,_41) + 16*Routes_(35,_42) + 6*Routes_(35,_43) + 12*Routes_(35,_44) + 8*Routes_(35,_45) + 8*Routes_(35,_46) + 5*Routes_(35,_47) + 5*Routes_(35,_48) + 9*Routes_(35,_49) + 10*Routes_(35,_5) + 9*Routes_(35,_50) + 9*Routes_(35,_51) + 8*Routes_(35,_52) + 5*Routes_(35,_53) + 4*Routes_(35,_54) + 16*Routes_(35,_55) + 5*Routes_(35,_56) + 4*Routes_(35,_57) + 7*Routes_(35,_58) + 14*Routes_(35,_59) + 8*Routes_(35,_6) + 7*Routes_(35,_60) + 9*Routes_(35,_61) + 18*Routes_(35,_62) + 13*Routes_(35,_63) + 6*Routes_(35,_64) + 15*Routes_(35,_65) + 6*Routes_(35,_66) + 10*Routes_(35,_67) + 10*Routes_(35,_68) + 12*Routes_(35,_69) + 7*Routes_(35,_7) + 19*Routes_(35,_8) + 1*Routes_(35,_9) + 17*Routes_(36,_0) + 4*Routes_(36,_1) + 3*Routes_(36,_10) + 17*Routes_(36,_11) + 15*Routes_(36,_12) + 5*Routes_(36,_13) + 7*Routes_(36,_14) + 18*Routes_(36,_15) + 4*Routes_(36,_16) + 8*Routes_(36,_17) + 12*Routes_(36,_18) + 19*Routes_(36,_19) + 12*Routes_(36,_2) + 12*Routes_(36,_20) + 15*Routes_(36,_21) + 1*Routes_(36,_22) + 18*Routes_(36,_23) + 9*Routes_(36,_24) + 16*Routes_(36,_25) + 9*Routes_(36,_26) + 9*Routes_(36,_27) + 3*Routes_(36,_28) + 7*Routes_(36,_29) + 8*Routes_(36,_3) + 13*Routes_(36,_30) + 16*Routes_(36,_31) + 1*Routes_(36,_32) + 8*Routes_(36,_33) + 12*Routes_(36,_34) + 2*Routes_(36,_35) + 2*Routes_(36,_36) + 11*Routes_(36,_37) + 5*Routes_(36,_38) + 6*Routes_(36,_39) + 2*Routes_(36,_4) + 12*Routes_(36,_40) + 4*Routes_(36,_41) + 2*Routes_(36,_42) + 17*Routes_(36,_43) + 6*Routes_(36,_44) + 15*Routes_(36,_45) + 4*Routes_(36,_46) + 4*Routes_(36,_47) + 6*Routes_(36,_48) + 9*Routes_(36,_49) + 9*Routes_(36,_5) + 7*Routes_(36,_50) + 4*Routes_(36,_51) + 14*Routes_(36,_52) + 15*Routes_(36,_53) + 2*Routes_(36,_54) + 9*Routes_(36,_55) + 8*Routes_(36,_56) + 9*Routes_(36,_57) + 15*Routes_(36,_58) + 7*Routes_(36,_59) + 16*Routes_(36,_6) + 5*Routes_(36,_60) + 7*Routes_(36,_61) + 15*Routes_(36,_62) + 11*Routes_(36,_63) + 7*Routes_(36,_64) + 3*Routes_(36,_65) + 3*Routes_(36,_66) + 14*Routes_(36,_67) + 13*Routes_(36,_68) + 8*Routes_(36,_69) + 4*Routes_(36,_7) + 12*Routes_(36,_8) + 6*Routes_(36,_9) + 17*Routes_(37,_0) + 4*Routes_(37,_1) + 10*Routes_(37,_10) + 18*Routes_(37,_11) + 16*Routes_(37,_12) + 6*Routes_(37,_13) + 6*Routes_(37,_14) + 16*Routes_(37,_15) + 12*Routes_(37,_16) + 6*Routes_(37,_17) + 3*Routes_(37,_18) + 11*Routes_(37,_19) + 15*Routes_(37,_2) + 19*Routes_(37,_20) + 2*Routes_(37,_21) + 1*Routes_(37,_22) + 9*Routes_(37,_23) + 8*Routes_(37,_24) + 8*Routes_(37,_25) + 3*Routes_(37,_26) + 8*Routes_(37,_27) + 11*Routes_(37,_28) + 13*Routes_(37,_29) + 19*Routes_(37,_3) + 1*Routes_(37,_30) + 4*Routes_(37,_31) + 14*Routes_(37,_32) + 15*Routes_(37,_33) + 17*Routes_(37,_34) + 1*Routes_(37,_35) + 7*Routes_(37,_36) + 14*Routes_(37,_37) + 18*Routes_(37,_38) + 4*Routes_(37,_39) + 13*Routes_(37,_4) + 3*Routes_(37,_40) + 1*Routes_(37,_41) + 14*Routes_(37,_42) + 15*Routes_(37,_43) + 6*Routes_(37,_44) + 17*Routes_(37,_45) + 2*Routes_(37,_46) + 4*Routes_(37,_47) + 2*Routes_(37,_48) + 18*Routes_(37,_49) + 7*Routes_(37,_5) + 12*Routes_(37,_50) + 17*Routes_(37,_51) + 7*Routes_(37,_52) + 15*Routes_(37,_53) + 10*Routes_(37,_54) + 12*Routes_(37,_55) + 7*Routes_(37,_56) + 6*Routes_(37,_57) + 2*Routes_(37,_58) + 16*Routes_(37,_59) + 11*Routes_(37,_6) + 3*Routes_(37,_60) + 3*Routes_(37,_61) + 8*Routes_(37,_62) + 13*Routes_(37,_63) + 19*Routes_(37,_64) + 4*Routes_(37,_65) + 5*Routes_(37,_66) + 9*Routes_(37,_67) + 16*Routes_(37,_68) + 12*Routes_(37,_69) + 10*Routes_(37,_7) + 1*Routes_(37,_8) + 16*Routes_(37,_9) + 13*Routes_(38,_0) + 14*Routes_(38,_1) + 15*Routes_(38,_10) + 14*Routes_(38,_11) + 7*Routes_(38,_12) + 16*Routes_(38,_13) + 6*Routes_(38,_14) + 3*Routes_(38,_15) + 2*Routes_(38,_16) + 15*Routes_(38,_17) + 17*Routes_(38,_18) + 10*Routes_(38,_19) + 15*Routes_(38,_2) + 16*Routes_(38,_20) + 13*Routes_(38,_21) + 9*Routes_(38,_22) + 15*Routes_(38,_23) + 11*Routes_(38,_24) + 11*Routes_(38,_25) + 16*Routes_(38,_26) + 6*Routes_(38,_27) + 16*Routes_(38,_28) + 9*Routes_(38,_29) + 2*Routes_(38,_3) + 9*Routes_(38,_30) + 3*Routes_(38,_31) + 18*Routes_(38,_32) + 14*Routes_(38,_33) + 6*Routes_(38,_34) + 7*Routes_(38,_35) + 16*Routes_(38,_36) + 4*Routes_(38,_37) + 11*Routes_(38,_38) + 15*Routes_(38,_39) + 9*Routes_(38,_4) + 18*Routes_(38,_40) + 14*Routes_(38,_41) + 18*Routes_(38,_42) + 18*Routes_(38,_43) + 16*Routes_(38,_44) + 13*Routes_(38,_45) + 2*Routes_(38,_46) + 19*Routes_(38,_47) + 10*Routes_(38,_48) + 2*Routes_(38,_49) + 11*Routes_(38,_5) + 11*Routes_(38,_50) + 9*Routes_(38,_51) + 19*Routes_(38,_52) + 3*Routes_(38,_53) + 3*Routes_(38,_54) + 19*Routes_(38,_55) + 16*Routes_(38,_56) + 1*Routes_(38,_57) + 15*Routes_(38,_58) + 4*Routes_(38,_59) + 8*Routes_(38,_6) + 6*Routes_(38,_60) + 8*Routes_(38,_61) + 2*Routes_(38,_62) + 5*Routes_(38,_63) + 14*Routes_(38,_64) + 1*Routes_(38,_65) + 3*Routes_(38,_66) + 3*Routes_(38,_67) + 3*Routes_(38,_68) + 4*Routes_(38,_69) + 14*Routes_(38,_7) + 9*Routes_(38,_8) + 7*Routes_(38,_9) + 19*Routes_(39,_0) + 16*Routes_(39,_1) + 6*Routes_(39,_10) + 19*Routes_(39,_11) + 1*Routes_(39,_12) + 7*Routes_(39,_13) + 2*Routes_(39,_14) + 2*Routes_(39,_15) + 4*Routes_(39,_16) + 5*Routes_(39,_17) + 12*Routes_(39,_18) + 6*Routes_(39,_19) + 9*Routes_(39,_2) + 13*Routes_(39,_20) + 1*Routes_(39,_21) + 14*Routes_(39,_22) + 9*Routes_(39,_23) + 4*Routes_(39,_24) + 12*Routes_(39,_25) + 10*Routes_(39,_26) + 6*Routes_(39,_27) + 17*Routes_(39,_28) + 13*Routes_(39,_29) + 1*Routes_(39,_3) + 12*Routes_(39,_30) + 11*Routes_(39,_31) + 10*Routes_(39,_32) + 14*Routes_(39,_33) + 1*Routes_(39,_34) + 1*Routes_(39,_35) + 17*Routes_(39,_36) + 13*Routes_(39,_37) + 16*Routes_(39,_38) + 12*Routes_(39,_39) + 6*Routes_(39,_4) + 8*Routes_(39,_40) + 7*Routes_(39,_41) + 1*Routes_(39,_42) + 11*Routes_(39,_43) + 4*Routes_(39,_44) + 6*Routes_(39,_45) + 14*Routes_(39,_46) + 8*Routes_(39,_47) + 4*Routes_(39,_48) + 14*Routes_(39,_49) + 13*Routes_(39,_5) + 2*Routes_(39,_50) + 3*Routes_(39,_51) + 15*Routes_(39,_52) + 2*Routes_(39,_53) + 18*Routes_(39,_54) + 1*Routes_(39,_55) + 19*Routes_(39,_56) + 6*Routes_(39,_57) + 10*Routes_(39,_58) + 7*Routes_(39,_59) + 17*Routes_(39,_6) + 16*Routes_(39,_60) + 14*Routes_(39,_61) + 4*Routes_(39,_62) + 12*Routes_(39,_63) + 3*Routes_(39,_64) + 14*Routes_(39,_65) + 16*Routes_(39,_66) + 8*Routes_(39,_67) + 3*Routes_(39,_68) + 4*Routes_(39,_69) + 9*Routes_(39,_7) + 6*Routes_(39,_8) + 7*Routes_(39,_9) + 2*Routes_(4,_0) + 15*Routes_(4,_1) + 11*Routes_(4,_10) + 13*Routes_(4,_11) + 16*Routes_(4,_12) + 15*Routes_(4,_13) + 19*Routes_(4,_14) + 10*Routes_(4,_15) + 4*Routes_(4,_16) + 9*Routes_(4,_17) + 16*Routes_(4,_18) + 13*Routes_(4,_19) + 13*Routes_(4,_2) + 6*Routes_(4,_20) + 15*Routes_(4,_21) + 5*Routes_(4,_22) + 6*Routes_(4,_23) + 17*Routes_(4,_24) + 5*Routes_(4,_25) + 2*Routes_(4,_26) + 3*Routes_(4,_27) + 18*Routes_(4,_28) + 1*Routes_(4,_29) + 11*Routes_(4,_3) + 15*Routes_(4,_30) + 19*Routes_(4,_31) + 12*Routes_(4,_32) + 2*Routes_(4,_33) + 15*Routes_(4,_34) + 4*Routes_(4,_35) + 16*Routes_(4,_36) + 5*Routes_(4,_37) + 3*Routes_(4,_38) + 16*Routes_(4,_39) + 16*Routes_(4,_4) + 8*Routes_(4,_40) + 9*Routes_(4,_41) + 19*Routes_(4,_42) + 11*Routes_(4,_43) + 3*Routes_(4,_44) + 17*Routes_(4,_45) + 14*Routes_(4,_46) + 11*Routes_(4,_47) + 15*Routes_(4,_48) + 17*Routes_(4,_49) + 15*Routes_(4,_5) + 6*Routes_(4,_50) + 18*Routes_(4,_51) + 11*Routes_(4,_52) + 17*Routes_(4,_53) + 17*Routes_(4,_54) + 10*Routes_(4,_55) + 17*Routes_(4,_56) + 5*Routes_(4,_57) + 9*Routes_(4,_58) + 4*Routes_(4,_59) + 15*Routes_(4,_6) + 19*Routes_(4,_60) + 5*Routes_(4,_61) + 7*Routes_(4,_62) + 18*Routes_(4,_63) + 17*Routes_(4,_64) + 18*Routes_(4,_65) + 11*Routes_(4,_66) + 12*Routes_(4,_67) + 16*Routes_(4,_68) + 8*Routes_(4,_69) + 1*Routes_(4,_7) + 5*Routes_(4,_8) + 1*Routes_(4,_9) + 10*Routes_(40,_0) + 12*Routes_(40,_1) + 12*Routes_(40,_10) + 16*Routes_(40,_11) + 11*Routes_(40,_12) + 2*Routes_(40,_13) + 11*Routes_(40,_14) + 8*Routes_(40,_15) + 15*Routes_(40,_16) + 15*Routes_(40,_17) + 14*Routes_(40,_18) + 11*Routes_(40,_19) + 14*Routes_(40,_2) + 15*Routes_(40,_20) + 16*Routes_(40,_21) + 16*Routes_(40,_22) + 12*Routes_(40,_23) + 10*Routes_(40,_24) + 6*Routes_(40,_25) + 3*Routes_(40,_26) + 1*Routes_(40,_27) + 4*Routes_(40,_28) + 9*Routes_(40,_29) + 10*Routes_(40,_3) + 1*Routes_(40,_30) + 15*Routes_(40,_31) + 12*Routes_(40,_32) + 2*Routes_(40,_33) + 15*Routes_(40,_34) + 16*Routes_(40,_35) + 12*Routes_(40,_36) + 6*Routes_(40,_37) + 13*Routes_(40,_38) + 6*Routes_(40,_39) + 19*Routes_(40,_4) + 7*Routes_(40,_40) + 11*Routes_(40,_41) + 16*Routes_(40,_42) + 1*Routes_(40,_43) + 9*Routes_(40,_44) + 6*Routes_(40,_45) + 6*Routes_(40,_46) + 19*Routes_(40,_47) + 15*Routes_(40,_48) + 8*Routes_(40,_49) + 1*Routes_(40,_5) + 5*Routes_(40,_50) + 7*Routes_(40,_51) + 7*Routes_(40,_52) + 2*Routes_(40,_53) + 17*Routes_(40,_54) + 14*Routes_(40,_55) + 17*Routes_(40,_56) + 11*Routes_(40,_57) + 7*Routes_(40,_58) + 12*Routes_(40,_59) + 10*Routes_(40,_6) + 8*Routes_(40,_60) + 15*Routes_(40,_61) + 7*Routes_(40,_62) + 6*Routes_(40,_63) + 19*Routes_(40,_64) + 16*Routes_(40,_65) + 7*Routes_(40,_66) + 12*Routes_(40,_67) + 3*Routes_(40,_68) + 19*Routes_(40,_69) + 7*Routes_(40,_7) + 14*Routes_(40,_8) + 1*Routes_(40,_9) + 2*Routes_(41,_0) + 8*Routes_(41,_1) + 7*Routes_(41,_10) + 6*Routes_(41,_11) + 1*Routes_(41,_12) + 3*Routes_(41,_13) + 10*Routes_(41,_14) + 5*Routes_(41,_15) + 15*Routes_(41,_16) + 16*Routes_(41,_17) + 7*Routes_(41,_18) + 8*Routes_(41,_19) + 8*Routes_(41,_2) + 1*Routes_(41,_20) + 15*Routes_(41,_21) + 12*Routes_(41,_22) + 15*Routes_(41,_23) + 1*Routes_(41,_24) + 18*Routes_(41,_25) + 1*Routes_(41,_26) + 18*Routes_(41,_27) + 7*Routes_(41,_28) + 3*Routes_(41,_29) + 5*Routes_(41,_3) + 3*Routes_(41,_30) + 14*Routes_(41,_31) + 11*Routes_(41,_32) + 2*Routes_(41,_33) + 12*Routes_(41,_34) + 18*Routes_(41,_35) + 14*Routes_(41,_36) + 4*Routes_(41,_37) + 1*Routes_(41,_38) + 13*Routes_(41,_39) + 17*Routes_(41,_4) + 9*Routes_(41,_40) + 12*Routes_(41,_41) + 18*Routes_(41,_42) + 4*Routes_(41,_43) + 16*Routes_(41,_44) + 18*Routes_(41,_45) + 11*Routes_(41,_46) + 3*Routes_(41,_47) + 4*Routes_(41,_48) + 8*Routes_(41,_49) + 17*Routes_(41,_5) + 18*Routes_(41,_50) + 14*Routes_(41,_51) + 6*Routes_(41,_52) + 18*Routes_(41,_53) + 18*Routes_(41,_54) + 9*Routes_(41,_55) + 7*Routes_(41,_56) + 7*Routes_(41,_57) + 15*Routes_(41,_58) + 5*Routes_(41,_59) + 5*Routes_(41,_6) + 10*Routes_(41,_60) + 6*Routes_(41,_61) + 15*Routes_(41,_62) + 18*Routes_(41,_63) + 13*Routes_(41,_64) + 16*Routes_(41,_65) + 14*Routes_(41,_66) + 14*Routes_(41,_67) + 14*Routes_(41,_68) + 11*Routes_(41,_69) + 4*Routes_(41,_7) + 9*Routes_(41,_8) + 14*Routes_(41,_9) + 16*Routes_(42,_0) + 1*Routes_(42,_1) + 19*Routes_(42,_10) + 9*Routes_(42,_11) + 18*Routes_(42,_12) + 8*Routes_(42,_13) + 10*Routes_(42,_14) + 17*Routes_(42,_15) + 14*Routes_(42,_16) + 12*Routes_(42,_17) + 14*Routes_(42,_18) + 11*Routes_(42,_19) + 17*Routes_(42,_2) + 4*Routes_(42,_20) + 6*Routes_(42,_21) + 2*Routes_(42,_22) + 18*Routes_(42,_23) + 5*Routes_(42,_24) + 6*Routes_(42,_25) + 7*Routes_(42,_26) + 16*Routes_(42,_27) + 15*Routes_(42,_28) + 3*Routes_(42,_29) + 9*Routes_(42,_3) + 15*Routes_(42,_30) + 9*Routes_(42,_31) + 5*Routes_(42,_32) + 1*Routes_(42,_33) + 7*Routes_(42,_34) + 17*Routes_(42,_35) + 6*Routes_(42,_36) + 9*Routes_(42,_37) + 12*Routes_(42,_38) + 11*Routes_(42,_39) + 17*Routes_(42,_4) + 14*Routes_(42,_40) + 5*Routes_(42,_41) + 1*Routes_(42,_42) + 17*Routes_(42,_43) + 6*Routes_(42,_44) + 13*Routes_(42,_45) + 9*Routes_(42,_46) + 13*Routes_(42,_47) + 13*Routes_(42,_48) + 14*Routes_(42,_49) + 17*Routes_(42,_5) + 13*Routes_(42,_50) + 2*Routes_(42,_51) + 10*Routes_(42,_52) + 5*Routes_(42,_53) + 16*Routes_(42,_54) + 10*Routes_(42,_55) + 6*Routes_(42,_56) + 14*Routes_(42,_57) + 10*Routes_(42,_58) + 3*Routes_(42,_59) + 4*Routes_(42,_6) + 18*Routes_(42,_60) + 11*Routes_(42,_61) + 13*Routes_(42,_62) + 2*Routes_(42,_63) + 16*Routes_(42,_64) + 4*Routes_(42,_65) + 13*Routes_(42,_66) + 8*Routes_(42,_67) + 6*Routes_(42,_68) + 4*Routes_(42,_69) + 17*Routes_(42,_7) + 8*Routes_(42,_8) + 4*Routes_(42,_9) + 16*Routes_(43,_0) + 2*Routes_(43,_1) + 13*Routes_(43,_10) + 1*Routes_(43,_11) + 19*Routes_(43,_12) + 3*Routes_(43,_13) + 8*Routes_(43,_14) + 12*Routes_(43,_15) + 3*Routes_(43,_16) + 4*Routes_(43,_17) + 14*Routes_(43,_18) + 17*Routes_(43,_19) + 16*Routes_(43,_2) + 8*Routes_(43,_20) + 18*Routes_(43,_21) + 17*Routes_(43,_22) + 5*Routes_(43,_23) + 10*Routes_(43,_24) + 3*Routes_(43,_25) + 6*Routes_(43,_26) + 14*Routes_(43,_27) + 16*Routes_(43,_28) + 15*Routes_(43,_29) + 4*Routes_(43,_3) + 1*Routes_(43,_30) + 3*Routes_(43,_31) + 19*Routes_(43,_32) + 14*Routes_(43,_33) + 15*Routes_(43,_34) + 5*Routes_(43,_35) + 5*Routes_(43,_36) + 7*Routes_(43,_37) + 9*Routes_(43,_38) + 17*Routes_(43,_39) + 3*Routes_(43,_4) + 10*Routes_(43,_40) + 4*Routes_(43,_41) + 13*Routes_(43,_42) + 18*Routes_(43,_43) + 7*Routes_(43,_44) + 5*Routes_(43,_45) + 8*Routes_(43,_46) + 15*Routes_(43,_47) + 7*Routes_(43,_48) + 10*Routes_(43,_49) + 11*Routes_(43,_5) + 17*Routes_(43,_50) + 6*Routes_(43,_51) + 8*Routes_(43,_52) + 19*Routes_(43,_53) + 18*Routes_(43,_54) + 10*Routes_(43,_55) + 12*Routes_(43,_56) + 9*Routes_(43,_57) + 10*Routes_(43,_58) + 5*Routes_(43,_59) + 11*Routes_(43,_6) + 19*Routes_(43,_60) + 19*Routes_(43,_61) + 9*Routes_(43,_62) + 15*Routes_(43,_63) + 17*Routes_(43,_64) + 4*Routes_(43,_65) + 1*Routes_(43,_66) + 12*Routes_(43,_67) + 6*Routes_(43,_68) + 12*Routes_(43,_69) + 17*Routes_(43,_7) + 14*Routes_(43,_8) + 5*Routes_(43,_9) + 2*Routes_(5,_0) + 3*Routes_(5,_1) + 10*Routes_(5,_10) + 14*Routes_(5,_11) + 8*Routes_(5,_12) + 9*Routes_(5,_13) + 12*Routes_(5,_14) + 4*Routes_(5,_15) + 19*Routes_(5,_16) + 8*Routes_(5,_17) + 10*Routes_(5,_18) + 13*Routes_(5,_19) + 8*Routes_(5,_2) + 19*Routes_(5,_20) + 6*Routes_(5,_21) + 1*Routes_(5,_22) + 7*Routes_(5,_23) + 17*Routes_(5,_24) + 16*Routes_(5,_25) + 16*Routes_(5,_26) + 15*Routes_(5,_27) + 15*Routes_(5,_28) + 10*Routes_(5,_29) + 4*Routes_(5,_3) + 4*Routes_(5,_30) + 9*Routes_(5,_31) + 10*Routes_(5,_32) + 14*Routes_(5,_33) + 14*Routes_(5,_34) + 14*Routes_(5,_35) + 2*Routes_(5,_36) + 19*Routes_(5,_37) + 19*Routes_(5,_38) + 3*Routes_(5,_39) + 11*Routes_(5,_4) + 11*Routes_(5,_40) + 2*Routes_(5,_41) + 8*Routes_(5,_42) + 5*Routes_(5,_43) + 18*Routes_(5,_44) + 6*Routes_(5,_45) + 7*Routes_(5,_46) + 2*Routes_(5,_47) + 9*Routes_(5,_48) + 17*Routes_(5,_49) + 13*Routes_(5,_5) + 18*Routes_(5,_50) + 15*Routes_(5,_51) + 7*Routes_(5,_52) + 17*Routes_(5,_53) + 17*Routes_(5,_54) + 3*Routes_(5,_55) + 5*Routes_(5,_56) + 1*Routes_(5,_57) + 4*Routes_(5,_58) + 5*Routes_(5,_59) + 17*Routes_(5,_6) + 17*Routes_(5,_60) + 11*Routes_(5,_61) + 17*Routes_(5,_62) + 6*Routes_(5,_63) + 7*Routes_(5,_64) + 2*Routes_(5,_65) + 18*Routes_(5,_66) + 8*Routes_(5,_67) + 16*Routes_(5,_68) + 2*Routes_(5,_69) + 5*Routes_(5,_7) + 3*Routes_(5,_8) + 1*Routes_(5,_9) + 10*Routes_(6,_0) + 2*Routes_(6,_1) + 10*Routes_(6,_10) + 5*Routes_(6,_11) + 3*Routes_(6,_12) + 15*Routes_(6,_13) + 13*Routes_(6,_14) + 11*Routes_(6,_15) + 17*Routes_(6,_16) + 12*Routes_(6,_17) + 17*Routes_(6,_18) + 1*Routes_(6,_19) + 16*Routes_(6,_2) + 6*Routes_(6,_20) + 15*Routes_(6,_21) + 11*Routes_(6,_22) + 16*Routes_(6,_23) + 8*Routes_(6,_24) + 4*Routes_(6,_25) + 16*Routes_(6,_26) + 5*Routes_(6,_27) + 17*Routes_(6,_28) + 13*Routes_(6,_29) + 15*Routes_(6,_3) + 12*Routes_(6,_30) + 4*Routes_(6,_31) + 6*Routes_(6,_32) + 7*Routes_(6,_33) + 5*Routes_(6,_34) + 9*Routes_(6,_35) + 13*Routes_(6,_36) + 12*Routes_(6,_37) + 9*Routes_(6,_38) + 16*Routes_(6,_39) + 14*Routes_(6,_4) + 7*Routes_(6,_40) + 9*Routes_(6,_41) + 17*Routes_(6,_42) + 9*Routes_(6,_43) + 11*Routes_(6,_44) + 14*Routes_(6,_45) + 15*Routes_(6,_46) + 4*Routes_(6,_47) + 7*Routes_(6,_48) + 5*Routes_(6,_49) + 6*Routes_(6,_5) + 6*Routes_(6,_50) + 10*Routes_(6,_51) + 3*Routes_(6,_52) + 14*Routes_(6,_53) + 16*Routes_(6,_54) + 10*Routes_(6,_55) + 8*Routes_(6,_56) + 5*Routes_(6,_57) + 7*Routes_(6,_58) + 10*Routes_(6,_59) + 18*Routes_(6,_6) + 5*Routes_(6,_60) + 17*Routes_(6,_61) + 9*Routes_(6,_62) + 8*Routes_(6,_63) + 2*Routes_(6,_64) + 17*Routes_(6,_65) + 9*Routes_(6,_66) + 15*Routes_(6,_67) + 11*Routes_(6,_68) + 11*Routes_(6,_69) + 7*Routes_(6,_7) + 11*Routes_(6,_8) + 10*Routes_(6,_9) + 14*Routes_(7,_0) + 15*Routes_(7,_1) + 19*Routes_(7,_10) + 10*Routes_(7,_11) + 13*Routes_(7,_12) + 7*Routes_(7,_13) + 3*Routes_(7,_14) + 14*Routes_(7,_15) + 18*Routes_(7,_16) + 11*Routes_(7,_17) + 11*Routes_(7,_18) + 1*Routes_(7,_19) + 2*Routes_(7,_2) + 9*Routes_(7,_20) + 6*Routes_(7,_21) + 12*Routes_(7,_22) + 8*Routes_(7,_23) + 17*Routes_(7,_24) + 1*Routes_(7,_25) + 3*Routes_(7,_26) + 14*Routes_(7,_27) + 10*Routes_(7,_28) + 1*Routes_(7,_29) + 18*Routes_(7,_3) + 13*Routes_(7,_30) + 1*Routes_(7,_31) + 13*Routes_(7,_32) + 13*Routes_(7,_33) + 11*Routes_(7,_34) + 3*Routes_(7,_35) + 17*Routes_(7,_36) + 16*Routes_(7,_37) + 16*Routes_(7,_38) + 18*Routes_(7,_39) + 15*Routes_(7,_4) + 1*Routes_(7,_40) + 8*Routes_(7,_41) + 5*Routes_(7,_42) + 1*Routes_(7,_43) + 14*Routes_(7,_44) + 17*Routes_(7,_45) + 6*Routes_(7,_46) + 12*Routes_(7,_47) + 13*Routes_(7,_48) + 19*Routes_(7,_49) + 17*Routes_(7,_5) + 10*Routes_(7,_50) + 11*Routes_(7,_51) + 14*Routes_(7,_52) + 6*Routes_(7,_53) + 14*Routes_(7,_54) + 15*Routes_(7,_55) + 8*Routes_(7,_56) + 12*Routes_(7,_57) + 12*Routes_(7,_58) + 16*Routes_(7,_59) + 7*Routes_(7,_6) + 17*Routes_(7,_60) + 6*Routes_(7,_61) + 9*Routes_(7,_62) + 7*Routes_(7,_63) + 6*Routes_(7,_64) + 14*Routes_(7,_65) + 9*Routes_(7,_66) + 16*Routes_(7,_67) + 11*Routes_(7,_68) + 15*Routes_(7,_69) + 17*Routes_(7,_7) + 17*Routes_(7,_8) + 4*Routes_(7,_9) + 16*Routes_(8,_0) + 1*Routes_(8,_1) + 5*Routes_(8,_10) + 8*Routes_(8,_11) + 3*Routes_(8,_12) + 7*Routes_(8,_13) + 14*Routes_(8,_14) + 11*Routes_(8,_15) + 4*Routes_(8,_16) + 6*Routes_(8,_17) + 19*Routes_(8,_18) + 8*Routes_(8,_19) + 2*Routes_(8,_2) + 19*Routes_(8,_20) + 17*Routes_(8,_21) + 1*Routes_(8,_22) + 2*Routes_(8,_23) + 18*Routes_(8,_24) + 3*Routes_(8,_25) + 12*Routes_(8,_26) + 2*Routes_(8,_27) + 5*Routes_(8,_28) + 10*Routes_(8,_29) + 18*Routes_(8,_3) + 6*Routes_(8,_30) + 3*Routes_(8,_31) + 17*Routes_(8,_32) + 18*Routes_(8,_33) + 14*Routes_(8,_34) + 1*Routes_(8,_35) + 14*Routes_(8,_36) + 12*Routes_(8,_37) + 15*Routes_(8,_38) + 16*Routes_(8,_39) + 16*Routes_(8,_4) + 4*Routes_(8,_40) + 12*Routes_(8,_41) + 1*Routes_(8,_42) + 4*Routes_(8,_43) + 5*Routes_(8,_44) + 1*Routes_(8,_45) + 12*Routes_(8,_46) + 16*Routes_(8,_47) + 3*Routes_(8,_48) + 9*Routes_(8,_49) + 13*Routes_(8,_5) + 3*Routes_(8,_50) + 15*Routes_(8,_51) + 16*Routes_(8,_52) + 5*Routes_(8,_53) + 17*Routes_(8,_54) + 12*Routes_(8,_55) + 12*Routes_(8,_56) + 3*Routes_(8,_57) + 5*Routes_(8,_58) + 4*Routes_(8,_59) + 13*Routes_(8,_6) + 17*Routes_(8,_60) + 11*Routes_(8,_61) + 6*Routes_(8,_62) + 8*Routes_(8,_63) + 7*Routes_(8,_64) + 19*Routes_(8,_65) + 5*Routes_(8,_66) + 4*Routes_(8,_67) + 19*Routes_(8,_68) + 4*Routes_(8,_69) + 3*Routes_(8,_7) + 10*Routes_(8,_8) + 3*Routes_(8,_9) + 14*Routes_(9,_0) + 5*Routes_(9,_1) + 18*Routes_(9,_10) + 17*Routes_(9,_11) + 17*Routes_(9,_12) + 9*Routes_(9,_13) + 1*Routes_(9,_14) + 12*Routes_(9,_15) + 18*Routes_(9,_16) + 16*Routes_(9,_17) + 16*Routes_(9,_18) + 17*Routes_(9,_19) + 12*Routes_(9,_2) + 5*Routes_(9,_20) + 14*Routes_(9,_21) + 9*Routes_(9,_22) + 8*Routes_(9,_23) + 14*Routes_(9,_24) + 12*Routes_(9,_25) + 14*Routes_(9,_26) + 14*Routes_(9,_27) + 11*Routes_(9,_28) + 12*Routes_(9,_29) + 14*Routes_(9,_3) + 16*Routes_(9,_30) + 6*Routes_(9,_31) + 2*Routes_(9,_32) + 9*Routes_(9,_33) + 1*Routes_(9,_34) + 19*Routes_(9,_35) + 6*Routes_(9,_36) + 16*Routes_(9,_37) + 16*Routes_(9,_38) + 5*Routes_(9,_39) + 6*Routes_(9,_4) + 3*Routes_(9,_40) + 11*Routes_(9,_41) + 5*Routes_(9,_42) + 12*Routes_(9,_43) + 14*Routes_(9,_44) + 13*Routes_(9,_45) + 7*Routes_(9,_46) + 2*Routes_(9,_47) + 3*Routes_(9,_48) + 10*Routes_(9,_49) + 2*Routes_(9,_5) + 8*Routes_(9,_50) + 19*Routes_(9,_51) + 3*Routes_(9,_52) + 8*Routes_(9,_53) + 16*Routes_(9,_54) + 13*Routes_(9,_55) + 19*Routes_(9,_56) + 19*Routes_(9,_57) + 16*Routes_(9,_58) + 12*Routes_(9,_59) + 9*Routes_(9,_6) + 16*Routes_(9,_60) + 11*Routes_(9,_61) + 11*Routes_(9,_62) + 7*Routes_(9,_63) + 17*Routes_(9,_64) + 4*Routes_(9,_65) + 16*Routes_(9,_66) + 1*Routes_(9,_67) + 5*Routes_(9,_68) + 5*Routes_(9,_69) + 3*Routes_(9,_7) + 1*Routes_(9,_8) + 3*Routes_(9,_9) + 0"
      ]
     },
     "execution_count": 307,
     "metadata": {},
     "output_type": "execute_result"
    }
   ],
   "source": [
    "problem.objective"
   ]
  },
  {
   "cell_type": "markdown",
   "metadata": {},
   "source": [
    " "
   ]
  },
  {
   "cell_type": "markdown",
   "metadata": {},
   "source": [
    " "
   ]
  },
  {
   "cell_type": "markdown",
   "metadata": {},
   "source": [
    " "
   ]
  },
  {
   "cell_type": "markdown",
   "metadata": {},
   "source": [
    "## 2. Метод потенциалов"
   ]
  },
  {
   "cell_type": "markdown",
   "metadata": {},
   "source": [
    "А теперь давайте для тех же данных реализуем метод потенциалов: будет ли он работать лучше / быстрее?"
   ]
  },
  {
   "cell_type": "markdown",
   "metadata": {},
   "source": [
    "**Кстати**: для построения начальной конфигурации используйте метод северо-западного угла."
   ]
  },
  {
   "cell_type": "code",
   "execution_count": 308,
   "metadata": {},
   "outputs": [],
   "source": [
    "# метод северно-западного угла\n",
    "def get_init_configuration(d, s):\n",
    "    N, M = len(s), len(d)\n",
    "    result = np.zeros((N, M))\n",
    "\n",
    "    i, j = 0, 0\n",
    "    \n",
    "    while i < N and j < M:\n",
    "        current = min(s[i], d[j])\n",
    "        result[i, j] = current\n",
    "        s[i] -= current\n",
    "        d[j] -= current\n",
    "        \n",
    "        if s[i] == 0:\n",
    "            i += 1\n",
    "        if d[j] == 0:\n",
    "            j += 1\n",
    "            \n",
    "    return result\n",
    "\n",
    "storages_test = [10, 20, 30]\n",
    "demands_test = [15, 20, 25]\n",
    "\n",
    "expected = np.array([   \n",
    "    [10,  0,  0],\n",
    "    [ 5, 15,  0],\n",
    "    [ 0,  5, 25],\n",
    "])\n",
    "\n",
    "assert (get_init_configuration(demands_test, storages_test) == expected).all()"
   ]
  },
  {
   "cell_type": "code",
   "execution_count": 309,
   "metadata": {},
   "outputs": [],
   "source": [
    "def find_potentials(x, costs):\n",
    "    N, M = x.shape\n",
    "    u = np.full(N, np.nan)\n",
    "    v = np.full(M, np.nan)\n",
    "    \n",
    "    # Устанавливаем u[0] = 0 для начала расчета\n",
    "    u[0] = 0\n",
    "    \n",
    "\n",
    "    while np.any(np.isnan(u)) or np.any(np.isnan(v)):\n",
    "        for i in range(N):\n",
    "            for j in range(M):\n",
    "                if x[i, j] > 0:  \n",
    "                    if np.isnan(u[i]) and not np.isnan(v[j]):\n",
    "                        u[i] = costs[i, j] - v[j]\n",
    "                    elif not np.isnan(u[i]) and np.isnan(v[j]):\n",
    "                        v[j] = costs[i, j] - u[i]\n",
    "    \n",
    "    return u, v"
   ]
  },
  {
   "cell_type": "code",
   "execution_count": 310,
   "metadata": {},
   "outputs": [],
   "source": [
    "def check_optimality(basic_plan, u, v, costs):\n",
    "    \"\"\" Проверка и оптимизация решения \"\"\"\n",
    "    N, M = basic_plan.shape\n",
    "    delta = np.zeros((N, M))  \n",
    "    \n",
    "    for i in range(N):\n",
    "        for j in range(M):\n",
    "            if basic_plan[i, j] == 0:  \n",
    "                delta[i, j] = costs[i, j] - (u[i] + v[j])\n",
    "    \n",
    "\n",
    "    if (delta >= 0).all():\n",
    "        return basic_plan, True\n",
    "    \n",
    "    for _ in range(10):  \n",
    "        min_delta_index = np.unravel_index(np.argmin(delta), delta.shape)\n",
    "        i, j = min_delta_index\n",
    "        if delta[i, j] >= 0:\n",
    "            break\n",
    "    \n",
    "    return basic_plan, False"
   ]
  },
  {
   "cell_type": "markdown",
   "metadata": {},
   "source": [
    "**Кстати**: для решения системы уравнений можно использовать фукнкцию np.linalg.solve(A, b), где A - квадратная матрица коэффициентов при переменных в уравнениях, а b - столбец правых частей уравнений. "
   ]
  },
  {
   "cell_type": "code",
   "execution_count": 311,
   "metadata": {},
   "outputs": [],
   "source": [
    "def solve_potentials(storages, demands, costs):\n",
    "    basic_plan = get_init_configuration(d=demands.copy(), s=storages.copy())\n",
    "    \n",
    "    optimal = False\n",
    "\n",
    "    u, v = find_potentials(costs, basic_plan)\n",
    "        \n",
    "    while optimal == False:\n",
    "\n",
    "        delta, optimal = check_optimality(basic_plan, u, v, costs)\n",
    "        if np.all(delta < 0):  \n",
    "            u, v = find_potentials(costs, basic_plan) \n",
    "\n",
    "    return basic_plan\n"
   ]
  },
  {
   "cell_type": "code",
   "execution_count": 312,
   "metadata": {},
   "outputs": [
    {
     "name": "stdout",
     "output_type": "stream",
     "text": [
      "Решение заняло 0.005017757415771484 сек\n"
     ]
    }
   ],
   "source": [
    "st_time = time()\n",
    "\n",
    "res = solve_potentials(storages, demands, costs)\n",
    "\n",
    "print(f\"Решение заняло {time() - st_time} сек\")"
   ]
  },
  {
   "cell_type": "markdown",
   "metadata": {},
   "source": [
    "Какие выводы можно сделать?"
   ]
  },
  {
   "cell_type": "markdown",
   "metadata": {},
   "source": [
    "// your ideas here"
   ]
  }
 ],
 "metadata": {
  "kernelspec": {
   "display_name": "base",
   "language": "python",
   "name": "python3"
  },
  "language_info": {
   "codemirror_mode": {
    "name": "ipython",
    "version": 3
   },
   "file_extension": ".py",
   "mimetype": "text/x-python",
   "name": "python",
   "nbconvert_exporter": "python",
   "pygments_lexer": "ipython3",
   "version": "3.11.5"
  }
 },
 "nbformat": 4,
 "nbformat_minor": 4
}
