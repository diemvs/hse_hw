{
 "cells": [
  {
   "cell_type": "markdown",
   "id": "67f67359-c1a8-4443-b9be-7838e0d1cc55",
   "metadata": {},
   "source": [
    "# Исследуем временные ряды продаж товаров\n",
    "В этом задании предлагается проанализировать датасет продаж различных товаров и попрактиковаться в использовании различных библиотек для временных рядов(и не только)\n"
   ]
  },
  {
   "cell_type": "markdown",
   "id": "c3221e95-2c5b-4948-8cdb-0303dc6658b5",
   "metadata": {},
   "source": [
    "# 0. Загрузка данных(1 балл)\n",
    "\n",
    "Посмотрим на датасет, с которым будем работать в этом задании\n",
    "\n",
    "**Какой это тип временных рядов? (univariate/multivariate/....)**\n",
    "\n",
    "<Ответ>"
   ]
  },
  {
   "cell_type": "code",
   "execution_count": 1,
   "id": "26065bd7-360c-4d8a-abc6-ce655088d690",
   "metadata": {},
   "outputs": [],
   "source": [
    "import pandas as pd\n",
    "import numpy as np"
   ]
  },
  {
   "cell_type": "code",
   "execution_count": 2,
   "id": "1669b860-1fa1-458b-8ab0-0a70ac17de2b",
   "metadata": {},
   "outputs": [
    {
     "data": {
      "text/html": [
       "<div>\n",
       "<style scoped>\n",
       "    .dataframe tbody tr th:only-of-type {\n",
       "        vertical-align: middle;\n",
       "    }\n",
       "\n",
       "    .dataframe tbody tr th {\n",
       "        vertical-align: top;\n",
       "    }\n",
       "\n",
       "    .dataframe thead th {\n",
       "        text-align: right;\n",
       "    }\n",
       "</style>\n",
       "<table border=\"1\" class=\"dataframe\">\n",
       "  <thead>\n",
       "    <tr style=\"text-align: right;\">\n",
       "      <th></th>\n",
       "      <th>product_10</th>\n",
       "      <th>product_11</th>\n",
       "      <th>product_12</th>\n",
       "      <th>product_13</th>\n",
       "      <th>product_14</th>\n",
       "      <th>product_15</th>\n",
       "      <th>product_16</th>\n",
       "      <th>product_17</th>\n",
       "      <th>product_18</th>\n",
       "      <th>product_19</th>\n",
       "      <th>...</th>\n",
       "      <th>product_30</th>\n",
       "      <th>product_31</th>\n",
       "      <th>product_32</th>\n",
       "      <th>product_33</th>\n",
       "      <th>product_34</th>\n",
       "      <th>product_35</th>\n",
       "      <th>product_36</th>\n",
       "      <th>product_37</th>\n",
       "      <th>product_38</th>\n",
       "      <th>product_39</th>\n",
       "    </tr>\n",
       "  </thead>\n",
       "  <tbody>\n",
       "    <tr>\n",
       "      <th>2016-01-01</th>\n",
       "      <td>2616.3</td>\n",
       "      <td>3548.8</td>\n",
       "      <td>3898.3</td>\n",
       "      <td>2173.9</td>\n",
       "      <td>845.82</td>\n",
       "      <td>1600.8</td>\n",
       "      <td>3019.2</td>\n",
       "      <td>488.03</td>\n",
       "      <td>2924.9</td>\n",
       "      <td>575.77</td>\n",
       "      <td>...</td>\n",
       "      <td>2394.3</td>\n",
       "      <td>1284.2</td>\n",
       "      <td>1996.5</td>\n",
       "      <td>3888.6</td>\n",
       "      <td>951.88</td>\n",
       "      <td>434.17</td>\n",
       "      <td>2313.1</td>\n",
       "      <td>1946.3</td>\n",
       "      <td>2045.0</td>\n",
       "      <td>2440.3</td>\n",
       "    </tr>\n",
       "    <tr>\n",
       "      <th>2016-01-02</th>\n",
       "      <td>2507.9</td>\n",
       "      <td>3666.3</td>\n",
       "      <td>3987.2</td>\n",
       "      <td>2309.4</td>\n",
       "      <td>835.09</td>\n",
       "      <td>1589.1</td>\n",
       "      <td>2982.1</td>\n",
       "      <td>993.10</td>\n",
       "      <td>2567.3</td>\n",
       "      <td>597.55</td>\n",
       "      <td>...</td>\n",
       "      <td>2335.8</td>\n",
       "      <td>1265.1</td>\n",
       "      <td>2079.5</td>\n",
       "      <td>3793.9</td>\n",
       "      <td>1112.00</td>\n",
       "      <td>429.92</td>\n",
       "      <td>2242.9</td>\n",
       "      <td>2064.1</td>\n",
       "      <td>2076.4</td>\n",
       "      <td>2304.4</td>\n",
       "    </tr>\n",
       "    <tr>\n",
       "      <th>2016-01-03</th>\n",
       "      <td>2548.7</td>\n",
       "      <td>3593.0</td>\n",
       "      <td>3955.7</td>\n",
       "      <td>2365.1</td>\n",
       "      <td>828.74</td>\n",
       "      <td>1527.7</td>\n",
       "      <td>3356.4</td>\n",
       "      <td>508.29</td>\n",
       "      <td>3080.3</td>\n",
       "      <td>595.60</td>\n",
       "      <td>...</td>\n",
       "      <td>2389.3</td>\n",
       "      <td>1256.0</td>\n",
       "      <td>2054.2</td>\n",
       "      <td>3937.5</td>\n",
       "      <td>1100.40</td>\n",
       "      <td>451.81</td>\n",
       "      <td>2500.4</td>\n",
       "      <td>1884.0</td>\n",
       "      <td>1906.3</td>\n",
       "      <td>2244.8</td>\n",
       "    </tr>\n",
       "    <tr>\n",
       "      <th>2016-01-04</th>\n",
       "      <td>2492.4</td>\n",
       "      <td>3432.9</td>\n",
       "      <td>4024.1</td>\n",
       "      <td>2286.7</td>\n",
       "      <td>802.93</td>\n",
       "      <td>1614.8</td>\n",
       "      <td>2352.6</td>\n",
       "      <td>473.96</td>\n",
       "      <td>3042.9</td>\n",
       "      <td>597.33</td>\n",
       "      <td>...</td>\n",
       "      <td>2418.8</td>\n",
       "      <td>1215.5</td>\n",
       "      <td>2095.5</td>\n",
       "      <td>4274.6</td>\n",
       "      <td>1081.20</td>\n",
       "      <td>448.80</td>\n",
       "      <td>2543.8</td>\n",
       "      <td>1834.8</td>\n",
       "      <td>1935.1</td>\n",
       "      <td>2255.8</td>\n",
       "    </tr>\n",
       "    <tr>\n",
       "      <th>2016-01-05</th>\n",
       "      <td>2707.5</td>\n",
       "      <td>3661.1</td>\n",
       "      <td>4041.6</td>\n",
       "      <td>2293.0</td>\n",
       "      <td>819.55</td>\n",
       "      <td>1584.4</td>\n",
       "      <td>2529.2</td>\n",
       "      <td>630.37</td>\n",
       "      <td>3094.1</td>\n",
       "      <td>571.56</td>\n",
       "      <td>...</td>\n",
       "      <td>2464.4</td>\n",
       "      <td>1197.6</td>\n",
       "      <td>2292.7</td>\n",
       "      <td>3897.3</td>\n",
       "      <td>1039.00</td>\n",
       "      <td>441.35</td>\n",
       "      <td>2261.1</td>\n",
       "      <td>2039.7</td>\n",
       "      <td>1762.8</td>\n",
       "      <td>2367.5</td>\n",
       "    </tr>\n",
       "  </tbody>\n",
       "</table>\n",
       "<p>5 rows × 30 columns</p>\n",
       "</div>"
      ],
      "text/plain": [
       "            product_10  product_11  product_12  product_13  product_14  \\\n",
       "2016-01-01      2616.3      3548.8      3898.3      2173.9      845.82   \n",
       "2016-01-02      2507.9      3666.3      3987.2      2309.4      835.09   \n",
       "2016-01-03      2548.7      3593.0      3955.7      2365.1      828.74   \n",
       "2016-01-04      2492.4      3432.9      4024.1      2286.7      802.93   \n",
       "2016-01-05      2707.5      3661.1      4041.6      2293.0      819.55   \n",
       "\n",
       "            product_15  product_16  product_17  product_18  product_19  ...  \\\n",
       "2016-01-01      1600.8      3019.2      488.03      2924.9      575.77  ...   \n",
       "2016-01-02      1589.1      2982.1      993.10      2567.3      597.55  ...   \n",
       "2016-01-03      1527.7      3356.4      508.29      3080.3      595.60  ...   \n",
       "2016-01-04      1614.8      2352.6      473.96      3042.9      597.33  ...   \n",
       "2016-01-05      1584.4      2529.2      630.37      3094.1      571.56  ...   \n",
       "\n",
       "            product_30  product_31  product_32  product_33  product_34  \\\n",
       "2016-01-01      2394.3      1284.2      1996.5      3888.6      951.88   \n",
       "2016-01-02      2335.8      1265.1      2079.5      3793.9     1112.00   \n",
       "2016-01-03      2389.3      1256.0      2054.2      3937.5     1100.40   \n",
       "2016-01-04      2418.8      1215.5      2095.5      4274.6     1081.20   \n",
       "2016-01-05      2464.4      1197.6      2292.7      3897.3     1039.00   \n",
       "\n",
       "            product_35  product_36  product_37  product_38  product_39  \n",
       "2016-01-01      434.17      2313.1      1946.3      2045.0      2440.3  \n",
       "2016-01-02      429.92      2242.9      2064.1      2076.4      2304.4  \n",
       "2016-01-03      451.81      2500.4      1884.0      1906.3      2244.8  \n",
       "2016-01-04      448.80      2543.8      1834.8      1935.1      2255.8  \n",
       "2016-01-05      441.35      2261.1      2039.7      1762.8      2367.5  \n",
       "\n",
       "[5 rows x 30 columns]"
      ]
     },
     "execution_count": 2,
     "metadata": {},
     "output_type": "execute_result"
    }
   ],
   "source": [
    "df_products = pd.read_csv(\"dataset/products.csv\", index_col=0)\n",
    "df_products.head()"
   ]
  },
  {
   "cell_type": "markdown",
   "id": "a0633754-32ca-48a4-afae-8c41097eebb3",
   "metadata": {},
   "source": [
    "Выберите для анализа 5 случайных рядов"
   ]
  },
  {
   "cell_type": "code",
   "execution_count": 3,
   "id": "194a3f76-f784-4204-8434-f6883ff3ad68",
   "metadata": {},
   "outputs": [],
   "source": [
    "# Your code here"
   ]
  },
  {
   "cell_type": "markdown",
   "id": "c807a56f-9f77-4830-84ce-13cbee9ca006",
   "metadata": {},
   "source": [
    "# 1. Нарисуем картнку(2 балла)\n",
    "\n",
    "Для работы с временными рядами существует десяток фрэймворков, каждый из которых имеет свой интерфейс для загрузки данных\n",
    "\n",
    "Попробуйте загрузить данные в базовые контейнеры для 2 фрэймворков и отрисовать ряды в датасете\n",
    "\n",
    "**Вопросы по картинкам:**\n",
    "<ol>\n",
    "    <li>Есть ли в данных явно выраженные тренды?</li>\n",
    "    <li>Есть ли в данных сезонность?\n",
    "</ol>\n",
    "\n",
    "<Ответы>"
   ]
  },
  {
   "cell_type": "markdown",
   "id": "5439dc23-c8e3-4332-8ffb-0b29c9509d9e",
   "metadata": {},
   "source": [
    "## 1.1 Darts (1 балл)\n",
    "https://unit8co.github.io/darts/generated_api/darts.timeseries.html#darts.timeseries.TimeSeries\n",
    "\n"
   ]
  },
  {
   "cell_type": "code",
   "execution_count": 4,
   "id": "cc31cb96-df83-4ec9-8d0f-6680b17ddf72",
   "metadata": {},
   "outputs": [],
   "source": [
    "from darts import TimeSeries"
   ]
  },
  {
   "cell_type": "code",
   "execution_count": 5,
   "id": "a054f7cb-8d5b-42f6-9caa-a09ecd66a3b1",
   "metadata": {},
   "outputs": [],
   "source": [
    "# Your code here"
   ]
  },
  {
   "cell_type": "markdown",
   "id": "138e8ba9-e261-467c-95e2-ddca396c63d9",
   "metadata": {},
   "source": [
    "## 1.2 ETNA (1 балл)\n",
    "\n",
    "https://docs.etna.ai/stable/tutorials/101-get_started.html"
   ]
  },
  {
   "cell_type": "code",
   "execution_count": 6,
   "id": "90f9619d-a8f5-4832-8afd-dd269bfdc0fb",
   "metadata": {},
   "outputs": [
    {
     "name": "stderr",
     "output_type": "stream",
     "text": [
      "/Users/a.p.chikov/Library/Caches/pypoetry/virtualenvs/etna-utils-oAYYUtN9-py3.8/lib/python3.8/site-packages/etna/settings.py:37: UserWarning: etna[torch] is not available, to install it, run `pip install etna[torch]`\n",
      "  warnings.warn(\"etna[torch] is not available, to install it, run `pip install etna[torch]`\")\n"
     ]
    }
   ],
   "source": [
    "from etna.datasets import TSDataset"
   ]
  },
  {
   "cell_type": "code",
   "execution_count": 7,
   "id": "d9f7cec8-479a-4218-a05c-3831a8ba3b7d",
   "metadata": {},
   "outputs": [],
   "source": [
    "# Your code here"
   ]
  },
  {
   "cell_type": "markdown",
   "id": "af7bb575-911a-4294-8df9-3ad7b4304312",
   "metadata": {},
   "source": [
    "# 2. Разложение на компоненты (2 балла)\n",
    "\n",
    "Временной ряд можно представить в виде некоторого разложения на компоненты(тренд, сезонность, ошбки, ...). Такие компоненты, например, можно выделять с помощью моделей прогнозирования, которые моделируют ряд как раз с использованием этих самых компонент\n",
    "\n",
    "На следующей лекции вы познакомитесь с одной из таких моделей  -- **Prophet**. \n",
    "\n",
    "Предлагается попробовать построить разложение на компоненты, используя базовый туториал \n",
    "\n",
    "https://facebook.github.io/prophet/docs/quick_start.html#python-api\n",
    "\n",
    "**Какие выводы можно сделать из картинок?**\n",
    "\n",
    "<Ответ>"
   ]
  },
  {
   "cell_type": "code",
   "execution_count": 8,
   "id": "a9b2f567-adec-429b-bf40-a588abbccf96",
   "metadata": {},
   "outputs": [],
   "source": [
    "from prophet import Prophet"
   ]
  },
  {
   "cell_type": "markdown",
   "id": "66c764bc-a359-49fd-b2cb-c20aca834245",
   "metadata": {},
   "source": [
    "Примедите данные в нужный формат(колонки ds и y) -- выберите произвольный ряд из данных(например product_11)"
   ]
  },
  {
   "cell_type": "code",
   "execution_count": 9,
   "id": "f84a0a69-d38b-41c5-80e7-f2b3b21ebaf9",
   "metadata": {},
   "outputs": [],
   "source": [
    "# Your code here"
   ]
  },
  {
   "cell_type": "markdown",
   "id": "26f85f09-1667-405f-b408-252a09426155",
   "metadata": {},
   "source": [
    "Обучите модель"
   ]
  },
  {
   "cell_type": "code",
   "execution_count": 10,
   "id": "cb989036-a2f5-4fdb-9133-605d396f38ce",
   "metadata": {},
   "outputs": [],
   "source": [
    "# Your code here"
   ]
  },
  {
   "cell_type": "markdown",
   "id": "f881df94-95c9-42c0-b728-08d7e475e9c4",
   "metadata": {},
   "source": [
    "Постойте предсказания на train"
   ]
  },
  {
   "cell_type": "code",
   "execution_count": 11,
   "id": "f7e8b2d5-9690-4c0b-a5ec-41ecc792b0c8",
   "metadata": {},
   "outputs": [],
   "source": [
    "# Your code here"
   ]
  },
  {
   "cell_type": "markdown",
   "id": "12591cb4-0e3f-4b4c-b759-c846d5afc607",
   "metadata": {},
   "source": [
    "Постройте разложения на компоненты с помощью `plot_components`"
   ]
  },
  {
   "cell_type": "code",
   "execution_count": 12,
   "id": "549ed044-49d2-48a2-a80f-c69a7673c6a9",
   "metadata": {},
   "outputs": [],
   "source": [
    "# Your code here"
   ]
  },
  {
   "cell_type": "markdown",
   "id": "41b7af9f-7c36-4b9a-b254-21e72ac9b92b",
   "metadata": {},
   "source": [
    "# 3. Seasonal plot(2 балла)\n",
    "\n",
    "На семинаре мы строили seasonal plot руками, теперь предлагается воспольоваться готовыми методами из фрэймворка\n",
    "\n",
    "Постройте картинку для нескольких рядов\n",
    "\n",
    "**Какие выводы можно сделать из картинок?**\n",
    "1. Действительно ли есть годовая сезонность?\n",
    "2. Различается ли паттерн сезонности между рядами?\n",
    "3. Меняется ли паттерн с годами?\n",
    "\n",
    "<Ответ>"
   ]
  },
  {
   "cell_type": "code",
   "execution_count": 13,
   "id": "69a241e2-8bd0-466d-a8a0-1ce8d47579f3",
   "metadata": {},
   "outputs": [],
   "source": [
    "from etna.analysis import seasonal_plot"
   ]
  },
  {
   "cell_type": "markdown",
   "id": "9b24a494-e761-40dc-aa56-c0b0b18a99d7",
   "metadata": {},
   "source": [
    "Постройте seasonal plot для **дневной частотности** и **годовой сезонности**"
   ]
  },
  {
   "cell_type": "code",
   "execution_count": 14,
   "id": "6211998e-128c-45a4-b907-afbed96c3411",
   "metadata": {},
   "outputs": [],
   "source": [
    "# Your code here"
   ]
  },
  {
   "cell_type": "markdown",
   "id": "4dd7a143-8c0c-4f73-a953-4e7afa86c3c7",
   "metadata": {},
   "source": [
    "Постройте seasonal plot для **недельной частотности** и **годовой сезонности** -- кажется данные немного шумные, давайте понизим частотность"
   ]
  },
  {
   "cell_type": "code",
   "execution_count": 15,
   "id": "3ad0bd4e-de77-4ee9-bebd-d8ba5743ada2",
   "metadata": {},
   "outputs": [],
   "source": [
    "# Your code here"
   ]
  },
  {
   "cell_type": "markdown",
   "id": "32946431-c969-4909-8e84-1d12d7d0c9c4",
   "metadata": {},
   "source": [
    "# 5. Праздники(1 балл)\n",
    "\n",
    "На лекции мы немного коснулись важности анализа аномалий в датасете. Часть аномалий на самом деле не аномалии, а изменения поведения, связанные с некоторыми событиями -- например с праздниками\n",
    "\n",
    "Попробуйте выделить праздничные периоды на картинке\n",
    "\n",
    "**Есть ли влияние праздников на продажи товаров?**\n",
    "\n",
    "<Ответ>"
   ]
  },
  {
   "cell_type": "code",
   "execution_count": 16,
   "id": "3a5c18c8-a289-4f5e-9269-ac7333f3a8bc",
   "metadata": {},
   "outputs": [],
   "source": [
    "from etna.analysis import plot_holidays"
   ]
  },
  {
   "cell_type": "code",
   "execution_count": 17,
   "id": "fd05a79e-37ca-4330-bf55-feadb705a169",
   "metadata": {},
   "outputs": [],
   "source": [
    "# Your code here"
   ]
  },
  {
   "cell_type": "markdown",
   "id": "380e608e-da42-427b-b170-1d2aea1287f9",
   "metadata": {},
   "source": [
    "# 6. AutoEDA(2 балла)\n",
    "\n",
    "Попробуйте построить автоматический отчет об особенностях данных(да да, и такие библиотеки есть)\n",
    "\n",
    "https://github.com/ydataai/ydata-profiling/tree/develop\n",
    "\n",
    "**Какие выводы можно сделать из отчета?**\n",
    "\n",
    "<Ответ>\n"
   ]
  },
  {
   "cell_type": "code",
   "execution_count": 18,
   "id": "ffb1061e-1b20-4a23-ab28-af6d5c3157ee",
   "metadata": {},
   "outputs": [],
   "source": [
    "from ydata_profiling import ProfileReport"
   ]
  },
  {
   "cell_type": "code",
   "execution_count": 19,
   "id": "2c40f20a-1dbe-490d-9991-6dcac581d084",
   "metadata": {},
   "outputs": [],
   "source": [
    "# Your code here"
   ]
  }
 ],
 "metadata": {
  "kernelspec": {
   "display_name": "etna-utils",
   "language": "python",
   "name": "etna-utils"
  },
  "language_info": {
   "codemirror_mode": {
    "name": "ipython",
    "version": 3
   },
   "file_extension": ".py",
   "mimetype": "text/x-python",
   "name": "python",
   "nbconvert_exporter": "python",
   "pygments_lexer": "ipython3",
   "version": "3.8.6"
  }
 },
 "nbformat": 4,
 "nbformat_minor": 5
}
