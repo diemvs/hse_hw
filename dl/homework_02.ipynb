{
  "cells": [
    {
      "cell_type": "markdown",
      "metadata": {
        "id": "mISIBM3XNSzz"
      },
      "source": [
        "# Домашняя работа 2\n",
        "\n",
        "В этой доамшней работе вам предлагается обучить классификатор, распознающий вид блюда по фотографии. Прямо как на семинаре, только больше разной еды!\n",
        "\n",
        " # Home Work 2\n",
        "\n",
        "In this hw assignment you have to train a classifier to distinguish between different food variations. Just like at our practice, but with more foods variety!"
      ]
    },
    {
      "cell_type": "markdown",
      "metadata": {
        "id": "h5_mxHfUOX5I"
      },
      "source": [
        "## Но сперва... Теория\n",
        "Необходимо решить теоретические задачи, используя Latex, внутри этого ноутбука\n",
        "## But first... Theory\n",
        "Solve the theoretical problems. Type the solutions here, using Latex"
      ]
    },
    {
      "cell_type": "markdown",
      "metadata": {
        "id": "rCq5ribyPmD_"
      },
      "source": [
        "### Задача 1 (2 балла)\n",
        "### Problem 1 (2 points)"
      ]
    },
    {
      "cell_type": "markdown",
      "metadata": {
        "id": "BS6DrYvLOdrj"
      },
      "source": [
        "Посчитайте результат применения операции свертки с ядром K к матрице X. Параметры свертки следующие: stride=2, dilation=2, padding=1 (паддинг осуществляется нулями).\n",
        "\n",
        "Compute the result of convolution operation with kernel K to a matrix X.\n",
        "Convolution params are: stride=2, dilation=2, padding=1 (padding with zeros)\n",
        "\n",
        "\n",
        "$        X = \\begin{bmatrix}\n",
        "        1 & 0 & -4 & 2 \\\\\n",
        "        5 & 2 & 3 & 0 \\\\\n",
        "        -1 & 0 & 1 & 4 \\\\\n",
        "        0 & -3 & 2 & -1\n",
        "    \\end{bmatrix}\n",
        "    K = \\begin{bmatrix}\n",
        "        2 & 1 \\\\\n",
        "        -1 & -2\n",
        "    \\end{bmatrix}\n",
        "$"
      ]
    },
    {
      "cell_type": "markdown",
      "metadata": {
        "id": "-EdMr5zzPwwd"
      },
      "source": [
        "#### Решение ================= Solution\n",
        "\n",
        "$\\left|\\begin{array}{rrrrrr}0 & 0 & 0 & 0 & 0 & 0 \\\\ 0 & 1 & 0 & -4 & 2 & 0 \\\\ 0 & 5 & 2 & 3 & 0 & 0 \\\\ 0 & -1 & 0 & 1 & 4 & 0 \\\\ 0 & 0 & -3 & 2 & -1 & 0 \\\\ 0 & 0 & 0 & 0 & 0 & 0\\end{array}\\right|+\\left|\\begin{array}{cc}2 & 1 \\\\ -1 & -2\\end{array}\\right|=\\left|\\begin{array}{ccc}-4 & -2  \\\\ 8 & 9 \\end{array}\\right|$\n",
        "\n",
        "1) $2 \\cdot(-2)=-4$\n",
        "2) $2 \\cdot(-1)=-2$\n",
        "3) $2 \\cdot 1+(-3) \\cdot(-2)=2+6=8$\n",
        "4) $2 \\cdot 2+(-3) \\cdot(-1)+(-1) \\cdot(-2)=4+3+2=9$\n",
        "\n"
      ]
    },
    {
      "cell_type": "markdown",
      "metadata": {},
      "source": [
        "# Let's check it out"
      ]
    },
    {
      "cell_type": "code",
      "execution_count": 21,
      "metadata": {},
      "outputs": [
        {
          "name": "stdout",
          "output_type": "stream",
          "text": [
            "Output \n",
            " tensor([[[[-4., -2.],\n",
            "          [ 8.,  9.]]]], grad_fn=<ConvolutionBackward0>)\n"
          ]
        }
      ],
      "source": [
        "import torch \n",
        "import torch.nn as nn \n",
        "import torch.nn.functional as F \n",
        " \n",
        "kernel = torch.tensor( \n",
        "    [[2, 1], \n",
        "     [-1, -2]], dtype=torch.float32) \n",
        "\n",
        "kernel = kernel.reshape(1, 1, 2, 2) \n",
        "  \n",
        "image = torch.tensor( \n",
        "    [[1, 0, -4, 2],  \n",
        "     [5, 2, 3, 0],  \n",
        "     [-1, 0, 1, 4], \n",
        "     [0, -3, 2, -1]], dtype=torch.float32)\n",
        "\n",
        "image = image.reshape(1, 1, 4, 4) \n",
        "  \n",
        "conv = nn.Conv2d(\n",
        "    in_channels=1, \n",
        "    out_channels=1, \n",
        "    kernel_size=2, \n",
        "    stride=2, \n",
        "    padding=1, \n",
        "    dilation=2, \n",
        "    bias=False\n",
        ") \n",
        "conv.weight = nn.Parameter(kernel) \n",
        "\n",
        "output = conv(image) \n",
        "\n",
        "print('Output \\n',output)"
      ]
    },
    {
      "cell_type": "markdown",
      "metadata": {
        "id": "dcvuV5ARPpn-"
      },
      "source": [
        "### Задача 2 (2 балла)\n",
        "### Problem 2 (2 points)\n",
        "\n",
        "Посчитайте число обучаемых параметров в нейронной сети, архитектура которой выглядит следующим образом:\n",
        "\n",
        "        model = nn.Sequential(\n",
        "            nn.Conv2d(\n",
        "                in_channels=3, out_channels=16, kernel_size=5,\n",
        "                stride=2, padding=0, dilation=1, bias=True\n",
        "            ),\n",
        "            nn.BatchNorm2d(num_features=16),\n",
        "            nn.LeakyReLU(0.1),\n",
        "            nn.Conv2d(\n",
        "                in_channels=16, out_channels=32, kernel_size=5,\n",
        "                stride=1, padding=1, dilation=2, bias=False\n",
        "            ),\n",
        "            nn.BatchNorm2d(num_features=32),\n",
        "            nn.Sigmoid(),\n",
        "        )\n",
        "  "
      ]
    },
    {
      "cell_type": "code",
      "execution_count": 3,
      "metadata": {},
      "outputs": [
        {
          "ename": "NameError",
          "evalue": "name 'nn' is not defined",
          "output_type": "error",
          "traceback": [
            "\u001b[1;31m---------------------------------------------------------------------------\u001b[0m",
            "\u001b[1;31mNameError\u001b[0m                                 Traceback (most recent call last)",
            "Cell \u001b[1;32mIn[3], line 1\u001b[0m\n\u001b[1;32m----> 1\u001b[0m model \u001b[38;5;241m=\u001b[39m \u001b[43mnn\u001b[49m\u001b[38;5;241m.\u001b[39mSequential(\n\u001b[0;32m      2\u001b[0m             nn\u001b[38;5;241m.\u001b[39mConv2d(\n\u001b[0;32m      3\u001b[0m                 in_channels\u001b[38;5;241m=\u001b[39m\u001b[38;5;241m3\u001b[39m, out_channels\u001b[38;5;241m=\u001b[39m\u001b[38;5;241m16\u001b[39m, kernel_size\u001b[38;5;241m=\u001b[39m\u001b[38;5;241m5\u001b[39m,\n\u001b[0;32m      4\u001b[0m                 stride\u001b[38;5;241m=\u001b[39m\u001b[38;5;241m2\u001b[39m, padding\u001b[38;5;241m=\u001b[39m\u001b[38;5;241m0\u001b[39m, dilation\u001b[38;5;241m=\u001b[39m\u001b[38;5;241m1\u001b[39m, bias\u001b[38;5;241m=\u001b[39m\u001b[38;5;28;01mTrue\u001b[39;00m\n\u001b[0;32m      5\u001b[0m             ),\n\u001b[0;32m      6\u001b[0m             nn\u001b[38;5;241m.\u001b[39mBatchNorm2d(num_features\u001b[38;5;241m=\u001b[39m\u001b[38;5;241m16\u001b[39m),\n\u001b[0;32m      7\u001b[0m             nn\u001b[38;5;241m.\u001b[39mLeakyReLU(\u001b[38;5;241m0.1\u001b[39m),\n\u001b[0;32m      8\u001b[0m             nn\u001b[38;5;241m.\u001b[39mConv2d(\n\u001b[0;32m      9\u001b[0m                 in_channels\u001b[38;5;241m=\u001b[39m\u001b[38;5;241m16\u001b[39m, out_channels\u001b[38;5;241m=\u001b[39m\u001b[38;5;241m32\u001b[39m, kernel_size\u001b[38;5;241m=\u001b[39m\u001b[38;5;241m5\u001b[39m,\n\u001b[0;32m     10\u001b[0m                 stride\u001b[38;5;241m=\u001b[39m\u001b[38;5;241m1\u001b[39m, padding\u001b[38;5;241m=\u001b[39m\u001b[38;5;241m1\u001b[39m, dilation\u001b[38;5;241m=\u001b[39m\u001b[38;5;241m2\u001b[39m, bias\u001b[38;5;241m=\u001b[39m\u001b[38;5;28;01mFalse\u001b[39;00m\n\u001b[0;32m     11\u001b[0m             ),\n\u001b[0;32m     12\u001b[0m             nn\u001b[38;5;241m.\u001b[39mBatchNorm2d(num_features\u001b[38;5;241m=\u001b[39m\u001b[38;5;241m32\u001b[39m),\n\u001b[0;32m     13\u001b[0m             nn\u001b[38;5;241m.\u001b[39mSigmoid(),\n\u001b[0;32m     14\u001b[0m         )\n",
            "\u001b[1;31mNameError\u001b[0m: name 'nn' is not defined"
          ]
        }
      ],
      "source": [
        "model = nn.Sequential(\n",
        "            nn.Conv2d(\n",
        "                in_channels=3, out_channels=16, kernel_size=5,\n",
        "                stride=2, padding=0, dilation=1, bias=True\n",
        "            ),\n",
        "            nn.BatchNorm2d(num_features=16),\n",
        "            nn.LeakyReLU(0.1),\n",
        "            nn.Conv2d(\n",
        "                in_channels=16, out_channels=32, kernel_size=5,\n",
        "                stride=1, padding=1, dilation=2, bias=False\n",
        "            ),\n",
        "            nn.BatchNorm2d(num_features=32),\n",
        "            nn.Sigmoid(),\n",
        "        )"
      ]
    },
    {
      "cell_type": "code",
      "execution_count": 20,
      "metadata": {},
      "outputs": [
        {
          "data": {
            "text/plain": [
              "14112"
            ]
          },
          "execution_count": 20,
          "metadata": {},
          "output_type": "execute_result"
        }
      ],
      "source": [
        "sum([p.numel() for p in model.parameters() if p.requires_grad])"
      ]
    },
    {
      "cell_type": "markdown",
      "metadata": {
        "id": "mNpVQDWMQlIx"
      },
      "source": [
        "#### Решение =================== Solution\n",
        "\n",
        "Вам необходимо расписать решение формулами\n",
        "\n",
        "You need to justify every step\n",
        "\n",
        "### Conv2d\n",
        "\n",
        "![alt text](resources/image.png \"Title\")\n",
        "\n",
        "params = $M (K \\cdot K \\cdot D)+ M =3\\left(5^2-3\\right)+3=228$\n",
        "\n",
        "### BatchNorm2d\n",
        "\n",
        "$y=\\frac{x-\\mathrm{E}[x]}{\\sqrt{\\operatorname{Var}[x]+\\epsilon}} * \\gamma+\\beta$\n",
        "\n",
        "params = 2 ($\\gamma, \\beta$)\n",
        "\n",
        "### LeakyRelu\n",
        "\n",
        "params = 0"
      ]
    },
    {
      "cell_type": "markdown",
      "metadata": {
        "id": "k2CT6EBFZB32"
      },
      "source": [
        "### Практическое задание\n",
        "### Practical problem\n",
        "\n",
        "Вам необходимо решить задачу многоклассовой классификации для датасета Food101\n",
        "\n",
        "Solve multicalss classification problem for Food101 dataset"
      ]
    },
    {
      "cell_type": "markdown",
      "metadata": {
        "id": "NMNmBosHZZ1a"
      },
      "source": [
        "####  Служебный код"
      ]
    },
    {
      "cell_type": "code",
      "execution_count": 4,
      "metadata": {
        "id": "Oc9bGu6KVnbc"
      },
      "outputs": [],
      "source": [
        "import copy\n",
        "import random\n",
        "import os\n",
        "import shutil\n",
        "import tarfile\n",
        "from urllib.request import urlretrieve\n",
        "\n",
        "import numpy as np\n",
        "import pandas as pd\n",
        "import cv2\n",
        "from tqdm import tqdm\n",
        "\n",
        "import torch\n",
        "import torch.nn as nn\n",
        "import torch.optim as optim\n",
        "import torchvision\n",
        "\n",
        "from torchvision import datasets, transforms, models\n",
        "from torch.utils.data import random_split, DataLoader, Dataset\n",
        "\n",
        "pd.set_option('display.max_colwidth', None)"
      ]
    },
    {
      "cell_type": "code",
      "execution_count": 5,
      "metadata": {
        "id": "-JqiFGF0WIpO"
      },
      "outputs": [],
      "source": [
        "class TqdmUpTo(tqdm):\n",
        "    def update_to(self, b=1, bsize=1, tsize=None):\n",
        "        if tsize is not None:\n",
        "            self.total = tsize\n",
        "        self.update(b * bsize - self.n)\n",
        "\n",
        "\n",
        "def download_url(url, filepath):\n",
        "    directory = os.path.dirname(os.path.abspath(filepath))\n",
        "    os.makedirs(directory, exist_ok=True)\n",
        "    if os.path.exists(filepath):\n",
        "        print(\"Filepath already exists. Skipping download.\")\n",
        "        return\n",
        "\n",
        "    with TqdmUpTo(unit=\"B\", unit_scale=True, unit_divisor=1024, miniters=1, desc=os.path.basename(filepath)) as t:\n",
        "        urlretrieve(url, filename=filepath, reporthook=t.update_to, data=None)\n",
        "        t.total = t.n\n",
        "\n",
        "\n",
        "def extract_archive(filepath):\n",
        "    extract_dir = os.path.dirname(os.path.abspath(filepath))\n",
        "    shutil.unpack_archive(filepath, extract_dir)"
      ]
    },
    {
      "cell_type": "code",
      "execution_count": 3,
      "metadata": {
        "id": "H2KjobDKX8aN"
      },
      "outputs": [],
      "source": [
        "url = \"http://data.vision.ee.ethz.ch/cvl/food-101.tar.gz\""
      ]
    },
    {
      "cell_type": "code",
      "execution_count": 6,
      "metadata": {
        "id": "39OM_E4xYAsM"
      },
      "outputs": [],
      "source": [
        "dataset_directory = \"datasets\""
      ]
    },
    {
      "cell_type": "code",
      "execution_count": 14,
      "metadata": {
        "colab": {
          "base_uri": "https://localhost:8080/"
        },
        "id": "-pT_pAf3YBjR",
        "outputId": "226ef6e7-125b-47bb-84ab-b49db12bf40b"
      },
      "outputs": [
        {
          "name": "stdout",
          "output_type": "stream",
          "text": [
            "Filepath already exists. Skipping download.\n",
            "CPU times: total: 5.94 s\n",
            "Wall time: 2min 10s\n"
          ]
        }
      ],
      "source": [
        "filepath = os.path.join(dataset_directory, \"food101.tar.gz\")\n",
        "download_url(\n",
        "    url=url,\n",
        "    filepath=filepath,\n",
        ")\n",
        "%time extract_archive(filepath)"
      ]
    },
    {
      "cell_type": "markdown",
      "metadata": {
        "id": "qA3ihzlPZd9t"
      },
      "source": [
        "### Dataloaders (1 point)\n"
      ]
    },
    {
      "cell_type": "code",
      "execution_count": 7,
      "metadata": {
        "id": "5xpG7szhbAsV"
      },
      "outputs": [],
      "source": [
        "NUM_WORKERS = os.cpu_count()\n",
        "\n",
        "def split_data(dataset, val_size=0.2, seed=42):\n",
        "    \"\"\"\n",
        "    \"\"\"\n",
        "    generator = torch.Generator().manual_seed(seed)\n",
        "    train_data, test_data = random_split(dataset, [1 - val_size, val_size], generator=generator)\n",
        "\n",
        "    return train_data, test_data\n",
        "\n",
        "\n",
        "def create_dataloaders(\n",
        "    data_dir: str,\n",
        "    transform: transforms.Compose,\n",
        "    batch_size: int,\n",
        "    num_workers: int=NUM_WORKERS\n",
        "):\n",
        "  \"\"\"Creates training and testing DataLoaders.\n",
        "\n",
        "  Takes in a training directory and testing directory path and turns\n",
        "  them into PyTorch Datasets and then into PyTorch DataLoaders.\n",
        "\n",
        "  Args:\n",
        "    train_dir: Path to training directory.\n",
        "    test_dir: Path to testing directory.\n",
        "    transform: torchvision transforms to perform on training and testing data.\n",
        "    batch_size: Number of samples per batch in each of the DataLoaders.\n",
        "    num_workers: An integer for number of workers per DataLoader.\n",
        "\n",
        "  Returns:\n",
        "    A tuple of (train_dataloader, test_dataloader, class_names).\n",
        "    Where class_names is a list of the target classes.\n",
        "    Example usage:\n",
        "      train_dataloader, test_dataloader, class_names = \\\n",
        "        = create_dataloaders(train_dir=path/to/train_dir,\n",
        "                             test_dir=path/to/test_dir,\n",
        "                             transform=some_transform,\n",
        "                             batch_size=32,\n",
        "                             num_workers=4)\n",
        "  \"\"\"\n",
        "  # Используйте ImageFolder для создания датасета или напишите свой класс\n",
        "  dataset =  torchvision.datasets.ImageFolder(data_dir, transform=transform)\n",
        "\n",
        "  train_set, test_set = split_data(dataset)\n",
        "\n",
        "  # Get class names\n",
        "  class_names =  dataset.classes\n",
        "\n",
        "  # Turn images into data loaders\n",
        "  train_dataloader = DataLoader(\n",
        "      train_set,                # dataset from which to load the data\n",
        "      batch_size=batch_size,    # how many samples per batch to load\n",
        "      shuffle=True,             # set to True to have the data reshuffled at every epoch\n",
        "      num_workers=num_workers,  # how many subprocesses to use for data loading\n",
        "      pin_memory=True,          # If True, the data loader will copy Tensors into device/CUDA pinned memory before returning them\n",
        "  )\n",
        "  test_dataloader = DataLoader(\n",
        "      test_set,                 # dataset from which to load the data\n",
        "      batch_size=batch_size,    # how many samples per batch to load\n",
        "      shuffle=False,            # set to True to have the data reshuffled at every epoch\n",
        "      num_workers=num_workers,  # how many subprocesses to use for data loading\n",
        "      pin_memory=True,          # If True, the data loader will copy Tensors into device/CUDA pinned memory before returning them\n",
        "  )\n",
        "\n",
        "  return train_dataloader, test_dataloader, class_names"
      ]
    },
    {
      "cell_type": "code",
      "execution_count": 16,
      "metadata": {
        "colab": {
          "base_uri": "https://localhost:8080/"
        },
        "id": "DgoIyH66be1t",
        "outputId": "8a7ccd9e-2b29-4bc5-8f1f-ce109ff3c9be"
      },
      "outputs": [],
      "source": [
        "try:\n",
        "    from torchinfo import summary\n",
        "except:\n",
        "    print(\"[INFO] Couldn't find torchinfo... installing it.\")\n",
        "    !pip install -q torchinfo\n",
        "    from torchinfo import summary"
      ]
    },
    {
      "cell_type": "code",
      "execution_count": 8,
      "metadata": {
        "id": "JBqhTRdwbhEY"
      },
      "outputs": [
        {
          "data": {
            "text/plain": [
              "WindowsPath('datasets/food-101/images')"
            ]
          },
          "execution_count": 8,
          "metadata": {},
          "output_type": "execute_result"
        }
      ],
      "source": [
        "from pathlib import Path\n",
        "\n",
        "data_path = Path(dataset_directory)\n",
        "image_path = data_path / \"food-101\" / \"images\"\n",
        "image_path"
      ]
    },
    {
      "cell_type": "markdown",
      "metadata": {
        "id": "orGmwVF8bhrH"
      },
      "source": [
        " Опишите трасформы. Можно добавить аугментаций для лучшего результата.\n",
        "\n",
        " Можете использовать библиотеку  Albumentation или torchvision\n",
        "\n",
        "  Не забудьте отмасштабировать размер картинов и нормализовать их"
      ]
    },
    {
      "cell_type": "code",
      "execution_count": 10,
      "metadata": {
        "id": "1Inhkzilcy00"
      },
      "outputs": [],
      "source": [
        "# image_size for fit model\n",
        "image_size = 224\n",
        "\n",
        "# Create a transforms pipeline manually (required for torchvision < 0.13)\n",
        "manual_transforms = transforms.Compose([\n",
        "    transforms.Resize((image_size, image_size)), # 1. Reshape all images to 224x224 (though some models may require different sizes)\n",
        "    transforms.ToTensor(), # 2. Turn image values to between 0 & 1\n",
        "    transforms.Normalize(mean=[0.485, 0.456, 0.406], # 3. A mean of [0.485, 0.456, 0.406] (across each colour channel)\n",
        "                         std=[0.229, 0.224, 0.225]) # 4. A standard deviation of [0.229, 0.224, 0.225] (across each colour channel),\n",
        "])\n"
      ]
    },
    {
      "cell_type": "code",
      "execution_count": 11,
      "metadata": {
        "id": "bKN6vif3dZGE"
      },
      "outputs": [
        {
          "data": {
            "text/plain": [
              "['apple_pie',\n",
              " 'baby_back_ribs',\n",
              " 'baklava',\n",
              " 'beef_carpaccio',\n",
              " 'beef_tartare',\n",
              " 'beet_salad',\n",
              " 'beignets',\n",
              " 'bibimbap',\n",
              " 'bread_pudding',\n",
              " 'breakfast_burrito',\n",
              " 'bruschetta',\n",
              " 'caesar_salad',\n",
              " 'cannoli',\n",
              " 'caprese_salad',\n",
              " 'carrot_cake',\n",
              " 'ceviche',\n",
              " 'cheese_plate',\n",
              " 'cheesecake',\n",
              " 'chicken_curry',\n",
              " 'chicken_quesadilla',\n",
              " 'chicken_wings',\n",
              " 'chocolate_cake',\n",
              " 'chocolate_mousse',\n",
              " 'churros',\n",
              " 'clam_chowder',\n",
              " 'club_sandwich',\n",
              " 'crab_cakes',\n",
              " 'creme_brulee',\n",
              " 'croque_madame',\n",
              " 'cup_cakes',\n",
              " 'deviled_eggs',\n",
              " 'donuts',\n",
              " 'dumplings',\n",
              " 'edamame',\n",
              " 'eggs_benedict',\n",
              " 'escargots',\n",
              " 'falafel',\n",
              " 'filet_mignon',\n",
              " 'fish_and_chips',\n",
              " 'foie_gras',\n",
              " 'french_fries',\n",
              " 'french_onion_soup',\n",
              " 'french_toast',\n",
              " 'fried_calamari',\n",
              " 'fried_rice',\n",
              " 'frozen_yogurt',\n",
              " 'garlic_bread',\n",
              " 'gnocchi',\n",
              " 'greek_salad',\n",
              " 'grilled_cheese_sandwich',\n",
              " 'grilled_salmon',\n",
              " 'guacamole',\n",
              " 'gyoza',\n",
              " 'hamburger',\n",
              " 'hot_and_sour_soup',\n",
              " 'hot_dog',\n",
              " 'huevos_rancheros',\n",
              " 'hummus',\n",
              " 'ice_cream',\n",
              " 'lasagna',\n",
              " 'lobster_bisque',\n",
              " 'lobster_roll_sandwich',\n",
              " 'macaroni_and_cheese',\n",
              " 'macarons',\n",
              " 'miso_soup',\n",
              " 'mussels',\n",
              " 'nachos',\n",
              " 'omelette',\n",
              " 'onion_rings',\n",
              " 'oysters',\n",
              " 'pad_thai',\n",
              " 'paella',\n",
              " 'pancakes',\n",
              " 'panna_cotta',\n",
              " 'peking_duck',\n",
              " 'pho',\n",
              " 'pizza',\n",
              " 'pork_chop',\n",
              " 'poutine',\n",
              " 'prime_rib',\n",
              " 'pulled_pork_sandwich',\n",
              " 'ramen',\n",
              " 'ravioli',\n",
              " 'red_velvet_cake',\n",
              " 'risotto',\n",
              " 'samosa',\n",
              " 'sashimi',\n",
              " 'scallops',\n",
              " 'seaweed_salad',\n",
              " 'shrimp_and_grits',\n",
              " 'spaghetti_bolognese',\n",
              " 'spaghetti_carbonara',\n",
              " 'spring_rolls',\n",
              " 'steak',\n",
              " 'strawberry_shortcake',\n",
              " 'sushi',\n",
              " 'tacos',\n",
              " 'takoyaki',\n",
              " 'tiramisu',\n",
              " 'tuna_tartare',\n",
              " 'waffles']"
            ]
          },
          "execution_count": 11,
          "metadata": {},
          "output_type": "execute_result"
        }
      ],
      "source": [
        "# creating dataloaders\n",
        "train_dataloader, test_dataloader, class_names = create_dataloaders(\n",
        "    data_dir=image_path, \n",
        "    transform=manual_transforms,\n",
        "    batch_size=32\n",
        ")\n",
        "class_names"
      ]
    },
    {
      "cell_type": "markdown",
      "metadata": {
        "id": "uUMcR99ldWAH"
      },
      "source": [
        " #### Train function (2 points)\n",
        "\n",
        "\n",
        "Напишите функцию трейна. Мы делали нечто похожее на семинаре"
      ]
    },
    {
      "cell_type": "code",
      "execution_count": 12,
      "metadata": {
        "id": "ZgSH8ruvfDfI"
      },
      "outputs": [],
      "source": [
        "import torch\n",
        "\n",
        "from tqdm.auto import tqdm\n",
        "from typing import Dict, List, Tuple\n",
        "\n",
        "def train_step(model: torch.nn.Module,\n",
        "               dataloader: torch.utils.data.DataLoader,\n",
        "               loss_fn: torch.nn.Module,\n",
        "               optimizer: torch.optim.Optimizer,\n",
        "               device: torch.device) -> Tuple[float, float]:\n",
        "    \"\"\"Trains a PyTorch model for a single epoch.\n",
        "\n",
        "    Turns a target PyTorch model to training mode and then\n",
        "    runs through all of the required training steps (forward\n",
        "    pass, loss calculation, optimizer step).\n",
        "\n",
        "    Args:\n",
        "    model: A PyTorch model to be trained.\n",
        "    dataloader: A DataLoader instance for the model to be trained on.\n",
        "    loss_fn: A PyTorch loss function to minimize.\n",
        "    optimizer: A PyTorch optimizer to help minimize the loss function.\n",
        "    device: A target device to compute on (e.g. \"cuda\" or \"cpu\").\n",
        "\n",
        "    Returns:\n",
        "    A tuple of training loss and training accuracy metrics.\n",
        "    In the form (train_loss, train_accuracy). For example:\n",
        "\n",
        "    (0.1112, 0.8743)\n",
        "    \"\"\"\n",
        "    # Put model in train mode\n",
        "    model.train()\n",
        "\n",
        "    # Setup train loss and train accuracy values\n",
        "    train_loss, train_acc = 0, 0\n",
        "\n",
        "    # Loop through data loader data batches\n",
        "    for batch, (X, y) in enumerate(dataloader):\n",
        "      \n",
        "      # Send data to target device\n",
        "      X, y = X.to(device), y.to(device)\n",
        "\n",
        "      # 1. Forward pass\n",
        "      y_pred = model(X)\n",
        "\n",
        "      # 2. Calculate  and accumulate loss\n",
        "      loss = loss_fn(y_pred, y)\n",
        "      train_loss += loss.item()\n",
        "\n",
        "      # 3. Optimizer zero grad\n",
        "      optimizer.zero_grad()\n",
        "\n",
        "      # 4. Loss backward\n",
        "      loss.backward()\n",
        "\n",
        "      # 5. Optimizer step\n",
        "      optimizer.step()\n",
        "\n",
        "      # Calculate and accumulate accuracy metric across all batches\n",
        "      y_pred_class = torch.argmax(torch.softmax(y_pred, dim=1), dim=1)\n",
        "      train_acc += (y_pred_class == y).sum().item()/len(y_pred)\n",
        "        \n",
        "    # Adjust metrics to get average loss and accuracy per batch\n",
        "    train_loss = train_loss / len(dataloader)\n",
        "    train_acc = train_acc / len(dataloader)\n",
        "    \n",
        "    return train_loss, train_acc\n",
        "\n",
        "def test_step(model: torch.nn.Module,\n",
        "              dataloader: torch.utils.data.DataLoader,\n",
        "              loss_fn: torch.nn.Module,\n",
        "              device: torch.device) -> Tuple[float, float]:\n",
        "    \"\"\"Tests a PyTorch model for a single epoch.\n",
        "\n",
        "    Turns a target PyTorch model to \"eval\" mode and then performs\n",
        "    a forward pass on a testing dataset.\n",
        "\n",
        "    Args:\n",
        "    model: A PyTorch model to be tested.\n",
        "    dataloader: A DataLoader instance for the model to be tested on.\n",
        "    loss_fn: A PyTorch loss function to calculate loss on the test data.\n",
        "    device: A target device to compute on (e.g. \"cuda\" or \"cpu\").\n",
        "\n",
        "    Returns:\n",
        "    A tuple of testing loss and testing accuracy metrics.\n",
        "    In the form (test_loss, test_accuracy). For example:\n",
        "\n",
        "    (0.0223, 0.8985)\n",
        "    \"\"\"\n",
        "    # Put model in eval mode\n",
        "    model.eval()\n",
        "\n",
        "    # Do the rest\n",
        "    # Hint: torch.no_grad() / torch.inference_mode()\n",
        "    \n",
        "    # Setup test loss and test accuracy values\n",
        "    test_loss, test_acc = 0, 0\n",
        "    \n",
        "    # Turn on inference context manager\n",
        "    with torch.inference_mode():\n",
        "      # Loop through DataLoader batches\n",
        "      for batch, (X, y) in enumerate(dataloader):\n",
        "        # Send data to target device\n",
        "        X, y = X.to(device), y.to(device)\n",
        "        \n",
        "        # 1. Forward pass\n",
        "        test_pred_logits = model(X)\n",
        "        \n",
        "        # 2. Calculate and accumulate loss\n",
        "        loss = loss_fn(test_pred_logits, y)\n",
        "        test_loss += loss.item()\n",
        "        \n",
        "        # Calculate and accumulate accuracy\n",
        "        test_pred_labels = test_pred_logits.argmax(dim=1)\n",
        "        test_acc += ((test_pred_labels == y).sum().item()/len(test_pred_labels))\n",
        "        \n",
        "    # Adjust metrics to get average loss and accuracy per batch\n",
        "    test_loss = test_loss / len(dataloader)\n",
        "    test_acc = test_acc / len(dataloader)\n",
        "    return test_loss, test_acc\n",
        "\n",
        "def train(model: torch.nn.Module,\n",
        "          train_dataloader: torch.utils.data.DataLoader,\n",
        "          test_dataloader: torch.utils.data.DataLoader,\n",
        "          optimizer: torch.optim.Optimizer,\n",
        "          loss_fn: torch.nn.Module,\n",
        "          epochs: int,\n",
        "          device: torch.device) -> Dict[str, List]:\n",
        "    \"\"\"Trains and tests a PyTorch model.\n",
        "\n",
        "    Passes a target PyTorch models through train_step() and test_step()\n",
        "    functions for a number of epochs, training and testing the model\n",
        "    in the same epoch loop.\n",
        "\n",
        "    Calculates, prints and stores evaluation metrics throughout.\n",
        "\n",
        "    Args:\n",
        "    model: A PyTorch model to be trained and tested.\n",
        "    train_dataloader: A DataLoader instance for the model to be trained on.\n",
        "    test_dataloader: A DataLoader instance for the model to be tested on.\n",
        "    optimizer: A PyTorch optimizer to help minimize the loss function.\n",
        "    loss_fn: A PyTorch loss function to calculate loss on both datasets.\n",
        "    epochs: An integer indicating how many epochs to train for.\n",
        "    device: A target device to compute on (e.g. \"cuda\" or \"cpu\").\n",
        "\n",
        "    Returns:\n",
        "    A dictionary of training and testing loss as well as training and\n",
        "    testing accuracy metrics. Each metric has a value in a list for\n",
        "    each epoch.\n",
        "    In the form: {train_loss: [...],\n",
        "              train_acc: [...],\n",
        "              test_loss: [...],\n",
        "              test_acc: [...]}\n",
        "    For example if training for epochs=2:\n",
        "             {train_loss: [2.0616, 1.0537],\n",
        "              train_acc: [0.3945, 0.3945],\n",
        "              test_loss: [1.2641, 1.5706],\n",
        "              test_acc: [0.3400, 0.2973]}\n",
        "    \"\"\"\n",
        "    # Create empty results dictionary\n",
        "    results = {\"train_loss\": [],\n",
        "               \"train_acc\": [],\n",
        "               \"test_loss\": [],\n",
        "               \"test_acc\": []\n",
        "    }\n",
        "\n",
        "    # Make sure model on target device\n",
        "    model.to(device)\n",
        "\n",
        "    # Loop through training and testing steps for a number of epochs\n",
        "    for epoch in tqdm(range(epochs)):\n",
        "      \n",
        "      train_loss, train_acc = train_step(model=model,\n",
        "                                          dataloader=train_dataloader,\n",
        "                                          loss_fn=loss_fn,\n",
        "                                          optimizer=optimizer,\n",
        "                                          device=device)\n",
        "      \n",
        "      test_loss, test_acc = test_step(\n",
        "        model=model,\n",
        "        dataloader=test_dataloader,\n",
        "        loss_fn=loss_fn,\n",
        "        device=device)\n",
        "\n",
        "      # Print out what's happening\n",
        "      print(\n",
        "        f\"Epoch: {epoch+1} | \"\n",
        "        f\"train_loss: {train_loss:.4f} | \"\n",
        "        f\"train_acc: {train_acc:.4f} | \"\n",
        "        f\"test_loss: {test_loss:.4f} | \"\n",
        "        f\"test_acc: {test_acc:.4f}\"\n",
        "      )\n",
        "\n",
        "      # Update results dictionary\n",
        "\n",
        "      results[\"train_loss\"].append(train_loss)\n",
        "      results[\"train_acc\"].append(train_acc)\n",
        "      results[\"test_loss\"].append(test_loss)\n",
        "      results[\"test_acc\"].append(test_acc)\n",
        "\n",
        "\n",
        "      torch.save({\n",
        "              'epoch': epochs,\n",
        "              'model_state_dict': model.state_dict(),\n",
        "              'optimizer_state_dict': optimizer.state_dict(),\n",
        "              'loss': loss_fn,\n",
        "              }, f\"{epochs}_iter.pth\")\n",
        "\n",
        "    # Return the filled results at the end of the epochs\n",
        "    return results"
      ]
    },
    {
      "cell_type": "markdown",
      "metadata": {
        "id": "UnIF3Zk0dxMq"
      },
      "source": [
        "Выберете модель из доступных"
      ]
    },
    {
      "cell_type": "code",
      "execution_count": 13,
      "metadata": {},
      "outputs": [
        {
          "data": {
            "text/plain": [
              "EfficientNet_B0_Weights.IMAGENET1K_V1"
            ]
          },
          "execution_count": 13,
          "metadata": {},
          "output_type": "execute_result"
        }
      ],
      "source": [
        "weights = torchvision.models.EfficientNet_B0_Weights.DEFAULT\n",
        "weights"
      ]
    },
    {
      "cell_type": "code",
      "execution_count": 14,
      "metadata": {
        "id": "JFOP2yJAeDjo"
      },
      "outputs": [],
      "source": [
        "torch.cuda.empty_cache()\n",
        "torch.cuda.memory_summary(device=None, abbreviated=False)\n",
        "\n",
        "device = 'cuda' if torch.cuda.is_available() else 'cpu'\n",
        "\n",
        "model = torchvision.models.efficientnet_v2_s(weights='EfficientNet_V2_S_Weights.IMAGENET1K_V1')\n",
        "model = model.to(device)"
      ]
    },
    {
      "cell_type": "markdown",
      "metadata": {},
      "source": [
        "### Let's have a look at the model"
      ]
    },
    {
      "cell_type": "code",
      "execution_count": 17,
      "metadata": {},
      "outputs": [
        {
          "data": {
            "text/plain": [
              "============================================================================================================================================\n",
              "Layer (type (var_name))                                      Input Shape          Output Shape         Param #              Trainable\n",
              "============================================================================================================================================\n",
              "EfficientNet (EfficientNet)                                  [32, 3, 224, 224]    [32, 1000]           --                   True\n",
              "├─Sequential (features)                                      [32, 3, 224, 224]    [32, 1280, 7, 7]     --                   True\n",
              "│    └─Conv2dNormActivation (0)                              [32, 3, 224, 224]    [32, 24, 112, 112]   --                   True\n",
              "│    │    └─Conv2d (0)                                       [32, 3, 224, 224]    [32, 24, 112, 112]   648                  True\n",
              "│    │    └─BatchNorm2d (1)                                  [32, 24, 112, 112]   [32, 24, 112, 112]   48                   True\n",
              "│    │    └─SiLU (2)                                         [32, 24, 112, 112]   [32, 24, 112, 112]   --                   --\n",
              "│    └─Sequential (1)                                        [32, 24, 112, 112]   [32, 24, 112, 112]   --                   True\n",
              "│    │    └─FusedMBConv (0)                                  [32, 24, 112, 112]   [32, 24, 112, 112]   5,232                True\n",
              "│    │    └─FusedMBConv (1)                                  [32, 24, 112, 112]   [32, 24, 112, 112]   5,232                True\n",
              "│    └─Sequential (2)                                        [32, 24, 112, 112]   [32, 48, 56, 56]     --                   True\n",
              "│    │    └─FusedMBConv (0)                                  [32, 24, 112, 112]   [32, 48, 56, 56]     25,632               True\n",
              "│    │    └─FusedMBConv (1)                                  [32, 48, 56, 56]     [32, 48, 56, 56]     92,640               True\n",
              "│    │    └─FusedMBConv (2)                                  [32, 48, 56, 56]     [32, 48, 56, 56]     92,640               True\n",
              "│    │    └─FusedMBConv (3)                                  [32, 48, 56, 56]     [32, 48, 56, 56]     92,640               True\n",
              "│    └─Sequential (3)                                        [32, 48, 56, 56]     [32, 64, 28, 28]     --                   True\n",
              "│    │    └─FusedMBConv (0)                                  [32, 48, 56, 56]     [32, 64, 28, 28]     95,744               True\n",
              "│    │    └─FusedMBConv (1)                                  [32, 64, 28, 28]     [32, 64, 28, 28]     164,480              True\n",
              "│    │    └─FusedMBConv (2)                                  [32, 64, 28, 28]     [32, 64, 28, 28]     164,480              True\n",
              "│    │    └─FusedMBConv (3)                                  [32, 64, 28, 28]     [32, 64, 28, 28]     164,480              True\n",
              "│    └─Sequential (4)                                        [32, 64, 28, 28]     [32, 128, 14, 14]    --                   True\n",
              "│    │    └─MBConv (0)                                       [32, 64, 28, 28]     [32, 128, 14, 14]    61,200               True\n",
              "│    │    └─MBConv (1)                                       [32, 128, 14, 14]    [32, 128, 14, 14]    171,296              True\n",
              "│    │    └─MBConv (2)                                       [32, 128, 14, 14]    [32, 128, 14, 14]    171,296              True\n",
              "│    │    └─MBConv (3)                                       [32, 128, 14, 14]    [32, 128, 14, 14]    171,296              True\n",
              "│    │    └─MBConv (4)                                       [32, 128, 14, 14]    [32, 128, 14, 14]    171,296              True\n",
              "│    │    └─MBConv (5)                                       [32, 128, 14, 14]    [32, 128, 14, 14]    171,296              True\n",
              "│    └─Sequential (5)                                        [32, 128, 14, 14]    [32, 160, 14, 14]    --                   True\n",
              "│    │    └─MBConv (0)                                       [32, 128, 14, 14]    [32, 160, 14, 14]    281,440              True\n",
              "│    │    └─MBConv (1)                                       [32, 160, 14, 14]    [32, 160, 14, 14]    397,800              True\n",
              "│    │    └─MBConv (2)                                       [32, 160, 14, 14]    [32, 160, 14, 14]    397,800              True\n",
              "│    │    └─MBConv (3)                                       [32, 160, 14, 14]    [32, 160, 14, 14]    397,800              True\n",
              "│    │    └─MBConv (4)                                       [32, 160, 14, 14]    [32, 160, 14, 14]    397,800              True\n",
              "│    │    └─MBConv (5)                                       [32, 160, 14, 14]    [32, 160, 14, 14]    397,800              True\n",
              "│    │    └─MBConv (6)                                       [32, 160, 14, 14]    [32, 160, 14, 14]    397,800              True\n",
              "│    │    └─MBConv (7)                                       [32, 160, 14, 14]    [32, 160, 14, 14]    397,800              True\n",
              "│    │    └─MBConv (8)                                       [32, 160, 14, 14]    [32, 160, 14, 14]    397,800              True\n",
              "│    └─Sequential (6)                                        [32, 160, 14, 14]    [32, 256, 7, 7]      --                   True\n",
              "│    │    └─MBConv (0)                                       [32, 160, 14, 14]    [32, 256, 7, 7]      490,152              True\n",
              "│    │    └─MBConv (1)                                       [32, 256, 7, 7]      [32, 256, 7, 7]      1,005,120            True\n",
              "│    │    └─MBConv (2)                                       [32, 256, 7, 7]      [32, 256, 7, 7]      1,005,120            True\n",
              "│    │    └─MBConv (3)                                       [32, 256, 7, 7]      [32, 256, 7, 7]      1,005,120            True\n",
              "│    │    └─MBConv (4)                                       [32, 256, 7, 7]      [32, 256, 7, 7]      1,005,120            True\n",
              "│    │    └─MBConv (5)                                       [32, 256, 7, 7]      [32, 256, 7, 7]      1,005,120            True\n",
              "│    │    └─MBConv (6)                                       [32, 256, 7, 7]      [32, 256, 7, 7]      1,005,120            True\n",
              "│    │    └─MBConv (7)                                       [32, 256, 7, 7]      [32, 256, 7, 7]      1,005,120            True\n",
              "│    │    └─MBConv (8)                                       [32, 256, 7, 7]      [32, 256, 7, 7]      1,005,120            True\n",
              "│    │    └─MBConv (9)                                       [32, 256, 7, 7]      [32, 256, 7, 7]      1,005,120            True\n",
              "│    │    └─MBConv (10)                                      [32, 256, 7, 7]      [32, 256, 7, 7]      1,005,120            True\n",
              "│    │    └─MBConv (11)                                      [32, 256, 7, 7]      [32, 256, 7, 7]      1,005,120            True\n",
              "│    │    └─MBConv (12)                                      [32, 256, 7, 7]      [32, 256, 7, 7]      1,005,120            True\n",
              "│    │    └─MBConv (13)                                      [32, 256, 7, 7]      [32, 256, 7, 7]      1,005,120            True\n",
              "│    │    └─MBConv (14)                                      [32, 256, 7, 7]      [32, 256, 7, 7]      1,005,120            True\n",
              "│    └─Conv2dNormActivation (7)                              [32, 256, 7, 7]      [32, 1280, 7, 7]     --                   True\n",
              "│    │    └─Conv2d (0)                                       [32, 256, 7, 7]      [32, 1280, 7, 7]     327,680              True\n",
              "│    │    └─BatchNorm2d (1)                                  [32, 1280, 7, 7]     [32, 1280, 7, 7]     2,560                True\n",
              "│    │    └─SiLU (2)                                         [32, 1280, 7, 7]     [32, 1280, 7, 7]     --                   --\n",
              "├─AdaptiveAvgPool2d (avgpool)                                [32, 1280, 7, 7]     [32, 1280, 1, 1]     --                   --\n",
              "├─Sequential (classifier)                                    [32, 1280]           [32, 1000]           --                   True\n",
              "│    └─Dropout (0)                                           [32, 1280]           [32, 1280]           --                   --\n",
              "│    └─Linear (1)                                            [32, 1280]           [32, 1000]           1,281,000            True\n",
              "============================================================================================================================================\n",
              "Total params: 21,458,488\n",
              "Trainable params: 21,458,488\n",
              "Non-trainable params: 0\n",
              "Total mult-adds (Units.GIGABYTES): 91.20\n",
              "============================================================================================================================================\n",
              "Input size (MB): 19.27\n",
              "Forward/backward pass size (MB): 6234.30\n",
              "Params size (MB): 85.83\n",
              "Estimated Total Size (MB): 6339.40\n",
              "============================================================================================================================================"
            ]
          },
          "execution_count": 17,
          "metadata": {},
          "output_type": "execute_result"
        }
      ],
      "source": [
        "summary(model=model,\n",
        "        input_size=(32, 3, image_size, image_size), # make sure this is \"input_size\", not \"input_shape\"\n",
        "        # col_names=[\"input_size\"], # uncomment for smaller output\n",
        "        col_names=[\"input_size\", \"output_size\", \"num_params\", \"trainable\"],\n",
        "        col_width=20,\n",
        "        row_settings=[\"var_names\"]\n",
        ")"
      ]
    },
    {
      "cell_type": "markdown",
      "metadata": {
        "id": "3H0pNUrcdmFC"
      },
      "source": [
        "Заморозьте некоторые слои или обучайте модель целиком"
      ]
    },
    {
      "cell_type": "code",
      "execution_count": 30,
      "metadata": {
        "id": "7dBd64QIfGso"
      },
      "outputs": [],
      "source": [
        "###\n",
        "### Выберете слои, через которые не будут течь градиенты\n",
        "###\n",
        "\n",
        "for param in model.features.parameters():\n",
        "    param.requires_grad = False"
      ]
    },
    {
      "cell_type": "code",
      "execution_count": 31,
      "metadata": {},
      "outputs": [],
      "source": [
        "# Set the manual seeds\n",
        "torch.manual_seed(42)\n",
        "torch.cuda.manual_seed(42)\n",
        "\n",
        "# Get the length of class_names (one output unit for each class)\n",
        "output_shape = len(class_names)\n",
        "\n",
        "# Recreate the classifier layer and seed it to the target device\n",
        "model.classifier = torch.nn.Sequential(\n",
        "    torch.nn.Dropout(p=0.2, inplace=True),\n",
        "    torch.nn.Linear(\n",
        "        in_features=1280,\n",
        "        out_features=output_shape, # same number of output units as our number of classes\n",
        "        bias=True\n",
        "        )).to(device)"
      ]
    },
    {
      "cell_type": "markdown",
      "metadata": {
        "id": "flL_v1vXeWc8"
      },
      "source": [
        "### Train (1 point)"
      ]
    },
    {
      "cell_type": "code",
      "execution_count": 18,
      "metadata": {
        "colab": {
          "base_uri": "https://localhost:8080/",
          "height": 448,
          "referenced_widgets": [
            "c743a822ea88493d8e3dd59391309349",
            "94b8ef7854ee485e9c5dba6ad4f3c48c",
            "d0b5c846c70d4170a5e06bac52db26e2",
            "9bc5f73caf0f407f8f0ba00c015e7523",
            "d9f039fd4f754be7ab9a00f7c4d32901",
            "8e79609630ad4adabbd4833d4f180de3",
            "14e74ad928224fa19697f988f3889085",
            "65c300861a74420b88ec27d513a85b6d",
            "b91940d586904ab3beead44e28426367",
            "1ced16e62568401aafd8485155d272fd",
            "865e42ae6b9e4c109a77b1628bb1d1d7"
          ]
        },
        "id": "_-ePldHBfWhQ",
        "outputId": "47e16699-64f7-483a-9576-f04d4bd5c180"
      },
      "outputs": [
        {
          "data": {
            "application/vnd.jupyter.widget-view+json": {
              "model_id": "870e31bb9e4b4a81ae06bf5e23a02add",
              "version_major": 2,
              "version_minor": 0
            },
            "text/plain": [
              "  0%|          | 0/10 [00:00<?, ?it/s]"
            ]
          },
          "metadata": {},
          "output_type": "display_data"
        },
        {
          "name": "stdout",
          "output_type": "stream",
          "text": [
            "Epoch: 1 | train_loss: 1.8204 | train_acc: 0.5414 | test_loss: 1.2346 | test_acc: 0.6745\n",
            "Epoch: 2 | train_loss: 1.1198 | train_acc: 0.6995 | test_loss: 1.1176 | test_acc: 0.7064\n",
            "Epoch: 3 | train_loss: 0.9074 | train_acc: 0.7509 | test_loss: 1.0099 | test_acc: 0.7361\n",
            "Epoch: 4 | train_loss: 0.7473 | train_acc: 0.7908 | test_loss: 1.0013 | test_acc: 0.7426\n",
            "Epoch: 5 | train_loss: 0.6200 | train_acc: 0.8230 | test_loss: 0.9428 | test_acc: 0.7622\n",
            "Epoch: 6 | train_loss: 0.5176 | train_acc: 0.8506 | test_loss: 0.9596 | test_acc: 0.7584\n",
            "Epoch: 7 | train_loss: 0.4360 | train_acc: 0.8700 | test_loss: 1.0084 | test_acc: 0.7589\n",
            "Epoch: 8 | train_loss: 0.3746 | train_acc: 0.8864 | test_loss: 1.0504 | test_acc: 0.7582\n",
            "Epoch: 9 | train_loss: 0.3176 | train_acc: 0.9019 | test_loss: 1.0695 | test_acc: 0.7555\n",
            "Epoch: 10 | train_loss: 0.2828 | train_acc: 0.9122 | test_loss: 1.0785 | test_acc: 0.7642\n",
            "[INFO] Total training time: 4039.308 seconds\n"
          ]
        }
      ],
      "source": [
        "loss_fn = nn.CrossEntropyLoss()\n",
        "optimizer = torch.optim.Adam(model.parameters(), lr=0.001)\n",
        "n_epochs = 10\n",
        "\n",
        "torch.manual_seed(42)\n",
        "torch.cuda.manual_seed(42)\n",
        "\n",
        "# Start the timer\n",
        "from timeit import default_timer as timer\n",
        "start_time = timer()\n",
        "\n",
        "# Setup training and save the results\n",
        "results = train(model=model,\n",
        "                       train_dataloader=train_dataloader,\n",
        "                       test_dataloader=test_dataloader,\n",
        "                       optimizer=optimizer,\n",
        "                       loss_fn=loss_fn,\n",
        "                       epochs=n_epochs,\n",
        "                       device=device)\n",
        "\n",
        "# End the timer and print out how long it took\n",
        "end_time = timer()\n",
        "print(f\"[INFO] Total training time: {end_time-start_time:.3f} seconds\")\n"
      ]
    },
    {
      "cell_type": "markdown",
      "metadata": {
        "id": "EhBmm1IAesFE"
      },
      "source": [
        "### Results (2 points in total)\n",
        "Отрисуйте графики лосса для трейна и валидации\n",
        "\n",
        "Продемонстрируйте работу сетки на каких-нибудь картинках. Помните, что для тестирования лучше иметь отдельный тестовый сет. Для этого либо сами, либо с помощью кода, который был на прошлом семинаре, скачайте несколько фотографий с едой и попробуйте распознать ее.\n",
        "\n",
        "Либо заранее отложите некоторое кол-во фотографий в тестовую выборку. Из кода должно быть понятно, что вы это сделали.\n",
        "\n",
        "Это, например, можно сделать, поделив data_test на две выборки с помощью функции split_data, которая у вас есть\n",
        "\n",
        "\n"
      ]
    },
    {
      "cell_type": "markdown",
      "metadata": {
        "id": "JMBMjAmLgKU8"
      },
      "source": [
        "#### Graphs (1 point)\n",
        "Plot graphs for train and val loss\n",
        "\n",
        "Графикии трейн и вал лосса"
      ]
    },
    {
      "cell_type": "code",
      "execution_count": null,
      "metadata": {
        "id": "ZxajWAGzgQiq"
      },
      "outputs": [],
      "source": []
    },
    {
      "cell_type": "markdown",
      "metadata": {
        "id": "wQxgDiZpgQzP"
      },
      "source": [
        "#### Demonstration (1 point)\n",
        "\n",
        " Покажите качество работы модели, прогнав несколько фотографий через нее"
      ]
    }
  ],
  "metadata": {
    "accelerator": "GPU",
    "colab": {
      "gpuType": "T4",
      "provenance": []
    },
    "kernelspec": {
      "display_name": "Python 3",
      "name": "python3"
    },
    "language_info": {
      "codemirror_mode": {
        "name": "ipython",
        "version": 3
      },
      "file_extension": ".py",
      "mimetype": "text/x-python",
      "name": "python",
      "nbconvert_exporter": "python",
      "pygments_lexer": "ipython3",
      "version": "3.11.7"
    },
    "widgets": {
      "application/vnd.jupyter.widget-state+json": {
        "14e74ad928224fa19697f988f3889085": {
          "model_module": "@jupyter-widgets/controls",
          "model_module_version": "1.5.0",
          "model_name": "DescriptionStyleModel",
          "state": {
            "_model_module": "@jupyter-widgets/controls",
            "_model_module_version": "1.5.0",
            "_model_name": "DescriptionStyleModel",
            "_view_count": null,
            "_view_module": "@jupyter-widgets/base",
            "_view_module_version": "1.2.0",
            "_view_name": "StyleView",
            "description_width": ""
          }
        },
        "1ced16e62568401aafd8485155d272fd": {
          "model_module": "@jupyter-widgets/base",
          "model_module_version": "1.2.0",
          "model_name": "LayoutModel",
          "state": {
            "_model_module": "@jupyter-widgets/base",
            "_model_module_version": "1.2.0",
            "_model_name": "LayoutModel",
            "_view_count": null,
            "_view_module": "@jupyter-widgets/base",
            "_view_module_version": "1.2.0",
            "_view_name": "LayoutView",
            "align_content": null,
            "align_items": null,
            "align_self": null,
            "border": null,
            "bottom": null,
            "display": null,
            "flex": null,
            "flex_flow": null,
            "grid_area": null,
            "grid_auto_columns": null,
            "grid_auto_flow": null,
            "grid_auto_rows": null,
            "grid_column": null,
            "grid_gap": null,
            "grid_row": null,
            "grid_template_areas": null,
            "grid_template_columns": null,
            "grid_template_rows": null,
            "height": null,
            "justify_content": null,
            "justify_items": null,
            "left": null,
            "margin": null,
            "max_height": null,
            "max_width": null,
            "min_height": null,
            "min_width": null,
            "object_fit": null,
            "object_position": null,
            "order": null,
            "overflow": null,
            "overflow_x": null,
            "overflow_y": null,
            "padding": null,
            "right": null,
            "top": null,
            "visibility": null,
            "width": null
          }
        },
        "65c300861a74420b88ec27d513a85b6d": {
          "model_module": "@jupyter-widgets/base",
          "model_module_version": "1.2.0",
          "model_name": "LayoutModel",
          "state": {
            "_model_module": "@jupyter-widgets/base",
            "_model_module_version": "1.2.0",
            "_model_name": "LayoutModel",
            "_view_count": null,
            "_view_module": "@jupyter-widgets/base",
            "_view_module_version": "1.2.0",
            "_view_name": "LayoutView",
            "align_content": null,
            "align_items": null,
            "align_self": null,
            "border": null,
            "bottom": null,
            "display": null,
            "flex": null,
            "flex_flow": null,
            "grid_area": null,
            "grid_auto_columns": null,
            "grid_auto_flow": null,
            "grid_auto_rows": null,
            "grid_column": null,
            "grid_gap": null,
            "grid_row": null,
            "grid_template_areas": null,
            "grid_template_columns": null,
            "grid_template_rows": null,
            "height": null,
            "justify_content": null,
            "justify_items": null,
            "left": null,
            "margin": null,
            "max_height": null,
            "max_width": null,
            "min_height": null,
            "min_width": null,
            "object_fit": null,
            "object_position": null,
            "order": null,
            "overflow": null,
            "overflow_x": null,
            "overflow_y": null,
            "padding": null,
            "right": null,
            "top": null,
            "visibility": null,
            "width": null
          }
        },
        "865e42ae6b9e4c109a77b1628bb1d1d7": {
          "model_module": "@jupyter-widgets/controls",
          "model_module_version": "1.5.0",
          "model_name": "DescriptionStyleModel",
          "state": {
            "_model_module": "@jupyter-widgets/controls",
            "_model_module_version": "1.5.0",
            "_model_name": "DescriptionStyleModel",
            "_view_count": null,
            "_view_module": "@jupyter-widgets/base",
            "_view_module_version": "1.2.0",
            "_view_name": "StyleView",
            "description_width": ""
          }
        },
        "8e79609630ad4adabbd4833d4f180de3": {
          "model_module": "@jupyter-widgets/base",
          "model_module_version": "1.2.0",
          "model_name": "LayoutModel",
          "state": {
            "_model_module": "@jupyter-widgets/base",
            "_model_module_version": "1.2.0",
            "_model_name": "LayoutModel",
            "_view_count": null,
            "_view_module": "@jupyter-widgets/base",
            "_view_module_version": "1.2.0",
            "_view_name": "LayoutView",
            "align_content": null,
            "align_items": null,
            "align_self": null,
            "border": null,
            "bottom": null,
            "display": null,
            "flex": null,
            "flex_flow": null,
            "grid_area": null,
            "grid_auto_columns": null,
            "grid_auto_flow": null,
            "grid_auto_rows": null,
            "grid_column": null,
            "grid_gap": null,
            "grid_row": null,
            "grid_template_areas": null,
            "grid_template_columns": null,
            "grid_template_rows": null,
            "height": null,
            "justify_content": null,
            "justify_items": null,
            "left": null,
            "margin": null,
            "max_height": null,
            "max_width": null,
            "min_height": null,
            "min_width": null,
            "object_fit": null,
            "object_position": null,
            "order": null,
            "overflow": null,
            "overflow_x": null,
            "overflow_y": null,
            "padding": null,
            "right": null,
            "top": null,
            "visibility": null,
            "width": null
          }
        },
        "94b8ef7854ee485e9c5dba6ad4f3c48c": {
          "model_module": "@jupyter-widgets/controls",
          "model_module_version": "1.5.0",
          "model_name": "HTMLModel",
          "state": {
            "_dom_classes": [],
            "_model_module": "@jupyter-widgets/controls",
            "_model_module_version": "1.5.0",
            "_model_name": "HTMLModel",
            "_view_count": null,
            "_view_module": "@jupyter-widgets/controls",
            "_view_module_version": "1.5.0",
            "_view_name": "HTMLView",
            "description": "",
            "description_tooltip": null,
            "layout": "IPY_MODEL_8e79609630ad4adabbd4833d4f180de3",
            "placeholder": "​",
            "style": "IPY_MODEL_14e74ad928224fa19697f988f3889085",
            "value": " 92%"
          }
        },
        "9bc5f73caf0f407f8f0ba00c015e7523": {
          "model_module": "@jupyter-widgets/controls",
          "model_module_version": "1.5.0",
          "model_name": "HTMLModel",
          "state": {
            "_dom_classes": [],
            "_model_module": "@jupyter-widgets/controls",
            "_model_module_version": "1.5.0",
            "_model_name": "HTMLModel",
            "_view_count": null,
            "_view_module": "@jupyter-widgets/controls",
            "_view_module_version": "1.5.0",
            "_view_name": "HTMLView",
            "description": "",
            "description_tooltip": null,
            "layout": "IPY_MODEL_1ced16e62568401aafd8485155d272fd",
            "placeholder": "​",
            "style": "IPY_MODEL_865e42ae6b9e4c109a77b1628bb1d1d7",
            "value": " 23/25 [3:40:15&lt;18:54, 567.48s/it]"
          }
        },
        "b91940d586904ab3beead44e28426367": {
          "model_module": "@jupyter-widgets/controls",
          "model_module_version": "1.5.0",
          "model_name": "ProgressStyleModel",
          "state": {
            "_model_module": "@jupyter-widgets/controls",
            "_model_module_version": "1.5.0",
            "_model_name": "ProgressStyleModel",
            "_view_count": null,
            "_view_module": "@jupyter-widgets/base",
            "_view_module_version": "1.2.0",
            "_view_name": "StyleView",
            "bar_color": null,
            "description_width": ""
          }
        },
        "c743a822ea88493d8e3dd59391309349": {
          "model_module": "@jupyter-widgets/controls",
          "model_module_version": "1.5.0",
          "model_name": "HBoxModel",
          "state": {
            "_dom_classes": [],
            "_model_module": "@jupyter-widgets/controls",
            "_model_module_version": "1.5.0",
            "_model_name": "HBoxModel",
            "_view_count": null,
            "_view_module": "@jupyter-widgets/controls",
            "_view_module_version": "1.5.0",
            "_view_name": "HBoxView",
            "box_style": "",
            "children": [
              "IPY_MODEL_94b8ef7854ee485e9c5dba6ad4f3c48c",
              "IPY_MODEL_d0b5c846c70d4170a5e06bac52db26e2",
              "IPY_MODEL_9bc5f73caf0f407f8f0ba00c015e7523"
            ],
            "layout": "IPY_MODEL_d9f039fd4f754be7ab9a00f7c4d32901"
          }
        },
        "d0b5c846c70d4170a5e06bac52db26e2": {
          "model_module": "@jupyter-widgets/controls",
          "model_module_version": "1.5.0",
          "model_name": "FloatProgressModel",
          "state": {
            "_dom_classes": [],
            "_model_module": "@jupyter-widgets/controls",
            "_model_module_version": "1.5.0",
            "_model_name": "FloatProgressModel",
            "_view_count": null,
            "_view_module": "@jupyter-widgets/controls",
            "_view_module_version": "1.5.0",
            "_view_name": "ProgressView",
            "bar_style": "",
            "description": "",
            "description_tooltip": null,
            "layout": "IPY_MODEL_65c300861a74420b88ec27d513a85b6d",
            "max": 25,
            "min": 0,
            "orientation": "horizontal",
            "style": "IPY_MODEL_b91940d586904ab3beead44e28426367",
            "value": 23
          }
        },
        "d9f039fd4f754be7ab9a00f7c4d32901": {
          "model_module": "@jupyter-widgets/base",
          "model_module_version": "1.2.0",
          "model_name": "LayoutModel",
          "state": {
            "_model_module": "@jupyter-widgets/base",
            "_model_module_version": "1.2.0",
            "_model_name": "LayoutModel",
            "_view_count": null,
            "_view_module": "@jupyter-widgets/base",
            "_view_module_version": "1.2.0",
            "_view_name": "LayoutView",
            "align_content": null,
            "align_items": null,
            "align_self": null,
            "border": null,
            "bottom": null,
            "display": null,
            "flex": null,
            "flex_flow": null,
            "grid_area": null,
            "grid_auto_columns": null,
            "grid_auto_flow": null,
            "grid_auto_rows": null,
            "grid_column": null,
            "grid_gap": null,
            "grid_row": null,
            "grid_template_areas": null,
            "grid_template_columns": null,
            "grid_template_rows": null,
            "height": null,
            "justify_content": null,
            "justify_items": null,
            "left": null,
            "margin": null,
            "max_height": null,
            "max_width": null,
            "min_height": null,
            "min_width": null,
            "object_fit": null,
            "object_position": null,
            "order": null,
            "overflow": null,
            "overflow_x": null,
            "overflow_y": null,
            "padding": null,
            "right": null,
            "top": null,
            "visibility": null,
            "width": null
          }
        }
      }
    }
  },
  "nbformat": 4,
  "nbformat_minor": 0
}
