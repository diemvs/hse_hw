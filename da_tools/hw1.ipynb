{
 "cells": [
  {
   "cell_type": "markdown",
   "metadata": {},
   "source": [
    "### 1. Даны два отсортированных списка, соедините их в один отсортированный список за минимальное возможное кол-во операций\n",
    "\n",
    "\n",
    "    Входные данные: [1,2,3], [3,4,5]\n",
    "    Выходные данные: [1,2,3,3,4,5]\n",
    "\n",
    "    Входные данные: [1,1,1], [1,40,50]\n",
    "    Выходные данные: [1,1,1,1,40,50]"
   ]
  },
  {
   "cell_type": "code",
   "execution_count": 1,
   "metadata": {},
   "outputs": [
    {
     "data": {
      "text/plain": [
       "[1, 2, 3, 3, 4, 5]"
      ]
     },
     "execution_count": 1,
     "metadata": {},
     "output_type": "execute_result"
    }
   ],
   "source": [
    "# Функция, чтобы объединить два отсортированных списка\n",
    "def merge(left_list, right_list):\n",
    "\n",
    "    # Сюда будет записан результирующий отсортированный список\n",
    "    sorted_list = []\n",
    "\n",
    "    # поначалу оба индекса в нуле\n",
    "    left_list_index = right_list_index = 0\n",
    "\n",
    "    # Длина списков часто используется, поэтому создадим переменные для удобства\n",
    "    left_list_length, right_list_length = len(left_list), len(right_list)\n",
    "\n",
    "    # Проходим по всем элементам обоих списков. _ - просто обозначение неиспользуемой переменной\n",
    "    # Цикл нужен, чтобы пройти все left_list_length + right_list_length элементов\n",
    "    for _ in range(left_list_length + right_list_length):\n",
    "        if left_list_index < left_list_length and right_list_index < right_list_length:\n",
    "\n",
    "            # Сравниваем первые элементы в начале каждого списка\n",
    "            # Если первый элемент левого подсписка меньше, добавляем его\n",
    "            # в отсортированный массив\n",
    "            if left_list[left_list_index] <= right_list[right_list_index]:\n",
    "                sorted_list.append(left_list[left_list_index])\n",
    "                left_list_index += 1\n",
    "\n",
    "            # Если первый элемент правого подсписка меньше, добавляем его\n",
    "            # в отсортированный массив\n",
    "            else:\n",
    "                sorted_list.append(right_list[right_list_index])\n",
    "                right_list_index += 1\n",
    "\n",
    "        # Если достигнут конец левого списка, элементы правого списка\n",
    "        # добавляем в конец результирующего списка\n",
    "        elif left_list_index == left_list_length:\n",
    "            sorted_list.append(right_list[right_list_index])\n",
    "            right_list_index += 1\n",
    "\n",
    "        # Если достигнут конец правого списка, элементы левого списка\n",
    "        # добавляем в отсортированный массив\n",
    "        elif right_list_index == right_list_length:\n",
    "            sorted_list.append(left_list[left_list_index])\n",
    "            left_list_index += 1\n",
    "\n",
    "    return sorted_list\n",
    "\n",
    "list_1 = [1, 2, 3]\n",
    "list_2 = [3, 4, 5]\n",
    "\n",
    "merge(list_1, list_2)"
   ]
  },
  {
   "cell_type": "markdown",
   "metadata": {},
   "source": [
    "### 2. Дано натуральное число, что может означать зашифрованное им сообщение\n",
    "\n",
    "\n",
    "Дано натуральное число которое означает последовательность цифр, набранных на кнопочном телефоне (печатали короткую СМСку на русском/английском языке, как вам удобнее). Вывести все варианты того, что может введенная последовательность означать.\n",
    "\n",
    "    Входные данные: digits = \"23\"\n",
    "    Выходные данные: [\"ad\",\"ae\",\"af\",\"bd\",\"be\",\"bf\",\"cd\",\"ce\",\"cf\"]\n",
    "\n",
    "+ усложнение (опциональное). Попробуйте расшифровать наиболее вероятные введенные слова (вопросы можно задавать)"
   ]
  },
  {
   "cell_type": "code",
   "execution_count": 2,
   "metadata": {},
   "outputs": [
    {
     "name": "stdout",
     "output_type": "stream",
     "text": [
      "['ad', 'ae', 'af', 'bd', 'be', 'bf', 'cd', 'ce', 'cf']\n"
     ]
    }
   ],
   "source": [
    "dct = {\n",
    "    '2':'abc', '3':'def', '4': 'ghi',  '5': 'jkl', \n",
    "    '6': 'mno', '7': 'pqrs', '8': 'tuv', '9': 'wxyz'\n",
    "}\n",
    "\n",
    "def translate(digits):\n",
    "    res = []\n",
    "    \n",
    "    def __translateRecFn(digits, word, res):\n",
    "        if digits == '':\n",
    "            res.append(word)\n",
    "            return\n",
    "\n",
    "        for char in dct[digits[0]]:\n",
    "            word += char\n",
    "            __translateRecFn(digits[1:], word, res) \n",
    "            word = word[:-1] \n",
    "            \n",
    "    __translateRecFn(str(digits), '', res)\n",
    "    \n",
    "    print(res)\n",
    "    \n",
    "translate(23)"
   ]
  },
  {
   "cell_type": "markdown",
   "metadata": {},
   "source": [
    "### 3. На вход принимается число N.  Выведите на печать следующий паттерн:\n",
    "\n",
    "1\n",
    "\n",
    "1 2\n",
    "\n",
    "1 2 3\n",
    "\n",
    "1 2 3 4\n",
    "\n",
    "...\n",
    "\n",
    "1 ... N"
   ]
  },
  {
   "cell_type": "code",
   "execution_count": 3,
   "metadata": {},
   "outputs": [
    {
     "name": "stdout",
     "output_type": "stream",
     "text": [
      "1\n",
      "\n",
      "12\n",
      "\n",
      "123\n",
      "\n",
      "1234\n",
      "\n",
      "12345\n",
      "\n",
      "123456\n",
      "\n",
      "1234567\n",
      "\n",
      "12345678\n",
      "\n",
      "123456789\n",
      "\n"
     ]
    }
   ],
   "source": [
    "N = 9\n",
    "counter = 1\n",
    "path = ''\n",
    "\n",
    "while (counter <= N):\n",
    "    path += str(counter)\n",
    "    counter += 1\n",
    "    print('{}\\n'.format(path))"
   ]
  },
  {
   "cell_type": "markdown",
   "metadata": {},
   "source": [
    "### 4. Посчитать среднюю метрику X-DSPAM-Confidence для письма. \n",
    "### (Кажется, это что-то похожее на вероятность того, что письмо - не спам)\n",
    "\n",
    "Воспользуйтесь предыдущим кодом, достаньте те строчки, где эта метрика записана и подсчитайте ее среднее значение"
   ]
  },
  {
   "cell_type": "code",
   "execution_count": 24,
   "metadata": {},
   "outputs": [
    {
     "data": {
      "text/plain": [
       "0.8941280467445736"
      ]
     },
     "execution_count": 24,
     "metadata": {},
     "output_type": "execute_result"
    }
   ],
   "source": [
    "import requests\n",
    "\n",
    "conf_value_pattern = '(-?\\d+(\\.\\d*)?)|(-?\\.\\d+)'\n",
    "\n",
    "p = re.compile(conf_value_pattern)\n",
    "\n",
    "result = []\n",
    "\n",
    "info_request = requests.get('http://www.py4inf.com/code/mbox.txt').text\n",
    "for line in info_request.splitlines():\n",
    "    if line.startswith('X-DSPAM-Confidence:'):\n",
    "        conf = p.search(line)\n",
    "        result.append(float(conf.group()))\n",
    "        \n",
    "sum(result) / len(result)"
   ]
  },
  {
   "cell_type": "markdown",
   "metadata": {},
   "source": [
    "### 5. Объединение словарей\n",
    "\n",
    "Напишите программу, которая подсчитывает значения из произвольного списка словарей следующего вида.\n",
    "\n",
    "Ввод:\n",
    "\n",
    "    shops = [{'товар': 'яблоки', 'количество': 400}, {'товар': 'конфеты', 'количество': 300}, {'товар': 'яблоки', 'количество': 750}]\n",
    "\n",
    "\n",
    "Вывод:\n",
    "\n",
    "    {'яблоки': 1150, 'конфеты': 300}"
   ]
  },
  {
   "cell_type": "code",
   "execution_count": 18,
   "metadata": {},
   "outputs": [
    {
     "data": {
      "text/plain": [
       "{'яблоки': 1150, 'конфеты': 300}"
      ]
     },
     "execution_count": 18,
     "metadata": {},
     "output_type": "execute_result"
    }
   ],
   "source": [
    "shops = [\n",
    "    {\n",
    "        'товар': 'яблоки', \n",
    "        'количество': 400\n",
    "    }, \n",
    "    {\n",
    "        'товар': 'конфеты', \n",
    "        'количество': 300\n",
    "    }, \n",
    "    {\n",
    "        'товар': 'яблоки', \n",
    "        'количество': 750\n",
    "    }\n",
    "]\n",
    "\n",
    "count_dict = {}\n",
    "\n",
    "for shop in shops:\n",
    "    key = shop['товар']\n",
    "    \n",
    "    if(key in count_dict):\n",
    "        count_dict[key] += shop['количество']\n",
    "    else:\n",
    "        count_dict[key] = shop['количество']\n",
    "    \n",
    "count_dict"
   ]
  },
  {
   "cell_type": "markdown",
   "metadata": {},
   "source": [
    "### 6. Про Поросёнка Петра\n",
    "\n",
    "На плоскости в точке (0,0) стоит Поросёнок Пётр. Он умеет ходить налево, направо, вверх и вниз. Расстояние его прохода в какую-либо сторону измеряется в шагах. Когда он идет вправо, его первая координата увеличивается, когда влево - уменьшается. Когда он идет вверх, его вторая координата увеличивается, а когда вниз - уменьшается. \n",
    "\n",
    "С клавиатуры считывается число N - число ходов, которые сделает Пётр. После чего на каждом шаге спрашивается, сколько шагов и в какую сторону за этот ход Пётр сделает. Так происходит, пока Пётр не осуществит все N ходов.\n",
    "\n",
    "Программа должна вывести, сколько шагов Пётр должен был бы сделать, чтобы кратчайшим путем прибыть из свое начальной точки (0,0) в свою конечную точку. Напоминание: Пётр умеет ходить только вверх-вниз, и влево-вправо, но не по диагонали.\n",
    "\n",
    "Пример ввода: \n",
    "\n",
    "    Введите N: 3\n",
    "    Ход 1: Вверх 1\n",
    "    Ход 2: Вниз 1\n",
    "    Ход 3: Вверх 1\n",
    "    \n",
    "Пример вывода:\n",
    "\n",
    "    Пётр находится на расстоянии 1 от (0,0)"
   ]
  },
  {
   "cell_type": "code",
   "execution_count": 83,
   "metadata": {},
   "outputs": [
    {
     "name": "stdout",
     "output_type": "stream",
     "text": [
      "Введите N (число ходов:)3\n",
      "Ход 1: Вверх 1\n",
      "Ход 2: Вниз 1\n",
      "Ход 3: Вверх 1\n",
      "Петр находится на расстоянии 1 от (0,0)\n"
     ]
    }
   ],
   "source": [
    "start_pos = { \n",
    "    'x': 0, \n",
    "    'y': 0 \n",
    "}\n",
    "\n",
    "N = int(input('Введите N (число ходов:)'))\n",
    "\n",
    "for step in range(N):\n",
    "    current_move = input(f'Ход {step + 1}: ')\n",
    "    move_direction, step_count = current_move.split()\n",
    "    if (move_direction == 'Вверх'):\n",
    "        start_pos['y'] += int(step_count)\n",
    "    elif (move_direction == 'Вниз'):\n",
    "        start_pos['y'] -= int(step_count)\n",
    "    elif (move_direction == 'Вправо'):\n",
    "        start_pos['x'] += int(step_count)\n",
    "    elif (move_direction == 'Вправо'):\n",
    "        start_pos['x'] -= int(step_count)\n",
    "\n",
    "x_abs = abs(start_pos['x'])\n",
    "y_abs = abs(start_pos['y'])\n",
    "\n",
    "print(f'Петр находится на расстоянии {x_abs + y_abs } от (0,0)')"
   ]
  },
  {
   "cell_type": "markdown",
   "metadata": {},
   "source": [
    "### 7. Camel Case to snake case\n",
    "\n",
    "Мы уже довольно много говорили про то, что в компаниях могут быть конвенции по обозначению переменных. Что, если вы написали код, а в нем переменные названы в Camel Case а вам требуется snake case? Пожалуй, стоит автоматизировать этот процесс. Напишите функцию, которая переводит название в camel case в название в snake case"
   ]
  },
  {
   "cell_type": "code",
   "execution_count": 49,
   "metadata": {},
   "outputs": [
    {
     "data": {
      "text/plain": [
       "'camel_case_var'"
      ]
     },
     "execution_count": 49,
     "metadata": {},
     "output_type": "execute_result"
    }
   ],
   "source": [
    "#Camel case to snake case\n",
    "v = 'camelCaseVar'\n",
    "import re\n",
    "re.sub(r'(?<!^)(?=[A-Z])', '_', v).lower()"
   ]
  },
  {
   "cell_type": "markdown",
   "metadata": {},
   "source": [
    "### 8. Про время (время неистово гуглить)\n",
    "Вовочка подготовил одно очень важное письмо, но везде указал неправильное время. \n",
    "Поэтому нужно заменить все вхождения времени на строку (TBD). Время — это строка вида HH:MM:SS или HH:MM, в которой HH — число от 00 до 23, а MM и SS — число от 00 до 59."
   ]
  },
  {
   "cell_type": "markdown",
   "metadata": {},
   "source": [
    "Ввод:\n",
    "\n",
    "    Уважаемые! Если вы к 09:00 не вернёте \n",
    "    чемодан, то уже в 09:00:01 я за себя не отвечаю. \n",
    "    PS. С отношением 25:50 всё нормально!\n",
    "    \n",
    "Вывод:\n",
    "\n",
    "    Уважаемые! Если вы к (TBD) не вернёте \n",
    "    чемодан, то уже в (TBD) я за себя не отвечаю. \n",
    "    PS. С отношением 25:50 всё нормально!"
   ]
  },
  {
   "cell_type": "code",
   "execution_count": 95,
   "metadata": {},
   "outputs": [
    {
     "name": "stdout",
     "output_type": "stream",
     "text": [
      "Уважаемые! Если вы к (TBD) не вернёте \n",
      "чемодан, то уже в (TBD) я за себя не отвечаю. \n",
      "PS. С отношением 25:50 всё нормально!\n"
     ]
    }
   ],
   "source": [
    "import re\n",
    "\n",
    "inp = \"\"\"Уважаемые! Если вы к 09:00 не вернёте \n",
    "чемодан, то уже в 09:00:01 я за себя не отвечаю. \n",
    "PS. С отношением 25:50 всё нормально!\"\"\"\n",
    "\n",
    "hh_mm_ss_pattern = '(?:[01]\\d|2[0-3]):(?:[0-5]\\d):(?:[0-5]\\d)'\n",
    "hh_mm_pattern = '(0[0-9]|1[0-9]|2[0-3]):[0-5][0-9]'\n",
    "\n",
    "out = re.sub(f'{hh_mm_ss_pattern}|{hh_mm_pattern}', '(TBD)', inp)\n",
    "\n",
    "print(out)"
   ]
  },
  {
   "cell_type": "markdown",
   "metadata": {},
   "source": [
    "### 9. Про финансовую отчетность (время неистово гуглить)\n",
    "\n",
    "Владимиру потребовалось срочно запутать финансовую документацию. Но так, чтобы это было обратимо. \n",
    "Он не придумал ничего лучше, чем заменить каждое целое число (непрерывную последовательность цифр) на его куб. Помогите ему.\n",
    "\n",
    "Ввод:\n",
    "\n",
    "    Было закуплено 12 единиц техники \n",
    "    по 410.37 рублей.\n",
    "    \n",
    "Вывод:\n",
    "\n",
    "    Было закуплено 1728 единиц техники \n",
    "    по 68921000.50653 рублей."
   ]
  },
  {
   "cell_type": "code",
   "execution_count": 72,
   "metadata": {},
   "outputs": [
    {
     "name": "stdout",
     "output_type": "stream",
     "text": [
      "\n",
      "Было закуплено 1728.0 единиц техники \n",
      "по 69107759.437653 рублей.\n",
      "\n"
     ]
    }
   ],
   "source": [
    "import re\n",
    "\n",
    "inp = \"\"\"\n",
    "Было закуплено 12 единиц техники \n",
    "по 410.37 рублей.\n",
    "\"\"\"\n",
    "\n",
    "float_pattern = '[-+]?(?:\\d*\\.*\\d+)'\n",
    "\n",
    "out = re.sub(float_pattern, lambda i: str(float(i.group())**3), inp)\n",
    "\n",
    "print(out)"
   ]
  },
  {
   "cell_type": "markdown",
   "metadata": {},
   "source": [
    "### 10. Проверим закон Ципфа\n",
    "\n",
    "В 1935, лингвист Джордж Ципф отметил, что в любом большом тексте *n*-тое наиболее часто встречающееся слово появляется с частотой  ~ 1/*n* от частоты наиболее часто встречающегося слова. Это наблюдение получило название *Закона Ципфа*, несмотря на то, что Феликс Ауэрбах заметил это еще в 1913 году.  Если нарисовать частоты слов в произвольном тексте, начиная от самого часто встречающегося, на log-log-графике, они должны приблизительно следовать прямой линии, если закон Ципфа верен.  Проверьте это :) В качестве примера текста предлагается Идиот Достоевского."
   ]
  },
  {
   "cell_type": "code",
   "execution_count": 2,
   "metadata": {},
   "outputs": [
    {
     "data": {
      "text/plain": [
       "(6453, 31004)"
      ]
     },
     "execution_count": 2,
     "metadata": {},
     "output_type": "execute_result"
    }
   ],
   "source": [
    "import re\n",
    "import requests\n",
    "\n",
    "the_idiot_url = 'https://www.gutenberg.org/cache/epub/2638/pg2638-images.html'\n",
    "raw = requests.get(the_idiot_url)\n",
    "txt = raw.text\n",
    "\n",
    "# Индекс начала первой главы\n",
    "start = re.search(r'Towards the end of November', txt).start()\n",
    "# Индекс конца первой главы\n",
    "end = re.search(r'to take a droshky', txt).end()\n",
    "start, end"
   ]
  },
  {
   "cell_type": "code",
   "execution_count": 3,
   "metadata": {},
   "outputs": [],
   "source": [
    "frequency = {}\n",
    "words = re.findall('\\w+', txt[start:end])\n",
    "\n",
    "for word in words:\n",
    "    count = frequency.get(word,0)\n",
    "    frequency[word] = count + 1"
   ]
  },
  {
   "cell_type": "code",
   "execution_count": 4,
   "metadata": {},
   "outputs": [],
   "source": [
    "from operator import itemgetter\n",
    "\n",
    "sorted_freq = {}\n",
    "threshold = 10\n",
    "\n",
    "for key, value in reversed(sorted(frequency.items(), key = itemgetter(1))):\n",
    "    if(value > threshold):\n",
    "        sorted_freq[key] = value"
   ]
  },
  {
   "cell_type": "code",
   "execution_count": 5,
   "metadata": {},
   "outputs": [
    {
     "data": {
      "image/png": "[encoded data removed]",
      "text/plain": [
       "<Figure size 1500x480 with 1 Axes>"
      ]
     },
     "metadata": {},
     "output_type": "display_data"
    }
   ],
   "source": [
    "import matplotlib.pyplot as plt\n",
    "import pandas as pd\n",
    "\n",
    "keys = sorted_freq.keys()\n",
    "values = sorted_freq.values()\n",
    "\n",
    "plt.figure().set_figwidth(15)\n",
    "plt.xticks(rotation = 45)\n",
    "plt.semilogy(keys, values)\n",
    "# plt.loglog(keys, values) ??????????\n",
    "plt.show()"
   ]
  }
 ],
 "metadata": {
  "kernelspec": {
   "display_name": "Python 3 (ipykernel)",
   "language": "python",
   "name": "python3"
  },
  "language_info": {
   "codemirror_mode": {
    "name": "ipython",
    "version": 3
   },
   "file_extension": ".py",
   "mimetype": "text/x-python",
   "name": "python",
   "nbconvert_exporter": "python",
   "pygments_lexer": "ipython3",
   "version": "3.11.4"
  }
 },
 "nbformat": 4,
 "nbformat_minor": 4
}
