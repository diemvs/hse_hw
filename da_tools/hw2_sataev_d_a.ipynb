{
 "cells": [
  {
   "cell_type": "markdown",
   "metadata": {},
   "source": [
    "# Блок про подсчет кардинальности множеств"
   ]
  },
  {
   "cell_type": "markdown",
   "metadata": {},
   "source": [
    "### Реализовать алгоритм [Флажоле-Мартена](https://en.wikipedia.org/wiki/Flajolet–Martin_algorithm)\n",
    "\n",
    "\n",
    "1) Считаем нули в голове хеша\n",
    "\n",
    "2) Считаем максимум\n",
    "\n",
    "3) Вычисляем оценку для кол-ва элементов\n",
    "\n",
    "\n",
    "### Оценить ошибку алгоритма в зависимости от кол-ва уникальных элементовё\n",
    "\n",
    "1) Генерируем случайный список из N уникальных элементов с повторениями (например как в ячейке ниже)\n",
    "\n",
    "2) Считаем точное кол-во уников, сравниваем с Флажоле-Мартеном\n"
   ]
  },
  {
   "cell_type": "code",
   "execution_count": 1,
   "metadata": {},
   "outputs": [],
   "source": [
    "import numpy as np\n",
    "\n",
    "PHI = 0.77351\n",
    "L = 10\n",
    "\n",
    "def p_hash(x): \n",
    "    if x == 0: \n",
    "        return 1\n",
    "    coUnt = 0\n",
    "    while x & 1 == 0: \n",
    "        coUnt += 1\n",
    "        x >>= 1\n",
    "    return coUnt\n",
    "\n",
    "assert p_hash(8) == 3\n",
    "assert p_hash(13) == 0\n",
    "\n",
    "def flajolet_martin(dataset):\n",
    "    bitmap = np.zeros(L)\n",
    "\n",
    "    for element in dataset:\n",
    "        i = p_hash(element)\n",
    "        bitmap[i] = 1\n",
    "\n",
    "    r = np.min(np.where(bitmap == 0))\n",
    "    resUlt = (2 ** r / PHI)\n",
    "\n",
    "    print(f'Distinct elements coUnt = {2 ** r}')\n",
    "    print(f'Cardinality = {resUlt}')\n",
    "    return 2 ** r"
   ]
  },
  {
   "cell_type": "code",
   "execution_count": 2,
   "metadata": {},
   "outputs": [],
   "source": [
    "def UniqUe_elements(dataset):\n",
    "    return len(set(dataset))"
   ]
  },
  {
   "cell_type": "code",
   "execution_count": 3,
   "metadata": {},
   "outputs": [
    {
     "name": "stdout",
     "output_type": "stream",
     "text": [
      "Distinct elements coUnt = 16\n",
      "Cardinality = 20.6849297358793\n",
      "False\n",
      "Distinct elements coUnt = 4\n",
      "Cardinality = 5.171232433969825\n",
      "True\n"
     ]
    }
   ],
   "source": [
    "# test 1\n",
    "inpUt1 = [1, 2, 3, 4, 5, 6, 7, 8, 9, 10]\n",
    "print(flajolet_martin(inpUt1) == UniqUe_elements(inpUt1))\n",
    "\n",
    "# test 2\n",
    "inpUt2 = [1, 3, 6, 10, 10]\n",
    "print(flajolet_martin(inpUt2) == UniqUe_elements(inpUt2))"
   ]
  },
  {
   "cell_type": "markdown",
   "metadata": {},
   "source": [
    "# Блок про О-нотацию"
   ]
  },
  {
   "cell_type": "markdown",
   "metadata": {},
   "source": [
    "Дан список рекуррентных соотношений на некоторые алгоритмы. Используя метод Акра-Бацци, найдите сложность алгоритма в О-нотации.\n",
    "\n",
    "\n",
    "1) $T(n) = 2T({n\\over4})+ 3T({n\\over6})+\\Theta(nlogn)$\n",
    "\n",
    "2) $T(n) = 2T({n\\over2})+ {8\\over9}T({3n\\over4})+\\Theta({n^2 \\over logn})$\n",
    "\n",
    "3) $T(n) = T({n\\over2})+ \\Theta({logn})$\n",
    "\n",
    "4) $T(n) = {1\\over2}T({n\\over2})+ \\Theta({1\\over n})$\n",
    "\n",
    "5а) Докажите сложность алгоритма \"медиана медиан\" и поясните, почему использование вместо числа < 5 не дает правильной асимптотики:\n",
    "\n",
    "5b) Эмпирически покажите, что алгоритм \"медиана медиан\" работает хуже по времени для деления на отрезки длины 3 и 7. (генерируете случайный список длины l, ищете медиану, замеряете время при различных способах разделения на куски - 3,5 и 7)"
   ]
  },
  {
   "cell_type": "markdown",
   "metadata": {},
   "source": [
    "Ниже пытался сделать кодом, но не получилось (╥﹏╥)"
   ]
  },
  {
   "cell_type": "code",
   "execution_count": 27,
   "metadata": {},
   "outputs": [],
   "source": [
    "import sympy as s\n",
    "\n",
    "p = s.Symbol('p')\n",
    "# пример из википедии\n",
    "expr = (s.Rational(3, 4)) ** p + (s.Rational(7/4) * (s.Rational(1, 2) ** p))\n",
    "\n",
    "expr2 = 2 * (s.Rational(1,4)) ** p + 3 * (s.Rational(1, 6)) ** p \n",
    "\n",
    "# No algorithms are implemented to solve eqUation -1 + 3/6**p + 2/4**p\n",
    "# s.solve(s.Eq(expr2, 1)) \n"
   ]
  },
  {
   "cell_type": "markdown",
   "metadata": {},
   "source": [
    "Затем решил сделать руками:"
   ]
  },
  {
   "cell_type": "markdown",
   "metadata": {},
   "source": [
    "**Номер 1**\n",
    "\n",
    "$T(n) = 2T({n\\over4})+ 3T({n\\over6})+\\Theta(nlogn)$\n",
    "\n",
    "1. Найдем p.\n",
    "\n",
    "$2({1\\over4})^p + 3({1\\over6})^p = 1 => p = 1$\n",
    "\n",
    "2. Вычислим интеграл.\n",
    "\n",
    "$\\int^x_1{\\frac{U\\log{U}}{U^2}}{\\rm d}U = \\int^x_1{\\frac{\\log{U}}{U}}{\\rm d}U = \\int^x_1{\\log{U}}{\\rm d}(\\log{U}) = \\frac{\\log^2{x}}{2} $\\\n",
    "\\\n",
    "$T(x) \\in \\Theta(x(1 + \\frac{\\log^2{x}}{2})) = \\Theta(x\\log^2{x})$\n",
    "\n",
    "**Номер 2**\n",
    "\n",
    "$T(n) = 2T({n\\over2})+ {8\\over9}T({3n\\over4})+\\Theta({n^2 \\over logn})$\n",
    "\n",
    "1. Найдем p.\n",
    "\n",
    "$2({1\\over2})^p + {8\\over9}({3\\over4})^p = 1 => p = 2$\n",
    "\n",
    "2. Вычислим интеграл.\n",
    "\n",
    "$\\int\\limits_{\\scriptsize 1}^{\\scriptsize x}{\\frac{U^{2}}{U^{3}\\,\\log\\left(U\\right)}}{\\;\\mathrm{d}U} = \\int\\limits_{\\scriptsize 1}^{\\scriptsize x}{\\frac{1}{U\\,\\log\\left(U\\right)}}{\\;\\mathrm{d}U}=\\int\\limits_{\\scriptsize 1}^{\\scriptsize x}{\\dfrac{1}{\\log\\left(U\\right)}}\\;\\mathrm{d}(\\log\\left(U\\right)) = \\log\\left(\\log\\left(x\\right)\\right)$\n",
    "\n",
    "$T(x) \\in \\Theta(x^2(1 + \\log\\left(\\log\\left(x\\right)\\right))) = \\Theta(x^2)$\n",
    "\n",
    "**Номер 3**\n",
    "\n",
    "$T(n) = T({n\\over2})+ \\Theta({logn})$\n",
    "\n",
    "1. Найдем p.\n",
    "\n",
    "$({1\\over2})^p = 1 => p = 0$\n",
    "\n",
    "2. Вычислим интеграл.\n",
    "\n",
    "$\\int\\limits_{\\scriptsize 1}^{\\scriptsize x}{\\frac{\\log\\left(U\\right)}{U\\,}}{\\;\\mathrm{d}U} = \\frac{\\log^2{x}}{2}$\\\n",
    "\\\n",
    "$T(x) \\in \\Theta(1 + \\frac{\\log^2{x}}{2}) = \\Theta(\\log^2{x})$\n",
    "\n",
    "**Номер 4**\n",
    "\n",
    "$T(n) = {1\\over2}T({n\\over2})+ \\Theta({1\\over n})$\n",
    "\n",
    "1. Найдем p.\n",
    "\n",
    "${1\\over2}({1\\over2})^p = 1 => p = 0$\n",
    "\n",
    "2. Вычислим интеграл.\n",
    "\n",
    "$\\int\\limits_{\\scriptsize 1}^{\\scriptsize x}{\\frac{1}{U^2}}{\\;\\mathrm{d}U} = {1 - {\\frac{1}{x}}}$\n",
    "\n",
    "$T(x) \\in \\Theta(1 + ({1 - {\\frac{1}{x}}})) = \\Theta(1)$"
   ]
  }
 ],
 "metadata": {
  "kernelspec": {
   "display_name": "Python 3 (ipykernel)",
   "language": "python",
   "name": "python3"
  },
  "language_info": {
   "codemirror_mode": {
    "name": "ipython",
    "version": 3
   },
   "file_extension": ".py",
   "mimetype": "text/x-python",
   "name": "python",
   "nbconvert_exporter": "python",
   "pygments_lexer": "ipython3",
   "version": "3.11.4"
  }
 },
 "nbformat": 4,
 "nbformat_minor": 4
}
