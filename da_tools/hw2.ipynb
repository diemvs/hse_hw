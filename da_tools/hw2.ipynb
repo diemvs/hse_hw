{
 "cells": [
  {
   "cell_type": "markdown",
   "metadata": {},
   "source": [
    "# Блок про подсчет кардинальности множеств"
   ]
  },
  {
   "cell_type": "markdown",
   "metadata": {},
   "source": [
    "### Реализовать алгоритм [Флажоле-Мартена](https://en.wikipedia.org/wiki/Flajolet–Martin_algorithm)\n",
    "\n",
    "\n",
    "1) Считаем нули в голове хеша\n",
    "\n",
    "2) Считаем максимум\n",
    "\n",
    "3) Вычисляем оценку для кол-ва элементов\n",
    "\n",
    "\n",
    "### Оценить ошибку алгоритма в зависимости от кол-ва уникальных элементовё\n",
    "\n",
    "1) Генерируем случайный список из N уникальных элементов с повторениями (например как в ячейке ниже)\n",
    "\n",
    "2) Считаем точное кол-во уников, сравниваем с Флажоле-Мартеном\n"
   ]
  },
  {
   "cell_type": "code",
   "execution_count": 171,
   "metadata": {},
   "outputs": [
    {
     "data": {
      "text/plain": [
       "1329051.7482517483"
      ]
     },
     "execution_count": 171,
     "metadata": {},
     "output_type": "execute_result"
    }
   ],
   "source": []
  },
  {
   "cell_type": "markdown",
   "metadata": {},
   "source": [
    "# Блок про О-нотацию"
   ]
  },
  {
   "cell_type": "markdown",
   "metadata": {},
   "source": [
    "Дан список рекуррентных соотношений на некоторые алгоритмы. Используя метод Акра-Бацци, найдите сложность алгоритма в О-нотации.\n",
    "\n",
    "\n",
    "1) $T(n) = 2T({n\\over4})+ 3T({n\\over6})+\\Theta(nlogn)$\n",
    "\n",
    "2) $T(n) = 2T({n\\over2})+ {8\\over9}T({3n\\over4})+\\Theta({n^2 \\over logn})$\n",
    "\n",
    "3) $T(n) = T({n\\over2})+ \\Theta({logn})$\n",
    "\n",
    "4) $T(n) = {1\\over2}T({n\\over2})+ \\Theta({1\\over n})$\n",
    "\n",
    "5а) Докажите сложность алгоритма \"медиана медиан\" и поясните, почему использование вместо числа < 5 не дает правильной асимптотики:\n",
    "\n",
    "5b) Эмпирически покажите, что алгоритм \"медиана медиан\" работает хуже по времени для деления на отрезки длины 3 и 7. (генерируете случайный список длины l, ищете медиану, замеряете время при различных способах разделения на куски - 3,5 и 7)"
   ]
  },
  {
   "cell_type": "code",
   "execution_count": null,
   "metadata": {},
   "outputs": [],
   "source": []
  }
 ],
 "metadata": {
  "kernelspec": {
   "display_name": "Python 3",
   "language": "python",
   "name": "python3"
  },
  "language_info": {
   "codemirror_mode": {
    "name": "ipython",
    "version": 3
   },
   "file_extension": ".py",
   "mimetype": "text/x-python",
   "name": "python",
   "nbconvert_exporter": "python",
   "pygments_lexer": "ipython3",
   "version": "3.8.3"
  }
 },
 "nbformat": 4,
 "nbformat_minor": 4
}
