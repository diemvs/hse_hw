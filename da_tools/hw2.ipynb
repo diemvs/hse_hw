{
 "cells": [
  {
   "cell_type": "markdown",
   "metadata": {},
   "source": [
    "# Блок про подсчет кардинальности множеств"
   ]
  },
  {
   "cell_type": "markdown",
   "metadata": {},
   "source": [
    "### Реализовать алгоритм [Флажоле-Мартена](https://en.wikipedia.org/wiki/Flajolet–Martin_algorithm)\n",
    "\n",
    "\n",
    "1) Считаем нули в голове хеша\n",
    "\n",
    "2) Считаем максимум\n",
    "\n",
    "3) Вычисляем оценку для кол-ва элементов\n",
    "\n",
    "\n",
    "### Оценить ошибку алгоритма в зависимости от кол-ва уникальных элементовё\n",
    "\n",
    "1) Генерируем случайный список из N уникальных элементов с повторениями (например как в ячейке ниже)\n",
    "\n",
    "2) Считаем точное кол-во уников, сравниваем с Флажоле-Мартеном\n"
   ]
  },
  {
   "cell_type": "code",
   "execution_count": 73,
   "metadata": {},
   "outputs": [],
   "source": [
    "import numpy as np\n",
    "\n",
    "PHI = 0.77351\n",
    "L = 20\n",
    "\n",
    "def p_hash(x): \n",
    "    if x == 0: \n",
    "        return 1\n",
    "    count = 0\n",
    "    while x & 1 == 0: \n",
    "        count += 1\n",
    "        x >>= 1\n",
    "    return count\n",
    "\n",
    "assert p_hash(8) == 3\n",
    "assert p_hash(13) == 0\n",
    "\n",
    "def flajolet_martin(dataset):\n",
    "    bitmap = np.zeros(L)\n",
    "\n",
    "    for element in dataset:\n",
    "        i = p_hash(element)\n",
    "        bitmap[i] = 1\n",
    "\n",
    "    r = np.max(np.where(bitmap == 1))\n",
    "    result = (2 ** r / PHI)\n",
    "\n",
    "    print(f'Distinct elements count = {2 ** r}')\n",
    "    print(f'Cardinality = {result}')\n",
    "    return 2 ** r"
   ]
  },
  {
   "cell_type": "code",
   "execution_count": 64,
   "metadata": {},
   "outputs": [],
   "source": [
    "def unique_elements(dataset):\n",
    "    return len(set(dataset))"
   ]
  },
  {
   "cell_type": "code",
   "execution_count": 72,
   "metadata": {},
   "outputs": [
    {
     "name": "stdout",
     "output_type": "stream",
     "text": [
      "Distinct elements count = 16\n",
      "Cardinality = 20.6849297358793\n",
      "False\n",
      "Distinct elements count = 8\n",
      "Cardinality = 10.34246486793965\n",
      "False\n"
     ]
    }
   ],
   "source": [
    "# test 1\n",
    "input1 = [1, 2, 3, 4, 5, 6, 7, 8, 9, 10]\n",
    "print(flajolet_martin(input1) == unique_elements(input1))\n",
    "\n",
    "# test 2\n",
    "input2 = [1, 2, 3, 4]\n",
    "print(flajolet_martin(input2) == unique_elements(input2))"
   ]
  },
  {
   "cell_type": "markdown",
   "metadata": {},
   "source": [
    "# Блок про О-нотацию"
   ]
  },
  {
   "cell_type": "markdown",
   "metadata": {},
   "source": [
    "Дан список рекуррентных соотношений на некоторые алгоритмы. Используя метод Акра-Бацци, найдите сложность алгоритма в О-нотации.\n",
    "\n",
    "\n",
    "1) $T(n) = 2T({n\\over4})+ 3T({n\\over6})+\\Theta(nlogn)$\n",
    "\n",
    "2) $T(n) = 2T({n\\over2})+ {8\\over9}T({3n\\over4})+\\Theta({n^2 \\over logn})$\n",
    "\n",
    "3) $T(n) = T({n\\over2})+ \\Theta({logn})$\n",
    "\n",
    "4) $T(n) = {1\\over2}T({n\\over2})+ \\Theta({1\\over n})$\n",
    "\n",
    "5а) Докажите сложность алгоритма \"медиана медиан\" и поясните, почему использование вместо числа < 5 не дает правильной асимптотики:\n",
    "\n",
    "5b) Эмпирически покажите, что алгоритм \"медиана медиан\" работает хуже по времени для деления на отрезки длины 3 и 7. (генерируете случайный список длины l, ищете медиану, замеряете время при различных способах разделения на куски - 3,5 и 7)"
   ]
  },
  {
   "cell_type": "code",
   "execution_count": 57,
   "metadata": {},
   "outputs": [
    {
     "data": {
      "text/latex": [
       "$\\displaystyle \\left(\\frac{3}{4}\\right)^{p} + \\frac{7 \\cdot 2^{- p}}{4} = 1$"
      ],
      "text/plain": [
       "Eq((3/4)**p + 7/(4*2**p), 1)"
      ]
     },
     "execution_count": 57,
     "metadata": {},
     "output_type": "execute_result"
    }
   ],
   "source": []
  }
 ],
 "metadata": {
  "kernelspec": {
   "display_name": "Python 3 (ipykernel)",
   "language": "python",
   "name": "python3"
  },
  "language_info": {
   "codemirror_mode": {
    "name": "ipython",
    "version": 3
   },
   "file_extension": ".py",
   "mimetype": "text/x-python",
   "name": "python",
   "nbconvert_exporter": "python",
   "pygments_lexer": "ipython3",
   "version": "3.11.4"
  }
 },
 "nbformat": 4,
 "nbformat_minor": 4
}
